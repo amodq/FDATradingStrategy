{
  "nbformat": 4,
  "nbformat_minor": 0,
  "metadata": {
    "colab": {
      "name": "BioTech Notebook",
      "provenance": [],
      "authorship_tag": "ABX9TyMRCUeftRfuoH/2KQaMs9az",
      "include_colab_link": true
    },
    "kernelspec": {
      "name": "python3",
      "display_name": "Python 3"
    },
    "language_info": {
      "name": "python"
    }
  },
  "cells": [
    {
      "cell_type": "markdown",
      "metadata": {
        "id": "view-in-github",
        "colab_type": "text"
      },
      "source": [
        "<a href=\"https://colab.research.google.com/github/amodq/FDATradingStrategy/blob/main/BioTech_Notebook.ipynb\" target=\"_parent\"><img src=\"https://colab.research.google.com/assets/colab-badge.svg\" alt=\"Open In Colab\"/></a>"
      ]
    },
    {
      "cell_type": "code",
      "metadata": {
        "id": "o_eKjwKwq29v",
        "colab": {
          "base_uri": "https://localhost:8080/"
        },
        "outputId": "38d84c1c-0ca1-406e-8032-f558552e3a19"
      },
      "source": [
        "import numpy as np\n",
        "import pandas as pd\n",
        "from re import search\n",
        "!pip install yfinance\n",
        "import yfinance as yf\n"
      ],
      "execution_count": 46,
      "outputs": [
        {
          "output_type": "stream",
          "name": "stdout",
          "text": [
            "Collecting yfinance\n",
            "  Downloading yfinance-0.1.67-py2.py3-none-any.whl (25 kB)\n",
            "Requirement already satisfied: pandas>=0.24 in /usr/local/lib/python3.7/dist-packages (from yfinance) (1.1.5)\n",
            "Requirement already satisfied: multitasking>=0.0.7 in /usr/local/lib/python3.7/dist-packages (from yfinance) (0.0.10)\n",
            "Collecting lxml>=4.5.1\n",
            "  Downloading lxml-4.6.4-cp37-cp37m-manylinux_2_17_x86_64.manylinux2014_x86_64.manylinux_2_24_x86_64.whl (6.3 MB)\n",
            "\u001b[K     |████████████████████████████████| 6.3 MB 8.3 MB/s \n",
            "\u001b[?25hRequirement already satisfied: requests>=2.20 in /usr/local/lib/python3.7/dist-packages (from yfinance) (2.23.0)\n",
            "Requirement already satisfied: numpy>=1.15 in /usr/local/lib/python3.7/dist-packages (from yfinance) (1.19.5)\n",
            "Requirement already satisfied: python-dateutil>=2.7.3 in /usr/local/lib/python3.7/dist-packages (from pandas>=0.24->yfinance) (2.8.2)\n",
            "Requirement already satisfied: pytz>=2017.2 in /usr/local/lib/python3.7/dist-packages (from pandas>=0.24->yfinance) (2018.9)\n",
            "Requirement already satisfied: six>=1.5 in /usr/local/lib/python3.7/dist-packages (from python-dateutil>=2.7.3->pandas>=0.24->yfinance) (1.15.0)\n",
            "Requirement already satisfied: chardet<4,>=3.0.2 in /usr/local/lib/python3.7/dist-packages (from requests>=2.20->yfinance) (3.0.4)\n",
            "Requirement already satisfied: certifi>=2017.4.17 in /usr/local/lib/python3.7/dist-packages (from requests>=2.20->yfinance) (2021.10.8)\n",
            "Requirement already satisfied: urllib3!=1.25.0,!=1.25.1,<1.26,>=1.21.1 in /usr/local/lib/python3.7/dist-packages (from requests>=2.20->yfinance) (1.24.3)\n",
            "Requirement already satisfied: idna<3,>=2.5 in /usr/local/lib/python3.7/dist-packages (from requests>=2.20->yfinance) (2.10)\n",
            "Installing collected packages: lxml, yfinance\n",
            "  Attempting uninstall: lxml\n",
            "    Found existing installation: lxml 4.2.6\n",
            "    Uninstalling lxml-4.2.6:\n",
            "      Successfully uninstalled lxml-4.2.6\n",
            "Successfully installed lxml-4.6.4 yfinance-0.1.67\n"
          ]
        }
      ]
    },
    {
      "cell_type": "code",
      "metadata": {
        "id": "m-h44w_uq-QE",
        "colab": {
          "base_uri": "https://localhost:8080/",
          "height": 200
        },
        "outputId": "fc67fba2-647b-4b77-e85d-016d11ef9dc1"
      },
      "source": [
        "tickerDict = {}\n",
        "with open(\"NYSE.txt\", mode='r') as nyse:\n",
        "  linesn = nyse.readlines()\n",
        "for line in linesn:\n",
        "  line = line[:len(line)-1]\n",
        "  arr = line.split(\"\\t\", 1)\n",
        "  arr[1] = arr[1].upper()\n",
        "  tickerDict[arr[1]] = arr[0];\n",
        "with open(\"NASDAQ.txt\", mode='r') as nas:\n",
        "  linesn = nas.readlines()\n",
        "for line in linesn:\n",
        "  line = line[:len(line)-1]\n",
        "  arr = line.split(\"\\t\", 1)\n",
        "  arr[1] = arr[1].upper()\n",
        "  tickerDict[arr[1]] = arr[0];\n",
        "\n",
        "print(tickerDict['WATSON LABS INC'])"
      ],
      "execution_count": 24,
      "outputs": [
        {
          "output_type": "error",
          "ename": "KeyError",
          "evalue": "ignored",
          "traceback": [
            "\u001b[0;31m---------------------------------------------------------------------------\u001b[0m",
            "\u001b[0;31mKeyError\u001b[0m                                  Traceback (most recent call last)",
            "\u001b[0;32m<ipython-input-24-f01f68fc7fd1>\u001b[0m in \u001b[0;36m<module>\u001b[0;34m()\u001b[0m\n\u001b[1;32m     15\u001b[0m   \u001b[0mtickerDict\u001b[0m\u001b[0;34m[\u001b[0m\u001b[0marr\u001b[0m\u001b[0;34m[\u001b[0m\u001b[0;36m1\u001b[0m\u001b[0;34m]\u001b[0m\u001b[0;34m]\u001b[0m \u001b[0;34m=\u001b[0m \u001b[0marr\u001b[0m\u001b[0;34m[\u001b[0m\u001b[0;36m0\u001b[0m\u001b[0;34m]\u001b[0m\u001b[0;34m;\u001b[0m\u001b[0;34m\u001b[0m\u001b[0;34m\u001b[0m\u001b[0m\n\u001b[1;32m     16\u001b[0m \u001b[0;34m\u001b[0m\u001b[0m\n\u001b[0;32m---> 17\u001b[0;31m \u001b[0mprint\u001b[0m\u001b[0;34m(\u001b[0m\u001b[0mtickerDict\u001b[0m\u001b[0;34m[\u001b[0m\u001b[0;34m'WATSON LABS INC'\u001b[0m\u001b[0;34m]\u001b[0m\u001b[0;34m)\u001b[0m\u001b[0;34m\u001b[0m\u001b[0;34m\u001b[0m\u001b[0m\n\u001b[0m",
            "\u001b[0;31mKeyError\u001b[0m: 'WATSON LABS INC'"
          ]
        }
      ]
    },
    {
      "cell_type": "code",
      "metadata": {
        "id": "ObsXr3RSvpmp",
        "colab": {
          "base_uri": "https://localhost:8080/"
        },
        "outputId": "5ec2e776-b9b8-4835-88b9-13a35fa4be27"
      },
      "source": [
        "## This is the code that goes from company name to ticker symbol with time indexing\n",
        "csv = pd.read_csv('2019-7.csv')\n",
        "\n",
        "factors = pd.read_csv('2019-7.csv')['Company']\n",
        "i = 0\n",
        "'''for index, value in factors.items():\n",
        "    for key in tickerDict.keys():\n",
        "      if search(value, key):\n",
        "        1+1'''\n",
        "\n",
        "csv['year'] = csv['Approval Date'].str[6:10]\n",
        "csv['month'] = csv['Approval Date'].str[3:5]\n",
        "csv['day'] = csv['Approval Date'].str[0:2]\n",
        "x = pd.to_datetime(csv['Approval Date'])\n",
        "csv.index = x\n",
        "print(csv)\n"
      ],
      "execution_count": 107,
      "outputs": [
        {
          "output_type": "stream",
          "name": "stdout",
          "text": [
            "              Approval Date                Drug Name  ... month day\n",
            "Approval Date                                         ...          \n",
            "2019-07-01       07/01/2019     TRUVADANDA   #021752  ...    01  07\n",
            "2019-07-01       07/01/2019     JANUVIANDA   #021995  ...    01  07\n",
            "2019-07-01       07/01/2019     JANUMETNDA   #022044  ...    01  07\n",
            "2019-07-01       07/01/2019      NESINANDA   #022271  ...    01  07\n",
            "2019-07-01       07/01/2019     ONGLYZANDA   #022350  ...    01  07\n",
            "...                     ...                      ...  ...   ...  ..\n",
            "2019-07-31       07/31/2019    LEMTRADABLA   #103948  ...    31  07\n",
            "2019-07-31       07/31/2019     CYRAMZABLA   #125477  ...    31  07\n",
            "2019-07-31       07/31/2019    STIVARGANDA   #203085  ...    31  07\n",
            "2019-07-31       07/31/2019  COLCHICINEANDA  #204461  ...    31  07\n",
            "2019-07-31       07/31/2019     ESBRIETNDA   #208780  ...    31  07\n",
            "\n",
            "[418 rows x 10 columns]\n"
          ]
        }
      ]
    },
    {
      "cell_type": "code",
      "metadata": {
        "colab": {
          "base_uri": "https://localhost:8080/"
        },
        "id": "FbxQ5W8rGERm",
        "outputId": "4de5f201-5044-4694-a75e-1254dbdac1d1"
      },
      "source": [
        "msft = yf.Ticker(\"MSFT\")\n",
        "hist = msft.history(\"5y\")\n",
        "print(hist)\n",
        "\n"
      ],
      "execution_count": 66,
      "outputs": [
        {
          "output_type": "stream",
          "name": "stdout",
          "text": [
            "                  Open        High  ...  Dividends  Stock Splits\n",
            "Date                                ...                         \n",
            "2016-11-28   56.102818   56.735068  ...        0.0             0\n",
            "2016-11-29   56.391051   57.097681  ...        0.0             0\n",
            "2016-11-30   56.586300   56.883829  ...        0.0             0\n",
            "2016-12-01   55.888960   55.926152  ...        0.0             0\n",
            "2016-12-02   54.931287   55.293900  ...        0.0             0\n",
            "...                ...         ...  ...        ...           ...\n",
            "2021-11-19  342.640015  345.100006  ...        0.0             0\n",
            "2021-11-22  344.619995  349.670013  ...        0.0             0\n",
            "2021-11-23  337.049988  339.450012  ...        0.0             0\n",
            "2021-11-24  336.279999  338.160004  ...        0.0             0\n",
            "2021-11-26  334.350006  337.929993  ...        0.0             0\n",
            "\n",
            "[1259 rows x 7 columns]\n"
          ]
        }
      ]
    }
  ]
}
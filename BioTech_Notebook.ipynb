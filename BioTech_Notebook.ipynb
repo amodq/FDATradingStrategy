{
 "cells": [
  {
   "cell_type": "markdown",
   "metadata": {
    "colab_type": "text",
    "id": "view-in-github"
   },
   "source": [
    "<a href=\"https://colab.research.google.com/github/amodq/FDATradingStrategy/blob/main/BioTech_Notebook.ipynb\" target=\"_parent\"><img src=\"https://colab.research.google.com/assets/colab-badge.svg\" alt=\"Open In Colab\"/></a>"
   ]
  },
  {
   "cell_type": "markdown",
   "metadata": {
    "id": "umnOelX7FHjK"
   },
   "source": [
    "Abstract: In this project we take adavantage of the economic catalyst nature of the FDA drug approval, in order to determine optimal trading times. In addition to this, we use fundamental and technical indicators, fed into a convolutional neural net as an image, to better help us tune our entry and exit points. \n",
    "\n",
    "\n",
    "Introduction: There is another part of the market, besides crypto and meme-stocks ala Wall-Street-Bets, that can boast 300 or even 400 percent gains in a matter of days. This highly volatile world of bio-tech can thank the FDA drug approval process for its sharp upturns and downturns. The companies involved range from powerhouses such as Pfizer and Johnson and Johnson, to much smaller companies that often only have one or two drugs in development. \n",
    "These smaller companies fortunes rely on the verdict of the FDA, and as such are subject to enormous swings once the decision comes through. \n",
    "\n",
    "In this project, we use this as the fundamental idea. We either buy or sell the\n",
    "bio-tech stock based on whether the approval catalyst is on the calendar. We then use the second core idea of the project to implement the strategy, the convolutional neural net.\n",
    "\n",
    "My partner and I, saw an article on Towards Data Science, that used technical data, transformed it into a grayscale image, then fed it into the convulutional neural net to classify it either as a buy, sell or a hold. We applied their idea to their dataset, and used the model to find the optimal buy and sell dates a month after the catalyst date. \n",
    "\n",
    "Review of Existing Literature:\n",
    "In the literature, we did not find much in the way of strategy specifically geared towards trading in the biotech space. A lot of the fundamental papers, were either focused on the sector as a whole or a specific stock, not a strategy specifically geared around the bio-tech space.\n",
    "\n",
    "Some of the inspiration for the biotech side of the project came years ago while watching a technical analysis youtube video, then the author mentions catalysts to trade off of such as election results, commodities news, and FDA bio-tech approvals. \n",
    "\n",
    "As for the machine learning aspect, we drew heavily from the both the original paper and the towards data science webpage and github repo (sources will be at the end). We also the keras and pandas packages for implementation.\n",
    "\n",
    "\n",
    "Dataset: We used the FDA drug approval csvs from their publicly available data site, and the yfinance package introduced in the homework. We used the FDA's data because we trying to get data on a FDA process, the approvals. The drug data itself did not need much cleaning, as there are no outliers with a drug being approved. The stock data also did not need any cleaning, because yfinance is very reliable, and we needed all the stock data we could get for training the neural network. Yfinance was used over other securities apis because of its high rate limit scheme, and the fact that it was free. \n",
    "\n",
    "We did exploratory analysis to determine how many years of data to collect and train on, and whether this project was even feasible. The fact that biotech stocks usually rise and fall after their catalysts, as evidenced by the graphs below, shows the potential for this project. \n",
    "\n",
    "\n",
    "Methods: We made a model in order to predict optimal buy/sell times for a short over a small window of time. This was heavily based off of the paper \"Algorithmic Financial Trading with Deep Convolutional Neural Networks: Time Series to Image Conversion Approach\" and Asutosh Nayak's implementation of it. To summarize, treating technical indicators and the time remaining until approval date as pixel values of an image, we can apply a CNN to give an array of confidence values for buy, sell, and hold. Due to a lack of proper hyperparameter tuning and an abundance of hold data over buy and sell, the model prefers to hold every single time. However, we can still implement a strategy by using certain thresholds for buy and sell (for example, if the model's confidence is above .3 for buy, then buy). A strategy is implemented that does this and uses some limits on how many times we can buy each stock. For further work, more hyperparameter tuning / testing of different CNN models / nuanced strategies could be tested. \n",
    "\n",
    "\n",
    "Results:#not yet\n",
    "Conclusion:#after done"
   ]
  },
  {
   "cell_type": "code",
   "execution_count": 240,
   "metadata": {
    "colab": {
     "base_uri": "https://localhost:8080/",
     "height": 626
    },
    "id": "o_eKjwKwq29v",
    "outputId": "692dd0c7-6db2-40b2-b2d7-ff8ece597b12"
   },
   "outputs": [],
   "source": [
    "import numpy as np\n",
    "import pandas as pd\n",
    "from re import search\n",
    "import yfinance as yf\n",
    "import datetime as dt\n",
    "from stockstats import StockDataFrame as sdf\n",
    "from ta import *\n",
    "from ta.momentum import *\n",
    "from ta.trend import *\n",
    "from ta.volume import *\n",
    "from ta.others import *\n",
    "from ta.volatility import *\n",
    "import time\n",
    "from tqdm import tqdm"
   ]
  },
  {
   "cell_type": "code",
   "execution_count": 241,
   "metadata": {
    "colab": {
     "base_uri": "https://localhost:8080/",
     "height": 200
    },
    "id": "m-h44w_uq-QE",
    "outputId": "fc67fba2-647b-4b77-e85d-016d11ef9dc1"
   },
   "outputs": [],
   "source": [
    "# Grab ticker dict\n",
    "tickerDict = {}\n",
    "with open(\"NYSE.txt\", mode='r') as nyse:\n",
    "  linesn = nyse.readlines()\n",
    "for line in linesn:\n",
    "  line = line[:len(line)-1]\n",
    "  arr = line.split(\"\\t\", 1)\n",
    "  arr[1] = arr[1].upper()\n",
    "  tickerDict[arr[1]] = arr[0];\n",
    "with open(\"NASDAQ.txt\", mode='r') as nas:\n",
    "  linesn = nas.readlines()\n",
    "for line in linesn:\n",
    "  line = line[:len(line)-1]\n",
    "  arr = line.split(\"\\t\", 1)\n",
    "  arr[1] = arr[1].upper()\n",
    "  tickerDict[arr[1]] = arr[0];"
   ]
  },
  {
   "cell_type": "code",
   "execution_count": 13,
   "metadata": {
    "colab": {
     "base_uri": "https://localhost:8080/"
    },
    "id": "ObsXr3RSvpmp",
    "outputId": "5ec2e776-b9b8-4835-88b9-13a35fa4be27"
   },
   "outputs": [
    {
     "name": "stderr",
     "output_type": "stream",
     "text": [
      "Skipping line 342: ',' expected after '\"'\n",
      "Skipping line 1180: ',' expected after '\"'\n",
      "Skipping line 1951: ',' expected after '\"'\n",
      "Skipping line 2470: ',' expected after '\"'\n",
      "Skipping line 2802: ',' expected after '\"'\n",
      "Skipping line 3067: ',' expected after '\"'\n",
      "Skipping line 3507: ',' expected after '\"'\n",
      "Skipping line 3991: ',' expected after '\"'\n",
      "Skipping line 4216: ',' expected after '\"'\n",
      "Skipping line 4634: ',' expected after '\"'\n",
      "Skipping line 5088: ',' expected after '\"'\n",
      "Skipping line 5577: ',' expected after '\"'\n",
      "Skipping line 5761: ',' expected after '\"'\n",
      "Skipping line 6131: ',' expected after '\"'\n",
      "Skipping line 6572: ',' expected after '\"'\n",
      "Skipping line 6923: ',' expected after '\"'\n",
      "Skipping line 7156: ',' expected after '\"'\n",
      "Skipping line 7437: ',' expected after '\"'\n",
      "Skipping line 7739: ',' expected after '\"'\n",
      "Skipping line 8047: ',' expected after '\"'\n",
      "Skipping line 8384: ',' expected after '\"'\n",
      "Skipping line 8722: ',' expected after '\"'\n",
      "Skipping line 8966: ',' expected after '\"'\n",
      "Skipping line 9736: ',' expected after '\"'\n",
      "Skipping line 10032: ',' expected after '\"'\n",
      "Skipping line 10315: ',' expected after '\"'\n",
      "Skipping line 10659: ',' expected after '\"'\n",
      "Skipping line 10935: ',' expected after '\"'\n",
      "Skipping line 11425: ',' expected after '\"'\n",
      "Skipping line 11731: ',' expected after '\"'\n",
      "Skipping line 12178: ',' expected after '\"'\n",
      "Skipping line 12580: ',' expected after '\"'\n",
      "Skipping line 12921: ',' expected after '\"'\n",
      "Skipping line 13331: ',' expected after '\"'\n",
      "Skipping line 13785: ',' expected after '\"'\n",
      "Skipping line 14090: ',' expected after '\"'\n",
      "Skipping line 14647: ',' expected after '\"'\n",
      "Skipping line 14960: ',' expected after '\"'\n",
      "Skipping line 15342: ',' expected after '\"'\n",
      "Skipping line 16157: ',' expected after '\"'\n",
      "Skipping line 16643: ',' expected after '\"'\n",
      "Skipping line 17111: ',' expected after '\"'\n",
      "Skipping line 17608: ',' expected after '\"'\n",
      "Skipping line 18216: ',' expected after '\"'\n",
      "Skipping line 18593: ',' expected after '\"'\n",
      "Skipping line 18940: ',' expected after '\"'\n",
      "Skipping line 19270: ',' expected after '\"'\n",
      "Skipping line 19674: ',' expected after '\"'\n",
      "Skipping line 19987: ',' expected after '\"'\n",
      "Skipping line 20369: ',' expected after '\"'\n",
      "Skipping line 21184: ',' expected after '\"'\n",
      "Skipping line 21480: ',' expected after '\"'\n",
      "Skipping line 21763: ',' expected after '\"'\n",
      "Skipping line 22107: ',' expected after '\"'\n",
      "Skipping line 22383: ',' expected after '\"'\n",
      "Skipping line 22873: ',' expected after '\"'\n",
      "Skipping line 23179: ',' expected after '\"'\n",
      "Skipping line 23575: ',' expected after '\"'\n",
      "Skipping line 24006: ',' expected after '\"'\n",
      "Skipping line 24537: ',' expected after '\"'\n",
      "Skipping line 24949: ',' expected after '\"'\n",
      "Skipping line 25409: ',' expected after '\"'\n",
      "Skipping line 25876: ',' expected after '\"'\n",
      "Skipping line 26332: ',' expected after '\"'\n",
      "Skipping line 26843: ',' expected after '\"'\n",
      "Skipping line 27304: ',' expected after '\"'\n",
      "Skipping line 27721: ',' expected after '\"'\n",
      "Skipping line 28219: ',' expected after '\"'\n",
      "Skipping line 28767: ',' expected after '\"'\n",
      "100%|██████████| 28697/28697 [27:22<00:00, 17.47it/s]"
     ]
    },
    {
     "name": "stdout",
     "output_type": "stream",
     "text": [
      "Approval Date\n",
      "2019-01-02       DR REDDYS LABS SA\n",
      "2019-01-02    AUROBINDO PHARMA LTD\n",
      "2019-01-02    AUROBINDO PHARMA LTD\n",
      "2019-01-02      ALEMBIC PHARMS LTD\n",
      "2019-01-02     ALIGNSCIENCE PHARMA\n",
      "Name: Company, dtype: object\n"
     ]
    },
    {
     "name": "stderr",
     "output_type": "stream",
     "text": [
      "\n"
     ]
    },
    {
     "data": {
      "text/html": [
       "<div>\n",
       "<style scoped>\n",
       "    .dataframe tbody tr th:only-of-type {\n",
       "        vertical-align: middle;\n",
       "    }\n",
       "\n",
       "    .dataframe tbody tr th {\n",
       "        vertical-align: top;\n",
       "    }\n",
       "\n",
       "    .dataframe thead th {\n",
       "        text-align: right;\n",
       "    }\n",
       "</style>\n",
       "<table border=\"1\" class=\"dataframe\">\n",
       "  <thead>\n",
       "    <tr style=\"text-align: right;\">\n",
       "      <th></th>\n",
       "      <th>Approval Date</th>\n",
       "      <th>Company</th>\n",
       "    </tr>\n",
       "    <tr>\n",
       "      <th>Approval Date</th>\n",
       "      <th></th>\n",
       "      <th></th>\n",
       "    </tr>\n",
       "  </thead>\n",
       "  <tbody>\n",
       "    <tr>\n",
       "      <th>2019-01-04</th>\n",
       "      <td>01/04/2019</td>\n",
       "      <td>NVS</td>\n",
       "    </tr>\n",
       "    <tr>\n",
       "      <th>2019-01-04</th>\n",
       "      <td>01/04/2019</td>\n",
       "      <td>CTLT</td>\n",
       "    </tr>\n",
       "    <tr>\n",
       "      <th>2019-01-07</th>\n",
       "      <td>01/07/2019</td>\n",
       "      <td>GSK</td>\n",
       "    </tr>\n",
       "    <tr>\n",
       "      <th>2019-01-10</th>\n",
       "      <td>01/10/2019</td>\n",
       "      <td>NVS</td>\n",
       "    </tr>\n",
       "    <tr>\n",
       "      <th>2019-01-10</th>\n",
       "      <td>01/10/2019</td>\n",
       "      <td>NBIX</td>\n",
       "    </tr>\n",
       "  </tbody>\n",
       "</table>\n",
       "</div>"
      ],
      "text/plain": [
       "              Approval Date Company\n",
       "Approval Date                      \n",
       "2019-01-04       01/04/2019     NVS\n",
       "2019-01-04       01/04/2019    CTLT\n",
       "2019-01-07       01/07/2019     GSK\n",
       "2019-01-10       01/10/2019     NVS\n",
       "2019-01-10       01/10/2019    NBIX"
      ]
     },
     "execution_count": 13,
     "metadata": {},
     "output_type": "execute_result"
    }
   ],
   "source": [
    "## This is the code that goes from company name to ticker symbol with time indexing\n",
    "\n",
    "#csv = pd.read_csv('FDA_2019/DrugsFDA FDA-Approved Drugs (1).csv')\n",
    "csv = pd.read_csv('data/combined.csv', error_bad_lines=False, engine=\"python\")\n",
    "\n",
    "#factors = pd.read_csv('FDA_2019/DrugsFDA FDA-Approved Drugs (1).csv')['Company']\n",
    "\n",
    "#for index, value in factors.items():\n",
    "#    for key in tickerDict.keys():\n",
    "#        if search(value, key):\n",
    "#            print(value, key)\n",
    "\n",
    "csv['year'] = csv['Approval Date'].str[6:10]\n",
    "csv['month'] = csv['Approval Date'].str[3:5]\n",
    "csv['day'] = csv['Approval Date'].str[0:2]\n",
    "x = pd.to_datetime(csv['Approval Date'])\n",
    "csv.index = x\n",
    "\n",
    "names = csv['Company']\n",
    "\n",
    "toremove = []\n",
    "\n",
    "for i in tqdm(range(names.shape[0])):\n",
    "    found = False\n",
    "    for key in tickerDict.keys():\n",
    "        if search(names.iloc[i], key):\n",
    "            names.iloc[i] = tickerDict[key]\n",
    "            found = True\n",
    "            break\n",
    "    if not found:\n",
    "        toremove.append(names.iloc[i])\n",
    "\n",
    "print(names.head())\n",
    "            \n",
    "df = pd.concat([csv['Approval Date'], names], axis=1)\n",
    "df = df.loc[df[\"Company\"].isin(toremove) == False]\n",
    "df = df.drop_duplicates()\n",
    "df.head()"
   ]
  },
  {
   "cell_type": "code",
   "execution_count": 14,
   "metadata": {
    "id": "l9VTowRCD4dI"
   },
   "outputs": [
    {
     "name": "stdout",
     "output_type": "stream",
     "text": [
      "              Approval Date Company\n",
      "Approval Date                      \n",
      "2019-01-04       01/04/2019     NVS\n",
      "2019-01-04       01/04/2019    CTLT\n",
      "2019-01-07       01/07/2019     GSK\n",
      "2019-01-10       01/10/2019     NVS\n",
      "2019-01-10       01/10/2019    NBIX\n",
      "...                     ...     ...\n",
      "2020-04-29       04/29/2020     NVS\n",
      "2020-04-29       04/29/2020    CTVA\n",
      "2020-04-29       04/29/2020     GSK\n",
      "2020-04-30       04/30/2020     SNY\n",
      "2020-04-30       04/30/2020    AMGN\n",
      "\n",
      "[2303 rows x 2 columns]\n"
     ]
    }
   ],
   "source": [
    "#CHECKPOINT\n",
    "df.to_csv('approvaldates.csv')\n",
    "print(df)"
   ]
  },
  {
   "cell_type": "code",
   "execution_count": 235,
   "metadata": {
    "id": "aAhnxVIFD4dJ",
    "outputId": "217d1baa-a5f4-434f-d36e-8859d622213a"
   },
   "outputs": [
    {
     "name": "stderr",
     "output_type": "stream",
     "text": [
      "c:\\users\\sukisha\\appdata\\local\\programs\\python\\python39\\lib\\site-packages\\IPython\\core\\interactiveshell.py:3457: FutureWarning: The error_bad_lines argument has been deprecated and will be removed in a future version.\n",
      "\n",
      "\n",
      "  exec(code_obj, self.user_global_ns, self.user_ns)\n"
     ]
    }
   ],
   "source": [
    "df = pd.read_csv('approvaldates.csv', error_bad_lines=False, engine=\"python\")"
   ]
  },
  {
   "cell_type": "code",
   "execution_count": 236,
   "metadata": {
    "id": "lHLp6vcOD4dK"
   },
   "outputs": [],
   "source": [
    "# taken from  nayash / stock_cnn_blog_pub\n",
    "# using a rolling window, desired buy/sell points are labeled based on minima/maxima\n",
    "\n",
    "def create_labels(df, col_name, window_size=11):\n",
    "        \"\"\"\n",
    "        Data is labeled as per the logic in research paper\n",
    "        Label code : BUY => 1, SELL => 0, HOLD => 2\n",
    "        params :\n",
    "            df => Dataframe with data\n",
    "            col_name => name of column which should be used to determine strategy\n",
    "        returns : numpy array with integer codes for labels with\n",
    "                  size = total-(window_size)+1\n",
    "        \"\"\"\n",
    "\n",
    "        row_counter = 0\n",
    "        total_rows = len(df)\n",
    "        labels = np.zeros(total_rows)\n",
    "        labels[:] = np.nan\n",
    "\n",
    "        while row_counter < total_rows:\n",
    "            if row_counter >= window_size - 1:\n",
    "                window_begin = row_counter - (window_size - 1)\n",
    "                window_end = row_counter\n",
    "                window_middle = (int)((window_begin + window_end) / 2)\n",
    "                \n",
    "                min_ = np.inf\n",
    "                min_index = -1\n",
    "                max_ = -np.inf\n",
    "                max_index = -1\n",
    "                for i in range(window_begin, window_end + 1):\n",
    "                    price = df.iloc[i][col_name]\n",
    "                    if price < min_:\n",
    "                        min_ = price\n",
    "                        min_index = i\n",
    "                    if price > max_:\n",
    "                        max_ = price\n",
    "                        max_index = i\n",
    "\n",
    "                if max_index == window_middle:\n",
    "                    labels[window_middle] = 0\n",
    "                elif min_index == window_middle:\n",
    "                    labels[window_middle] = 1\n",
    "                else:\n",
    "                    labels[window_middle] = 2\n",
    "\n",
    "            row_counter = row_counter + 1\n",
    "\n",
    "        return labels"
   ]
  },
  {
   "cell_type": "code",
   "execution_count": 237,
   "metadata": {},
   "outputs": [],
   "source": [
    "# wrappers taken from  nayash / stock_cnn_blog_pub\n",
    "# these wrappers edit the dataframe to add TAs\n",
    "\n",
    "def get_SMA(df, col_name, intervals):\n",
    "    \"\"\"\n",
    "    Momentum indicator\n",
    "    \"\"\"\n",
    "    stime = time.time()\n",
    "    #print(\"Calculating SMA\")\n",
    "    df_ss = sdf.retype(df)\n",
    "    for i in intervals:\n",
    "        df[col_name + '_sma_' + str(i)] = df_ss[col_name + '_' + str(i) + '_sma']\n",
    "\n",
    "def get_EMA(df, col_name, intervals):\n",
    "    \"\"\"\n",
    "    Needs validation\n",
    "    Momentum indicator\n",
    "    \"\"\"\n",
    "    stime = time.time()\n",
    "    #print(\"Calculating EMA\")\n",
    "    df_ss = sdf.retype(df)\n",
    "    for i in intervals:\n",
    "        df['ema_' + str(i)] = df_ss[col_name + '_' + str(i) + '_ema']\n",
    "        del df[col_name + '_' + str(i) + '_ema']\n",
    "        # df[\"ema_\"+str(intervals[0])+'_1'] = ema_indicator(df['close'], i, fillna=True)\n",
    "\n",
    "def get_TRIX(df, col_name, intervals):\n",
    "    \"\"\"\n",
    "    TA lib actually calculates percent rate of change of a triple exponentially\n",
    "    smoothed moving average not Triple EMA.\n",
    "    Momentum indicator\n",
    "    Need validation!\n",
    "    \"\"\"\n",
    "    stime = time.time()\n",
    "    #print(\"Calculating TRIX\")\n",
    "    df_ss = sdf.retype(df)\n",
    "    for i in intervals:\n",
    "        # df['trix_'+str(i)] = df_ss['trix_'+str(i)+'_sma']\n",
    "        df['trix_' + str(i)] = trix(df['close'], i, fillna=True)\n",
    "\n",
    "    # df.drop(columns=['trix','trix_6_sma',])\n",
    "\n",
    "def get_EOM(df, col_name, intervals):\n",
    "    \"\"\"\n",
    "    An Oscillator type indicator and volume type\n",
    "    Ease of Movement : https://www.investopedia.com/terms/e/easeofmovement.asp\n",
    "    \"\"\"\n",
    "    stime = time.time()\n",
    "    #print(\"Calculating EOM\")\n",
    "    for i in intervals:\n",
    "        df['eom_' + str(i)] = ease_of_movement(df['high'], df['low'], df['volume'], n=i, fillna=True)\n",
    "\n",
    "def get_kst(df, col_name, intervals):\n",
    "    \"\"\"\n",
    "    Trend Oscillator type indicator\n",
    "    \"\"\"\n",
    "\n",
    "    stime = time.time()\n",
    "    #print(\"Calculating KST\")\n",
    "    for i in intervals:\n",
    "        df['kst_' + str(i)] = kst(df['close'], i)\n",
    "\n",
    "def get_force_index(df, intervals):\n",
    "    stime = time.time()\n",
    "    #print(\"Calculating Force Index\")\n",
    "    for i in intervals:\n",
    "        df['fi_' + str(i)] = force_index(df['close'], df['volume'], 5, fillna=True)\n",
    "\n",
    "#\n",
    "def get_RSI_smooth(df, col_name, intervals):\n",
    "    \"\"\"\n",
    "    Momentum indicator\n",
    "    As per https://www.investopedia.com/terms/r/rsi.asp\n",
    "    RSI_1 = 100 - (100/ (1 + (avg gain% / avg loss%) ) )\n",
    "    RSI_2 = 100 - (100/ (1 + (prev_avg_gain*13+avg gain% / prev_avg_loss*13 + avg loss%) ) )\n",
    "    E.g. if period==6, first RSI starts from 7th index because difference of first row is NA\n",
    "    http://cns.bu.edu/~gsc/CN710/fincast/Technical%20_indicators/Relative%20Strength%20Index%20(RSI).htm\n",
    "    https://school.stockcharts.com/doku.php?id=technical_indicators:relative_strength_index_rsi\n",
    "    Verified!\n",
    "    \"\"\"\n",
    "\n",
    "    #print(\"Calculating RSI\")\n",
    "    stime = time.time()\n",
    "    prev_rsi = np.inf\n",
    "    prev_avg_gain = np.inf\n",
    "    prev_avg_loss = np.inf\n",
    "    rolling_count = 0\n",
    "\n",
    "    def calculate_RSI(series, period):\n",
    "        # nonlocal rolling_count\n",
    "        nonlocal prev_avg_gain\n",
    "        nonlocal prev_avg_loss\n",
    "        nonlocal rolling_count\n",
    "\n",
    "        # num_gains = (series >= 0).sum()\n",
    "        # num_losses = (series < 0).sum()\n",
    "        # sum_gains = series[series >= 0].sum()\n",
    "        # sum_losses = np.abs(series[series < 0].sum())\n",
    "        curr_gains = series.where(series >= 0, 0)  # replace 0 where series not > 0\n",
    "        curr_losses = np.abs(series.where(series < 0, 0))\n",
    "        avg_gain = curr_gains.sum() / period  # * 100\n",
    "        avg_loss = curr_losses.sum() / period  # * 100\n",
    "        rsi = -1\n",
    "\n",
    "        if rolling_count == 0:\n",
    "            # first RSI calculation\n",
    "            rsi = 100 - (100 / (1 + (avg_gain / avg_loss)))\n",
    "            # print(rolling_count,\"rs1=\",rs, rsi)\n",
    "        else:\n",
    "            # smoothed RSI\n",
    "            # current gain and loss should be used, not avg_gain & avg_loss\n",
    "            rsi = 100 - (100 / (1 + ((prev_avg_gain * (period - 1) + curr_gains.iloc[-1]) /\n",
    "                                     (prev_avg_loss * (period - 1) + curr_losses.iloc[-1]))))\n",
    "            # print(rolling_count,\"rs2=\",rs, rsi)\n",
    "\n",
    "        # df['rsi_'+str(period)+'_own'][period + rolling_count] = rsi\n",
    "        rolling_count = rolling_count + 1\n",
    "        prev_avg_gain = avg_gain\n",
    "        prev_avg_loss = avg_loss\n",
    "        return rsi\n",
    "\n",
    "    diff = df[col_name].diff()[1:]  # skip na\n",
    "    for period in intervals:\n",
    "        df['rsi_' + str(period)] = np.nan\n",
    "        # df['rsi_'+str(period)+'_own_1'] = np.nan\n",
    "        rolling_count = 0\n",
    "        res = diff.rolling(period).apply(calculate_RSI, args=(period,), raw=False)\n",
    "        df['rsi_' + str(period)][1:] = res\n",
    "\n",
    "    # df.drop(['diff'], axis = 1, inplace=True)\n",
    "\n"
   ]
  },
  {
   "cell_type": "code",
   "execution_count": 238,
   "metadata": {},
   "outputs": [
    {
     "name": "stdout",
     "output_type": "stream",
     "text": [
      "(27, 17)\n"
     ]
    },
    {
     "name": "stderr",
     "output_type": "stream",
     "text": [
      "C:\\Users\\sukisha\\AppData\\Local\\Temp/ipykernel_11248/3338743586.py:126: SettingWithCopyWarning: \n",
      "A value is trying to be set on a copy of a slice from a DataFrame\n",
      "\n",
      "See the caveats in the documentation: https://pandas.pydata.org/pandas-docs/stable/user_guide/indexing.html#returning-a-view-versus-a-copy\n",
      "  df['rsi_' + str(period)][1:] = res\n"
     ]
    }
   ],
   "source": [
    "# test TAs\n",
    "dates = pd.to_datetime(df['Approval Date'])\n",
    "\n",
    "ticker = yf.Ticker(\"NVS\")\n",
    "hist = ticker.history( start=dates.iloc[0] - dt.timedelta(7*6), end=dates.iloc[0] + dt.timedelta(7*4))\n",
    "hist.drop(['Dividends', 'Stock Splits'], axis=1, inplace=True)\n",
    "hist['TimeToApproval'] = (dates.iloc[0] - hist.index).days\n",
    "hist['Labels'] = create_labels(hist, 'Open')\n",
    "\n",
    "hist.columns = map(str.lower, hist.columns)\n",
    "\n",
    "\n",
    "get_SMA(hist, 'open', [9,25])\n",
    "get_EMA(hist, 'close', [15])\n",
    "get_kst(hist, 'close', [13,18])\n",
    "get_RSI_smooth(hist, 'close', [6])\n",
    "get_TRIX(hist, 'close', [12, 22])\n",
    "get_force_index(hist, [21, 25])\n",
    "\n",
    "del hist['open' + '_9_sma']\n",
    "del hist['open' + '_25_sma']\n",
    "\n",
    "hist = hist.dropna()\n",
    "print(hist.shape)"
   ]
  },
  {
   "cell_type": "code",
   "execution_count": 239,
   "metadata": {
    "colab": {
     "base_uri": "https://localhost:8080/"
    },
    "id": "FbxQ5W8rGERm",
    "outputId": "4de5f201-5044-4694-a75e-1254dbdac1d1"
   },
   "outputs": [
    {
     "name": "stderr",
     "output_type": "stream",
     "text": [
      "  0%|          | 0/2303 [00:00<?, ?it/s]C:\\Users\\sukisha\\AppData\\Local\\Temp/ipykernel_11248/3338743586.py:126: SettingWithCopyWarning: \n",
      "A value is trying to be set on a copy of a slice from a DataFrame\n",
      "\n",
      "See the caveats in the documentation: https://pandas.pydata.org/pandas-docs/stable/user_guide/indexing.html#returning-a-view-versus-a-copy\n",
      "  df['rsi_' + str(period)][1:] = res\n",
      "  1%|          | 12/2303 [00:02<07:39,  4.99it/s]"
     ]
    },
    {
     "name": "stdout",
     "output_type": "stream",
     "text": [
      "- SCPL: Data doesn't exist for startDate = 1543910400, endDate = 1549958400\n",
      "Yfinance error\n"
     ]
    },
    {
     "name": "stderr",
     "output_type": "stream",
     "text": [
      "  1%|          | 18/2303 [00:03<06:38,  5.73it/s]"
     ]
    },
    {
     "name": "stdout",
     "output_type": "stream",
     "text": [
      "- AMAM: Data doesn't exist for startDate = 1544169600, endDate = 1550217600\n",
      "Yfinance error\n",
      "- SCPL: Data doesn't exist for startDate = 1544169600, endDate = 1550217600\n",
      "Yfinance error\n"
     ]
    },
    {
     "name": "stderr",
     "output_type": "stream",
     "text": [
      "  1%|          | 27/2303 [00:05<06:36,  5.74it/s]"
     ]
    },
    {
     "name": "stdout",
     "output_type": "stream",
     "text": [
      "- SCPL: Data doesn't exist for startDate = 1544774400, endDate = 1550822400\n",
      "Yfinance error\n",
      "- IPHA: Data doesn't exist for startDate = 1544774400, endDate = 1550822400\n",
      "Yfinance error\n"
     ]
    },
    {
     "name": "stderr",
     "output_type": "stream",
     "text": [
      "  2%|▏         | 35/2303 [00:07<08:25,  4.49it/s]"
     ]
    },
    {
     "name": "stdout",
     "output_type": "stream",
     "text": [
      "- OGN: Data doesn't exist for startDate = 1566457200, endDate = 1572505200\n",
      "Yfinance error\n"
     ]
    },
    {
     "name": "stderr",
     "output_type": "stream",
     "text": [
      "  2%|▏         | 38/2303 [00:08<07:31,  5.02it/s]"
     ]
    },
    {
     "name": "stdout",
     "output_type": "stream",
     "text": [
      "- OGN: Data doesn't exist for startDate = 1566543600, endDate = 1572591600\n",
      "Yfinance error\n"
     ]
    },
    {
     "name": "stderr",
     "output_type": "stream",
     "text": [
      "  2%|▏         | 43/2303 [00:09<07:45,  4.85it/s]"
     ]
    },
    {
     "name": "stdout",
     "output_type": "stream",
     "text": [
      "- BMA.U: No data found, symbol may be delisted\n",
      "Yfinance error\n"
     ]
    },
    {
     "name": "stderr",
     "output_type": "stream",
     "text": [
      "  3%|▎         | 78/2303 [00:19<08:23,  4.42it/s]"
     ]
    },
    {
     "name": "stdout",
     "output_type": "stream",
     "text": [
      "- CEL.P: No data found for this date range, symbol may be delisted\n",
      "Yfinance error\n"
     ]
    },
    {
     "name": "stderr",
     "output_type": "stream",
     "text": [
      "  3%|▎         | 80/2303 [00:19<07:16,  5.09it/s]"
     ]
    },
    {
     "name": "stdout",
     "output_type": "stream",
     "text": [
      "- CEL.P: No data found for this date range, symbol may be delisted\n",
      "Yfinance error\n"
     ]
    },
    {
     "name": "stderr",
     "output_type": "stream",
     "text": [
      "  4%|▍         | 94/2303 [00:22<08:11,  4.49it/s]"
     ]
    },
    {
     "name": "stdout",
     "output_type": "stream",
     "text": [
      "- CEL.P: No data found for this date range, symbol may be delisted\n",
      "Yfinance error\n"
     ]
    },
    {
     "name": "stderr",
     "output_type": "stream",
     "text": [
      "  4%|▍         | 99/2303 [00:24<08:03,  4.55it/s]"
     ]
    },
    {
     "name": "stdout",
     "output_type": "stream",
     "text": [
      "- OGN: Data doesn't exist for startDate = 1569481200, endDate = 1575532800\n",
      "Yfinance error\n"
     ]
    },
    {
     "name": "stderr",
     "output_type": "stream",
     "text": [
      "  5%|▍         | 113/2303 [00:27<08:26,  4.32it/s]"
     ]
    },
    {
     "name": "stdout",
     "output_type": "stream",
     "text": [
      "- PANA: Data doesn't exist for startDate = 1570431600, endDate = 1576483200\n",
      "Yfinance error\n"
     ]
    },
    {
     "name": "stderr",
     "output_type": "stream",
     "text": [
      "  5%|▌         | 125/2303 [00:30<07:32,  4.82it/s]"
     ]
    },
    {
     "name": "stdout",
     "output_type": "stream",
     "text": [
      "- CEL.P: No data found for this date range, symbol may be delisted\n",
      "Yfinance error\n"
     ]
    },
    {
     "name": "stderr",
     "output_type": "stream",
     "text": [
      "  7%|▋         | 162/2303 [00:40<07:48,  4.57it/s]"
     ]
    },
    {
     "name": "stdout",
     "output_type": "stream",
     "text": [
      "- CEL.P: No data found for this date range, symbol may be delisted\n",
      "Yfinance error\n"
     ]
    },
    {
     "name": "stderr",
     "output_type": "stream",
     "text": [
      "  7%|▋         | 166/2303 [00:40<07:00,  5.09it/s]"
     ]
    },
    {
     "name": "stdout",
     "output_type": "stream",
     "text": [
      "- OGN: Data doesn't exist for startDate = 1573113600, endDate = 1579161600\n",
      "Yfinance error\n"
     ]
    },
    {
     "name": "stderr",
     "output_type": "stream",
     "text": [
      "  7%|▋         | 172/2303 [00:42<07:41,  4.62it/s]"
     ]
    },
    {
     "name": "stdout",
     "output_type": "stream",
     "text": [
      "- AMYT: Data doesn't exist for startDate = 1573200000, endDate = 1579248000\n",
      "Yfinance error\n"
     ]
    },
    {
     "name": "stderr",
     "output_type": "stream",
     "text": [
      "  8%|▊         | 182/2303 [00:44<07:17,  4.85it/s]"
     ]
    },
    {
     "name": "stdout",
     "output_type": "stream",
     "text": [
      "- CEL.P: No data found for this date range, symbol may be delisted\n",
      "Yfinance error\n"
     ]
    },
    {
     "name": "stderr",
     "output_type": "stream",
     "text": [
      "  8%|▊         | 187/2303 [00:46<07:19,  4.81it/s]"
     ]
    },
    {
     "name": "stdout",
     "output_type": "stream",
     "text": [
      "- SCPL: Data doesn't exist for startDate = 1545724800, endDate = 1551772800\n",
      "Yfinance error\n"
     ]
    },
    {
     "name": "stderr",
     "output_type": "stream",
     "text": [
      "  9%|▉         | 208/2303 [00:51<07:51,  4.44it/s]"
     ]
    },
    {
     "name": "stdout",
     "output_type": "stream",
     "text": [
      "- SCPL: Data doesn't exist for startDate = 1547193600, endDate = 1553238000\n",
      "Yfinance error\n"
     ]
    },
    {
     "name": "stderr",
     "output_type": "stream",
     "text": [
      "  9%|▉         | 215/2303 [00:52<06:14,  5.57it/s]"
     ]
    },
    {
     "name": "stdout",
     "output_type": "stream",
     "text": [
      "- OGN: Data doesn't exist for startDate = 1547798400, endDate = 1553842800\n",
      "Yfinance error\n",
      "- CTVA: Data doesn't exist for startDate = 1547798400, endDate = 1553842800\n",
      "Yfinance error\n"
     ]
    },
    {
     "name": "stderr",
     "output_type": "stream",
     "text": [
      " 10%|▉         | 221/2303 [00:54<05:59,  5.79it/s]"
     ]
    },
    {
     "name": "stdout",
     "output_type": "stream",
     "text": [
      "- CEL.P: No data found for this date range, symbol may be delisted\n",
      "Yfinance error\n",
      "- CTVA: Data doesn't exist for startDate = 1548576000, endDate = 1554620400\n",
      "Yfinance error\n"
     ]
    },
    {
     "name": "stderr",
     "output_type": "stream",
     "text": [
      " 10%|▉         | 224/2303 [00:54<06:15,  5.54it/s]"
     ]
    },
    {
     "name": "stdout",
     "output_type": "stream",
     "text": [
      "- SCPL: Data doesn't exist for startDate = 1548662400, endDate = 1554706800\n",
      "Yfinance error\n"
     ]
    },
    {
     "name": "stderr",
     "output_type": "stream",
     "text": [
      " 10%|▉         | 228/2303 [00:55<07:14,  4.78it/s]"
     ]
    },
    {
     "name": "stdout",
     "output_type": "stream",
     "text": [
      "- CHNG: Data doesn't exist for startDate = 1548748800, endDate = 1554793200\n",
      "Yfinance error\n"
     ]
    },
    {
     "name": "stderr",
     "output_type": "stream",
     "text": [
      " 10%|▉         | 230/2303 [00:56<06:34,  5.25it/s]"
     ]
    },
    {
     "name": "stdout",
     "output_type": "stream",
     "text": [
      "- OGN: Data doesn't exist for startDate = 1549008000, endDate = 1555052400\n",
      "Yfinance error\n"
     ]
    },
    {
     "name": "stderr",
     "output_type": "stream",
     "text": [
      " 10%|█         | 237/2303 [00:57<07:26,  4.62it/s]"
     ]
    },
    {
     "name": "stdout",
     "output_type": "stream",
     "text": [
      "- CEL.P: No data found for this date range, symbol may be delisted\n",
      "Yfinance error\n"
     ]
    },
    {
     "name": "stderr",
     "output_type": "stream",
     "text": [
      " 10%|█         | 241/2303 [00:58<06:41,  5.14it/s]"
     ]
    },
    {
     "name": "stdout",
     "output_type": "stream",
     "text": [
      "- SCPL: Data doesn't exist for startDate = 1549958400, endDate = 1556002800\n",
      "Yfinance error\n"
     ]
    },
    {
     "name": "stderr",
     "output_type": "stream",
     "text": [
      " 11%|█         | 250/2303 [01:00<07:55,  4.31it/s]"
     ]
    },
    {
     "name": "stdout",
     "output_type": "stream",
     "text": [
      "- OGN: Data doesn't exist for startDate = 1550563200, endDate = 1556607600\n",
      "Yfinance error\n"
     ]
    },
    {
     "name": "stderr",
     "output_type": "stream",
     "text": [
      " 11%|█         | 258/2303 [01:02<07:36,  4.48it/s]"
     ]
    },
    {
     "name": "stdout",
     "output_type": "stream",
     "text": [
      "- ACI.S: No data found, symbol may be delisted\n",
      "Yfinance error\n"
     ]
    },
    {
     "name": "stderr",
     "output_type": "stream",
     "text": [
      " 12%|█▏        | 270/2303 [01:05<07:31,  4.50it/s]"
     ]
    },
    {
     "name": "stdout",
     "output_type": "stream",
     "text": [
      "- CEL.P: No data found for this date range, symbol may be delisted\n",
      "Yfinance error\n"
     ]
    },
    {
     "name": "stderr",
     "output_type": "stream",
     "text": [
      " 12%|█▏        | 285/2303 [01:09<06:47,  4.95it/s]"
     ]
    },
    {
     "name": "stdout",
     "output_type": "stream",
     "text": [
      "- CTVA: Data doesn't exist for startDate = 1552633200, endDate = 1558681200\n",
      "Yfinance error\n"
     ]
    },
    {
     "name": "stderr",
     "output_type": "stream",
     "text": [
      " 13%|█▎        | 291/2303 [01:10<07:00,  4.79it/s]"
     ]
    },
    {
     "name": "stdout",
     "output_type": "stream",
     "text": [
      "- CEL.P: No data found for this date range, symbol may be delisted\n",
      "Yfinance error\n"
     ]
    },
    {
     "name": "stderr",
     "output_type": "stream",
     "text": [
      " 13%|█▎        | 298/2303 [01:12<07:39,  4.36it/s]"
     ]
    },
    {
     "name": "stdout",
     "output_type": "stream",
     "text": [
      "- AMAM: Data doesn't exist for startDate = 1553670000, endDate = 1559718000\n",
      "Yfinance error\n"
     ]
    },
    {
     "name": "stderr",
     "output_type": "stream",
     "text": [
      " 13%|█▎        | 300/2303 [01:12<06:35,  5.06it/s]"
     ]
    },
    {
     "name": "stdout",
     "output_type": "stream",
     "text": [
      "- CEL.P: No data found for this date range, symbol may be delisted\n",
      "Yfinance error\n"
     ]
    },
    {
     "name": "stderr",
     "output_type": "stream",
     "text": [
      " 13%|█▎        | 310/2303 [01:15<07:21,  4.52it/s]"
     ]
    },
    {
     "name": "stdout",
     "output_type": "stream",
     "text": [
      "- ATH.U: No data found, symbol may be delisted\n",
      "Yfinance error\n"
     ]
    },
    {
     "name": "stderr",
     "output_type": "stream",
     "text": [
      " 15%|█▍        | 335/2303 [01:21<06:33,  5.00it/s]"
     ]
    },
    {
     "name": "stdout",
     "output_type": "stream",
     "text": [
      "- CEL.P: No data found for this date range, symbol may be delisted\n",
      "Yfinance error\n"
     ]
    },
    {
     "name": "stderr",
     "output_type": "stream",
     "text": [
      " 15%|█▍        | 345/2303 [01:24<07:12,  4.52it/s]"
     ]
    },
    {
     "name": "stdout",
     "output_type": "stream",
     "text": [
      "- ACI.S: No data found, symbol may be delisted\n",
      "Yfinance error\n"
     ]
    },
    {
     "name": "stderr",
     "output_type": "stream",
     "text": [
      " 16%|█▌        | 369/2303 [01:30<07:22,  4.37it/s]"
     ]
    },
    {
     "name": "stdout",
     "output_type": "stream",
     "text": [
      "- CEL.P: No data found for this date range, symbol may be delisted\n",
      "Yfinance error\n"
     ]
    },
    {
     "name": "stderr",
     "output_type": "stream",
     "text": [
      " 16%|█▌        | 374/2303 [01:31<07:02,  4.56it/s]"
     ]
    },
    {
     "name": "stdout",
     "output_type": "stream",
     "text": [
      "- CEL.P: No data found for this date range, symbol may be delisted\n",
      "Yfinance error\n"
     ]
    },
    {
     "name": "stderr",
     "output_type": "stream",
     "text": [
      " 17%|█▋        | 401/2303 [01:38<07:52,  4.03it/s]"
     ]
    },
    {
     "name": "stdout",
     "output_type": "stream",
     "text": [
      "- AHL-C: No data found, symbol may be delisted\n",
      "Yfinance error\n"
     ]
    },
    {
     "name": "stderr",
     "output_type": "stream",
     "text": [
      " 18%|█▊        | 404/2303 [01:39<07:12,  4.39it/s]"
     ]
    },
    {
     "name": "stdout",
     "output_type": "stream",
     "text": [
      "- OGN: Data doesn't exist for startDate = 1561964400, endDate = 1568012400\n",
      "Yfinance error\n"
     ]
    },
    {
     "name": "stderr",
     "output_type": "stream",
     "text": [
      " 18%|█▊        | 411/2303 [01:41<06:32,  4.81it/s]"
     ]
    },
    {
     "name": "stdout",
     "output_type": "stream",
     "text": [
      "- OGN: Data doesn't exist for startDate = 1562310000, endDate = 1568358000\n",
      "Yfinance error\n"
     ]
    },
    {
     "name": "stderr",
     "output_type": "stream",
     "text": [
      " 18%|█▊        | 416/2303 [01:42<06:29,  4.84it/s]"
     ]
    },
    {
     "name": "stdout",
     "output_type": "stream",
     "text": [
      "- CLI.S: No data found, symbol may be delisted\n",
      "Yfinance error\n"
     ]
    },
    {
     "name": "stderr",
     "output_type": "stream",
     "text": [
      " 20%|█▉        | 458/2303 [01:53<06:50,  4.49it/s]"
     ]
    },
    {
     "name": "stdout",
     "output_type": "stream",
     "text": [
      "- CEL.P: No data found for this date range, symbol may be delisted\n",
      "Yfinance error\n"
     ]
    },
    {
     "name": "stderr",
     "output_type": "stream",
     "text": [
      " 20%|██        | 462/2303 [01:54<06:24,  4.79it/s]"
     ]
    },
    {
     "name": "stdout",
     "output_type": "stream",
     "text": [
      "- CEL.P: No data found for this date range, symbol may be delisted\n",
      "Yfinance error\n"
     ]
    },
    {
     "name": "stderr",
     "output_type": "stream",
     "text": [
      " 21%|██        | 475/2303 [01:58<06:41,  4.55it/s]"
     ]
    },
    {
     "name": "stdout",
     "output_type": "stream",
     "text": [
      "- ATH.U: No data found, symbol may be delisted\n",
      "Yfinance error\n"
     ]
    },
    {
     "name": "stderr",
     "output_type": "stream",
     "text": [
      " 21%|██        | 481/2303 [01:59<06:35,  4.61it/s]"
     ]
    },
    {
     "name": "stdout",
     "output_type": "stream",
     "text": [
      "- CEL.P: No data found for this date range, symbol may be delisted\n",
      "Yfinance error\n"
     ]
    },
    {
     "name": "stderr",
     "output_type": "stream",
     "text": [
      " 21%|██        | 489/2303 [02:01<06:38,  4.55it/s]"
     ]
    },
    {
     "name": "stdout",
     "output_type": "stream",
     "text": [
      "- AMRX: Data doesn't exist for startDate = 1512720000, endDate = 1518768000\n",
      "Yfinance error\n"
     ]
    },
    {
     "name": "stderr",
     "output_type": "stream",
     "text": [
      " 22%|██▏       | 497/2303 [02:03<05:42,  5.27it/s]"
     ]
    },
    {
     "name": "stdout",
     "output_type": "stream",
     "text": [
      "- CEL.P: No data found for this date range, symbol may be delisted\n",
      "Yfinance error\n",
      "- SCPL: Data doesn't exist for startDate = 1513324800, endDate = 1519372800\n",
      "Yfinance error\n"
     ]
    },
    {
     "name": "stderr",
     "output_type": "stream",
     "text": [
      " 22%|██▏       | 500/2303 [02:04<05:35,  5.37it/s]"
     ]
    },
    {
     "name": "stdout",
     "output_type": "stream",
     "text": [
      "- SCPL: Data doesn't exist for startDate = 1513584000, endDate = 1519632000\n",
      "Yfinance error\n"
     ]
    },
    {
     "name": "stderr",
     "output_type": "stream",
     "text": [
      " 22%|██▏       | 508/2303 [02:06<06:41,  4.47it/s]"
     ]
    },
    {
     "name": "stdout",
     "output_type": "stream",
     "text": [
      "- OGN: Data doesn't exist for startDate = 1535698800, endDate = 1541750400\n",
      "Yfinance error\n"
     ]
    },
    {
     "name": "stderr",
     "output_type": "stream",
     "text": [
      " 22%|██▏       | 517/2303 [02:08<06:44,  4.42it/s]"
     ]
    },
    {
     "name": "stdout",
     "output_type": "stream",
     "text": [
      "- CTVA: Data doesn't exist for startDate = 1536217200, endDate = 1542268800\n",
      "Yfinance error\n"
     ]
    },
    {
     "name": "stderr",
     "output_type": "stream",
     "text": [
      " 23%|██▎       | 524/2303 [02:10<06:12,  4.78it/s]"
     ]
    },
    {
     "name": "stdout",
     "output_type": "stream",
     "text": [
      "- SCPL: Data doesn't exist for startDate = 1536649200, endDate = 1542700800\n",
      "Yfinance error\n"
     ]
    },
    {
     "name": "stderr",
     "output_type": "stream",
     "text": [
      " 23%|██▎       | 530/2303 [02:11<05:58,  4.94it/s]"
     ]
    },
    {
     "name": "stdout",
     "output_type": "stream",
     "text": [
      "- SCPL: Data doesn't exist for startDate = 1536908400, endDate = 1542960000\n",
      "Yfinance error\n"
     ]
    },
    {
     "name": "stderr",
     "output_type": "stream",
     "text": [
      " 24%|██▍       | 549/2303 [02:16<05:30,  5.31it/s]"
     ]
    },
    {
     "name": "stdout",
     "output_type": "stream",
     "text": [
      "- CEL.P: No data found for this date range, symbol may be delisted\n",
      "Yfinance error\n",
      "- CHNG: Data doesn't exist for startDate = 1537945200, endDate = 1543996800\n",
      "Yfinance error\n"
     ]
    },
    {
     "name": "stderr",
     "output_type": "stream",
     "text": [
      " 24%|██▍       | 553/2303 [02:17<06:05,  4.78it/s]"
     ]
    },
    {
     "name": "stdout",
     "output_type": "stream",
     "text": [
      "- SCPL: Data doesn't exist for startDate = 1538118000, endDate = 1544169600\n",
      "Yfinance error\n"
     ]
    },
    {
     "name": "stderr",
     "output_type": "stream",
     "text": [
      " 24%|██▍       | 558/2303 [02:18<06:11,  4.70it/s]"
     ]
    },
    {
     "name": "stdout",
     "output_type": "stream",
     "text": [
      "- CEL.P: No data found for this date range, symbol may be delisted\n",
      "Yfinance error\n"
     ]
    },
    {
     "name": "stderr",
     "output_type": "stream",
     "text": [
      " 25%|██▌       | 584/2303 [02:25<06:27,  4.44it/s]"
     ]
    },
    {
     "name": "stdout",
     "output_type": "stream",
     "text": [
      "- SCPL: Data doesn't exist for startDate = 1540450800, endDate = 1546502400\n",
      "Yfinance error\n"
     ]
    },
    {
     "name": "stderr",
     "output_type": "stream",
     "text": [
      " 25%|██▌       | 587/2303 [02:25<05:19,  5.36it/s]"
     ]
    },
    {
     "name": "stdout",
     "output_type": "stream",
     "text": [
      "- SCPL: Data doesn't exist for startDate = 1540537200, endDate = 1546588800\n",
      "Yfinance error\n",
      "- FNB-E: No data found, symbol may be delisted\n",
      "Yfinance error\n"
     ]
    },
    {
     "name": "stderr",
     "output_type": "stream",
     "text": [
      " 26%|██▌       | 600/2303 [02:29<06:30,  4.36it/s]"
     ]
    },
    {
     "name": "stdout",
     "output_type": "stream",
     "text": [
      "- CEL.P: No data found for this date range, symbol may be delisted\n",
      "Yfinance error\n"
     ]
    },
    {
     "name": "stderr",
     "output_type": "stream",
     "text": [
      " 26%|██▋       | 607/2303 [02:30<05:31,  5.11it/s]"
     ]
    },
    {
     "name": "stdout",
     "output_type": "stream",
     "text": [
      "- CTVA: Data doesn't exist for startDate = 1541664000, endDate = 1547712000\n",
      "Yfinance error\n",
      "- CEL.P: No data found for this date range, symbol may be delisted\n",
      "Yfinance error\n"
     ]
    },
    {
     "name": "stderr",
     "output_type": "stream",
     "text": [
      " 27%|██▋       | 615/2303 [02:32<06:38,  4.23it/s]"
     ]
    },
    {
     "name": "stdout",
     "output_type": "stream",
     "text": [
      "- CEL.P: No data found for this date range, symbol may be delisted\n",
      "Yfinance error\n"
     ]
    },
    {
     "name": "stderr",
     "output_type": "stream",
     "text": [
      " 27%|██▋       | 617/2303 [02:33<05:32,  5.07it/s]"
     ]
    },
    {
     "name": "stdout",
     "output_type": "stream",
     "text": [
      "- SCPL: Data doesn't exist for startDate = 1541750400, endDate = 1547798400\n",
      "Yfinance error\n"
     ]
    },
    {
     "name": "stderr",
     "output_type": "stream",
     "text": [
      " 27%|██▋       | 621/2303 [02:34<05:20,  5.24it/s]"
     ]
    },
    {
     "name": "stdout",
     "output_type": "stream",
     "text": [
      "- CEL.P: No data found for this date range, symbol may be delisted\n",
      "Yfinance error\n"
     ]
    },
    {
     "name": "stderr",
     "output_type": "stream",
     "text": [
      " 27%|██▋       | 632/2303 [02:36<05:49,  4.78it/s]"
     ]
    },
    {
     "name": "stdout",
     "output_type": "stream",
     "text": [
      "- OGN: Data doesn't exist for startDate = 1514275200, endDate = 1520323200\n",
      "Yfinance error\n"
     ]
    },
    {
     "name": "stderr",
     "output_type": "stream",
     "text": [
      " 28%|██▊       | 638/2303 [02:38<05:04,  5.46it/s]"
     ]
    },
    {
     "name": "stdout",
     "output_type": "stream",
     "text": [
      "- CEL.P: No data found for this date range, symbol may be delisted\n",
      "Yfinance error\n",
      "- OGN: Data doesn't exist for startDate = 1514534400, endDate = 1520582400\n",
      "Yfinance error\n"
     ]
    },
    {
     "name": "stderr",
     "output_type": "stream",
     "text": [
      " 28%|██▊       | 640/2303 [02:38<04:02,  6.84it/s]"
     ]
    },
    {
     "name": "stdout",
     "output_type": "stream",
     "text": [
      "- CEL.P: No data found for this date range, symbol may be delisted\n",
      "Yfinance error\n",
      "- AMRX: Data doesn't exist for startDate = 1514534400, endDate = 1520582400\n",
      "Yfinance error\n"
     ]
    },
    {
     "name": "stderr",
     "output_type": "stream",
     "text": [
      " 28%|██▊       | 642/2303 [02:38<04:40,  5.93it/s]"
     ]
    },
    {
     "name": "stdout",
     "output_type": "stream",
     "text": [
      "- CEL.P: No data found for this date range, symbol may be delisted\n",
      "Yfinance error\n"
     ]
    },
    {
     "name": "stderr",
     "output_type": "stream",
     "text": [
      " 28%|██▊       | 646/2303 [02:39<04:32,  6.08it/s]"
     ]
    },
    {
     "name": "stdout",
     "output_type": "stream",
     "text": [
      "- CEL.P: No data found for this date range, symbol may be delisted\n",
      "Yfinance error\n",
      "- AMRX: Data doesn't exist for startDate = 1515052800, endDate = 1521097200\n",
      "Yfinance error\n"
     ]
    },
    {
     "name": "stderr",
     "output_type": "stream",
     "text": [
      " 28%|██▊       | 653/2303 [02:41<06:23,  4.30it/s]"
     ]
    },
    {
     "name": "stdout",
     "output_type": "stream",
     "text": [
      "- OGN: Data doesn't exist for startDate = 1516176000, endDate = 1522220400\n",
      "Yfinance error\n"
     ]
    },
    {
     "name": "stderr",
     "output_type": "stream",
     "text": [
      " 29%|██▊       | 658/2303 [02:42<06:07,  4.48it/s]"
     ]
    },
    {
     "name": "stdout",
     "output_type": "stream",
     "text": [
      "- CEL.P: No data found for this date range, symbol may be delisted\n",
      "Yfinance error\n"
     ]
    },
    {
     "name": "stderr",
     "output_type": "stream",
     "text": [
      " 29%|██▉       | 664/2303 [02:44<06:09,  4.43it/s]"
     ]
    },
    {
     "name": "stdout",
     "output_type": "stream",
     "text": [
      "- SCPL: Data doesn't exist for startDate = 1516867200, endDate = 1522911600\n",
      "Yfinance error\n"
     ]
    },
    {
     "name": "stderr",
     "output_type": "stream",
     "text": [
      " 29%|██▉       | 670/2303 [02:45<06:02,  4.50it/s]"
     ]
    },
    {
     "name": "stdout",
     "output_type": "stream",
     "text": [
      "- CTVA: Data doesn't exist for startDate = 1517385600, endDate = 1523430000\n",
      "Yfinance error\n"
     ]
    },
    {
     "name": "stderr",
     "output_type": "stream",
     "text": [
      " 29%|██▉       | 673/2303 [02:46<05:46,  4.71it/s]"
     ]
    },
    {
     "name": "stdout",
     "output_type": "stream",
     "text": [
      "- CTVA: Data doesn't exist for startDate = 1517558400, endDate = 1523602800\n",
      "Yfinance error\n"
     ]
    },
    {
     "name": "stderr",
     "output_type": "stream",
     "text": [
      " 29%|██▉       | 675/2303 [02:46<05:30,  4.93it/s]"
     ]
    },
    {
     "name": "stdout",
     "output_type": "stream",
     "text": [
      "- AMRX: Data doesn't exist for startDate = 1517817600, endDate = 1523862000\n",
      "Yfinance error\n"
     ]
    },
    {
     "name": "stderr",
     "output_type": "stream",
     "text": [
      " 30%|██▉       | 682/2303 [02:48<05:06,  5.29it/s]"
     ]
    },
    {
     "name": "stdout",
     "output_type": "stream",
     "text": [
      "- OGN: Data doesn't exist for startDate = 1518163200, endDate = 1524207600\n",
      "Yfinance error\n",
      "- OGN: Data doesn't exist for startDate = 1518422400, endDate = 1524466800\n",
      "Yfinance error\n"
     ]
    },
    {
     "name": "stderr",
     "output_type": "stream",
     "text": [
      " 30%|███       | 697/2303 [02:52<05:08,  5.20it/s]"
     ]
    },
    {
     "name": "stdout",
     "output_type": "stream",
     "text": [
      "- CTVA: Data doesn't exist for startDate = 1519632000, endDate = 1525676400\n",
      "Yfinance error\n",
      "- OGN: Data doesn't exist for startDate = 1519718400, endDate = 1525762800\n",
      "Yfinance error\n"
     ]
    },
    {
     "name": "stderr",
     "output_type": "stream",
     "text": [
      " 30%|███       | 702/2303 [02:53<05:29,  4.87it/s]"
     ]
    },
    {
     "name": "stdout",
     "output_type": "stream",
     "text": [
      "- CEL.P: No data found for this date range, symbol may be delisted\n",
      "Yfinance error\n"
     ]
    },
    {
     "name": "stderr",
     "output_type": "stream",
     "text": [
      " 31%|███       | 705/2303 [02:53<04:34,  5.82it/s]"
     ]
    },
    {
     "name": "stdout",
     "output_type": "stream",
     "text": [
      "- CEL.P: No data found for this date range, symbol may be delisted\n",
      "Yfinance error\n",
      "- CHNG: Data doesn't exist for startDate = 1520323200, endDate = 1526367600\n",
      "Yfinance error\n"
     ]
    },
    {
     "name": "stderr",
     "output_type": "stream",
     "text": [
      " 31%|███       | 711/2303 [02:55<06:06,  4.35it/s]"
     ]
    },
    {
     "name": "stdout",
     "output_type": "stream",
     "text": [
      "- CEL.P: No data found for this date range, symbol may be delisted\n",
      "Yfinance error\n"
     ]
    },
    {
     "name": "stderr",
     "output_type": "stream",
     "text": [
      " 31%|███       | 714/2303 [02:56<05:45,  4.59it/s]"
     ]
    },
    {
     "name": "stdout",
     "output_type": "stream",
     "text": [
      "- OGN: Data doesn't exist for startDate = 1520496000, endDate = 1526540400\n",
      "Yfinance error\n"
     ]
    },
    {
     "name": "stderr",
     "output_type": "stream",
     "text": [
      " 31%|███       | 717/2303 [02:56<05:47,  4.56it/s]"
     ]
    },
    {
     "name": "stdout",
     "output_type": "stream",
     "text": [
      "- SCPL: Data doesn't exist for startDate = 1520582400, endDate = 1526626800\n",
      "Yfinance error\n"
     ]
    },
    {
     "name": "stderr",
     "output_type": "stream",
     "text": [
      " 32%|███▏      | 726/2303 [02:59<04:59,  5.27it/s]"
     ]
    },
    {
     "name": "stdout",
     "output_type": "stream",
     "text": [
      "- CHNG: Data doesn't exist for startDate = 1521097200, endDate = 1527145200\n",
      "Yfinance error\n",
      "- SCPL: Data doesn't exist for startDate = 1521183600, endDate = 1527231600\n",
      "Yfinance error\n"
     ]
    },
    {
     "name": "stderr",
     "output_type": "stream",
     "text": [
      " 32%|███▏      | 734/2303 [03:01<05:31,  4.73it/s]"
     ]
    },
    {
     "name": "stdout",
     "output_type": "stream",
     "text": [
      "- SCPL: Data doesn't exist for startDate = 1521788400, endDate = 1527836400\n",
      "Yfinance error\n"
     ]
    },
    {
     "name": "stderr",
     "output_type": "stream",
     "text": [
      " 32%|███▏      | 739/2303 [03:02<04:38,  5.62it/s]"
     ]
    },
    {
     "name": "stdout",
     "output_type": "stream",
     "text": [
      "- CTVA: Data doesn't exist for startDate = 1522652400, endDate = 1528700400\n",
      "Yfinance error\n",
      "- ACI.S: No data found, symbol may be delisted\n",
      "Yfinance error\n"
     ]
    },
    {
     "name": "stderr",
     "output_type": "stream",
     "text": [
      " 32%|███▏      | 741/2303 [03:02<04:35,  5.67it/s]"
     ]
    },
    {
     "name": "stdout",
     "output_type": "stream",
     "text": [
      "- SCPL: Data doesn't exist for startDate = 1522652400, endDate = 1528700400\n",
      "Yfinance error\n"
     ]
    },
    {
     "name": "stderr",
     "output_type": "stream",
     "text": [
      " 32%|███▏      | 748/2303 [03:04<05:39,  4.58it/s]"
     ]
    },
    {
     "name": "stdout",
     "output_type": "stream",
     "text": [
      "- ATH.U: No data found, symbol may be delisted\n",
      "Yfinance error\n"
     ]
    },
    {
     "name": "stderr",
     "output_type": "stream",
     "text": [
      " 33%|███▎      | 751/2303 [03:04<05:14,  4.94it/s]"
     ]
    },
    {
     "name": "stdout",
     "output_type": "stream",
     "text": [
      "- OSMT: Data doesn't exist for startDate = 1523257200, endDate = 1529305200\n",
      "Yfinance error\n"
     ]
    },
    {
     "name": "stderr",
     "output_type": "stream",
     "text": [
      " 33%|███▎      | 763/2303 [03:08<05:57,  4.31it/s]"
     ]
    },
    {
     "name": "stdout",
     "output_type": "stream",
     "text": [
      "- AMYT: Data doesn't exist for startDate = 1524466800, endDate = 1530514800\n",
      "Yfinance error\n"
     ]
    },
    {
     "name": "stderr",
     "output_type": "stream",
     "text": [
      " 34%|███▍      | 778/2303 [03:12<05:29,  4.62it/s]"
     ]
    },
    {
     "name": "stdout",
     "output_type": "stream",
     "text": [
      "- SCPL: Data doesn't exist for startDate = 1525158000, endDate = 1531206000\n",
      "Yfinance error\n"
     ]
    },
    {
     "name": "stderr",
     "output_type": "stream",
     "text": [
      " 34%|███▍      | 780/2303 [03:12<04:52,  5.20it/s]"
     ]
    },
    {
     "name": "stdout",
     "output_type": "stream",
     "text": [
      "- SCPL: Data doesn't exist for startDate = 1525417200, endDate = 1531465200\n",
      "Yfinance error\n"
     ]
    },
    {
     "name": "stderr",
     "output_type": "stream",
     "text": [
      " 34%|███▍      | 783/2303 [03:13<05:03,  5.01it/s]"
     ]
    },
    {
     "name": "stdout",
     "output_type": "stream",
     "text": [
      "- CEL.P: No data found for this date range, symbol may be delisted\n",
      "Yfinance error\n"
     ]
    },
    {
     "name": "stderr",
     "output_type": "stream",
     "text": [
      " 34%|███▍      | 787/2303 [03:13<04:58,  5.08it/s]"
     ]
    },
    {
     "name": "stdout",
     "output_type": "stream",
     "text": [
      "- SCPL: Data doesn't exist for startDate = 1525762800, endDate = 1531810800\n",
      "Yfinance error\n"
     ]
    },
    {
     "name": "stderr",
     "output_type": "stream",
     "text": [
      " 34%|███▍      | 792/2303 [03:14<04:31,  5.56it/s]"
     ]
    },
    {
     "name": "stdout",
     "output_type": "stream",
     "text": [
      "- OGN: Data doesn't exist for startDate = 1526022000, endDate = 1532070000\n",
      "Yfinance error\n",
      "- CEL.P: No data found for this date range, symbol may be delisted\n",
      "Yfinance error\n"
     ]
    },
    {
     "name": "stderr",
     "output_type": "stream",
     "text": [
      " 35%|███▍      | 795/2303 [03:15<04:50,  5.20it/s]"
     ]
    },
    {
     "name": "stdout",
     "output_type": "stream",
     "text": [
      "- CEL.P: No data found for this date range, symbol may be delisted\n",
      "Yfinance error\n"
     ]
    },
    {
     "name": "stderr",
     "output_type": "stream",
     "text": [
      " 35%|███▍      | 798/2303 [03:16<04:37,  5.41it/s]"
     ]
    },
    {
     "name": "stdout",
     "output_type": "stream",
     "text": [
      "- DERM: Data doesn't exist for startDate = 1526540400, endDate = 1532588400\n",
      "Yfinance error\n"
     ]
    },
    {
     "name": "stderr",
     "output_type": "stream",
     "text": [
      " 35%|███▍      | 802/2303 [03:17<04:53,  5.11it/s]"
     ]
    },
    {
     "name": "stdout",
     "output_type": "stream",
     "text": [
      "- SCPL: Data doesn't exist for startDate = 1526886000, endDate = 1532934000\n",
      "Yfinance error\n"
     ]
    },
    {
     "name": "stderr",
     "output_type": "stream",
     "text": [
      " 35%|███▌      | 812/2303 [03:19<04:48,  5.16it/s]"
     ]
    },
    {
     "name": "stdout",
     "output_type": "stream",
     "text": [
      "- CEL.P: No data found for this date range, symbol may be delisted\n",
      "Yfinance error\n",
      "- SCPL: Data doesn't exist for startDate = 1527750000, endDate = 1533798000\n",
      "Yfinance error\n"
     ]
    },
    {
     "name": "stderr",
     "output_type": "stream",
     "text": [
      " 35%|███▌      | 815/2303 [03:20<04:37,  5.36it/s]"
     ]
    },
    {
     "name": "stdout",
     "output_type": "stream",
     "text": [
      "- SCPL: Data doesn't exist for startDate = 1528095600, endDate = 1534143600\n",
      "Yfinance error\n"
     ]
    },
    {
     "name": "stderr",
     "output_type": "stream",
     "text": [
      " 37%|███▋      | 842/2303 [03:27<05:31,  4.41it/s]"
     ]
    },
    {
     "name": "stdout",
     "output_type": "stream",
     "text": [
      "- SCPL: Data doesn't exist for startDate = 1529650800, endDate = 1535698800\n",
      "Yfinance error\n"
     ]
    },
    {
     "name": "stderr",
     "output_type": "stream",
     "text": [
      " 37%|███▋      | 846/2303 [03:28<05:03,  4.81it/s]"
     ]
    },
    {
     "name": "stdout",
     "output_type": "stream",
     "text": [
      "- SCPL: Data doesn't exist for startDate = 1530169200, endDate = 1536217200\n",
      "Yfinance error\n"
     ]
    },
    {
     "name": "stderr",
     "output_type": "stream",
     "text": [
      " 37%|███▋      | 857/2303 [03:31<05:24,  4.46it/s]"
     ]
    },
    {
     "name": "stdout",
     "output_type": "stream",
     "text": [
      "- CEL.P: No data found for this date range, symbol may be delisted\n",
      "Yfinance error\n"
     ]
    },
    {
     "name": "stderr",
     "output_type": "stream",
     "text": [
      " 38%|███▊      | 868/2303 [03:34<05:55,  4.03it/s]"
     ]
    },
    {
     "name": "stdout",
     "output_type": "stream",
     "text": [
      "- CTVA: Data doesn't exist for startDate = 1531983600, endDate = 1538031600\n",
      "Yfinance error\n"
     ]
    },
    {
     "name": "stderr",
     "output_type": "stream",
     "text": [
      " 38%|███▊      | 873/2303 [03:36<05:44,  4.15it/s]"
     ]
    },
    {
     "name": "stdout",
     "output_type": "stream",
     "text": [
      "- SCPL: Data doesn't exist for startDate = 1532674800, endDate = 1538722800\n",
      "Yfinance error\n"
     ]
    },
    {
     "name": "stderr",
     "output_type": "stream",
     "text": [
      " 38%|███▊      | 875/2303 [03:36<05:04,  4.69it/s]"
     ]
    },
    {
     "name": "stdout",
     "output_type": "stream",
     "text": [
      "- IPHA: Data doesn't exist for startDate = 1533193200, endDate = 1539241200\n",
      "Yfinance error\n"
     ]
    },
    {
     "name": "stderr",
     "output_type": "stream",
     "text": [
      " 38%|███▊      | 879/2303 [03:37<05:08,  4.61it/s]"
     ]
    },
    {
     "name": "stdout",
     "output_type": "stream",
     "text": [
      "- CTVA: Data doesn't exist for startDate = 1533625200, endDate = 1539673200\n",
      "Yfinance error\n"
     ]
    },
    {
     "name": "stderr",
     "output_type": "stream",
     "text": [
      " 38%|███▊      | 882/2303 [03:37<04:09,  5.69it/s]"
     ]
    },
    {
     "name": "stdout",
     "output_type": "stream",
     "text": [
      "- CHNG: Data doesn't exist for startDate = 1533711600, endDate = 1539759600\n",
      "Yfinance error\n",
      "- SCPL: Data doesn't exist for startDate = 1533711600, endDate = 1539759600\n",
      "Yfinance error\n"
     ]
    },
    {
     "name": "stderr",
     "output_type": "stream",
     "text": [
      "\r",
      " 38%|███▊      | 883/2303 [03:38<03:41,  6.42it/s]"
     ]
    },
    {
     "name": "stdout",
     "output_type": "stream",
     "text": [
      "- CTVA: Data doesn't exist for startDate = 1533798000, endDate = 1539846000\n",
      "Yfinance error\n"
     ]
    },
    {
     "name": "stderr",
     "output_type": "stream",
     "text": [
      " 39%|███▉      | 902/2303 [03:43<05:18,  4.40it/s]"
     ]
    },
    {
     "name": "stdout",
     "output_type": "stream",
     "text": [
      "- CEL.P: No data found for this date range, symbol may be delisted\n",
      "Yfinance error\n"
     ]
    },
    {
     "name": "stderr",
     "output_type": "stream",
     "text": [
      " 39%|███▉      | 908/2303 [03:44<05:24,  4.30it/s]"
     ]
    },
    {
     "name": "stdout",
     "output_type": "stream",
     "text": [
      "- PANA: Data doesn't exist for startDate = 1504508400, endDate = 1510560000\n",
      "Yfinance error\n"
     ]
    },
    {
     "name": "stderr",
     "output_type": "stream",
     "text": [
      " 40%|███▉      | 912/2303 [03:45<05:08,  4.50it/s]"
     ]
    },
    {
     "name": "stdout",
     "output_type": "stream",
     "text": [
      "- CTVA: Data doesn't exist for startDate = 1504681200, endDate = 1510732800\n",
      "Yfinance error\n"
     ]
    },
    {
     "name": "stderr",
     "output_type": "stream",
     "text": [
      " 40%|███▉      | 914/2303 [03:46<04:47,  4.83it/s]"
     ]
    },
    {
     "name": "stdout",
     "output_type": "stream",
     "text": [
      "- CEL.P: No data found for this date range, symbol may be delisted\n",
      "Yfinance error\n"
     ]
    },
    {
     "name": "stderr",
     "output_type": "stream",
     "text": [
      " 40%|███▉      | 919/2303 [03:47<05:47,  3.98it/s]"
     ]
    },
    {
     "name": "stdout",
     "output_type": "stream",
     "text": [
      "- CTVA: Data doesn't exist for startDate = 1505286000, endDate = 1511337600\n",
      "Yfinance error\n"
     ]
    },
    {
     "name": "stderr",
     "output_type": "stream",
     "text": [
      " 40%|████      | 922/2303 [03:48<05:30,  4.17it/s]"
     ]
    },
    {
     "name": "stdout",
     "output_type": "stream",
     "text": [
      "- SCPL: Data doesn't exist for startDate = 1505458800, endDate = 1511510400\n",
      "Yfinance error\n"
     ]
    },
    {
     "name": "stderr",
     "output_type": "stream",
     "text": [
      " 40%|████      | 928/2303 [03:50<04:42,  4.87it/s]"
     ]
    },
    {
     "name": "stdout",
     "output_type": "stream",
     "text": [
      "- AMRX: Data doesn't exist for startDate = 1505890800, endDate = 1511942400\n",
      "Yfinance error\n",
      "- AHL-C: No data found, symbol may be delisted\n",
      "Yfinance error\n"
     ]
    },
    {
     "name": "stderr",
     "output_type": "stream",
     "text": [
      " 41%|████      | 934/2303 [03:51<04:17,  5.31it/s]"
     ]
    },
    {
     "name": "stdout",
     "output_type": "stream",
     "text": [
      "- AMRX: Data doesn't exist for startDate = 1506322800, endDate = 1512374400\n",
      "Yfinance error\n",
      "- AMRX: Data doesn't exist for startDate = 1506409200, endDate = 1512460800\n",
      "Yfinance error\n"
     ]
    },
    {
     "name": "stderr",
     "output_type": "stream",
     "text": [
      " 41%|████      | 937/2303 [03:51<03:41,  6.16it/s]"
     ]
    },
    {
     "name": "stdout",
     "output_type": "stream",
     "text": [
      "- CHNG: Data doesn't exist for startDate = 1506582000, endDate = 1512633600\n",
      "Yfinance error\n",
      "- CEL.P: No data found for this date range, symbol may be delisted\n",
      "Yfinance error\n"
     ]
    },
    {
     "name": "stderr",
     "output_type": "stream",
     "text": [
      " 41%|████      | 945/2303 [03:54<05:49,  3.88it/s]"
     ]
    },
    {
     "name": "stdout",
     "output_type": "stream",
     "text": [
      "- CTVA: Data doesn't exist for startDate = 1507100400, endDate = 1513152000\n",
      "Yfinance error\n"
     ]
    },
    {
     "name": "stderr",
     "output_type": "stream",
     "text": [
      " 41%|████      | 948/2303 [03:54<05:06,  4.42it/s]"
     ]
    },
    {
     "name": "stdout",
     "output_type": "stream",
     "text": [
      "- SCPL: Data doesn't exist for startDate = 1507186800, endDate = 1513238400\n",
      "Yfinance error\n"
     ]
    },
    {
     "name": "stderr",
     "output_type": "stream",
     "text": [
      " 41%|████▏     | 955/2303 [03:57<06:00,  3.73it/s]"
     ]
    },
    {
     "name": "stdout",
     "output_type": "stream",
     "text": [
      "- SCPL: Data doesn't exist for startDate = 1507618800, endDate = 1513670400\n",
      "Yfinance error\n"
     ]
    },
    {
     "name": "stderr",
     "output_type": "stream",
     "text": [
      " 42%|████▏     | 960/2303 [03:58<05:13,  4.29it/s]"
     ]
    },
    {
     "name": "stdout",
     "output_type": "stream",
     "text": [
      "- CTVA: Data doesn't exist for startDate = 1508223600, endDate = 1514275200\n",
      "Yfinance error\n"
     ]
    },
    {
     "name": "stderr",
     "output_type": "stream",
     "text": [
      " 42%|████▏     | 962/2303 [03:58<04:48,  4.64it/s]"
     ]
    },
    {
     "name": "stdout",
     "output_type": "stream",
     "text": [
      "- CEL.P: No data found for this date range, symbol may be delisted\n",
      "Yfinance error\n"
     ]
    },
    {
     "name": "stderr",
     "output_type": "stream",
     "text": [
      " 42%|████▏     | 967/2303 [04:00<04:59,  4.45it/s]"
     ]
    },
    {
     "name": "stdout",
     "output_type": "stream",
     "text": [
      "- SCPL: Data doesn't exist for startDate = 1508828400, endDate = 1514880000\n",
      "Yfinance error\n"
     ]
    },
    {
     "name": "stderr",
     "output_type": "stream",
     "text": [
      " 42%|████▏     | 976/2303 [04:02<06:44,  3.28it/s]"
     ]
    },
    {
     "name": "stdout",
     "output_type": "stream",
     "text": [
      "- AMRX: Data doesn't exist for startDate = 1509346800, endDate = 1515398400\n",
      "Yfinance error\n"
     ]
    },
    {
     "name": "stderr",
     "output_type": "stream",
     "text": [
      " 43%|████▎     | 980/2303 [04:04<06:05,  3.62it/s]"
     ]
    },
    {
     "name": "stdout",
     "output_type": "stream",
     "text": [
      "- CEL.P: No data found for this date range, symbol may be delisted\n",
      "Yfinance error\n"
     ]
    },
    {
     "name": "stderr",
     "output_type": "stream",
     "text": [
      " 43%|████▎     | 989/2303 [04:06<04:50,  4.53it/s]"
     ]
    },
    {
     "name": "stdout",
     "output_type": "stream",
     "text": [
      "- AMRX: Data doesn't exist for startDate = 1509692400, endDate = 1515744000\n",
      "Yfinance error\n"
     ]
    },
    {
     "name": "stderr",
     "output_type": "stream",
     "text": [
      " 43%|████▎     | 991/2303 [04:06<04:16,  5.11it/s]"
     ]
    },
    {
     "name": "stdout",
     "output_type": "stream",
     "text": [
      "- CEL.P: No data found for this date range, symbol may be delisted\n",
      "Yfinance error\n"
     ]
    },
    {
     "name": "stderr",
     "output_type": "stream",
     "text": [
      " 43%|████▎     | 995/2303 [04:07<03:41,  5.91it/s]"
     ]
    },
    {
     "name": "stdout",
     "output_type": "stream",
     "text": [
      "- AMRX: Data doesn't exist for startDate = 1509955200, endDate = 1516003200\n",
      "Yfinance error\n",
      "- CEL.P: No data found for this date range, symbol may be delisted\n",
      "Yfinance error\n"
     ]
    },
    {
     "name": "stderr",
     "output_type": "stream",
     "text": [
      " 43%|████▎     | 998/2303 [04:08<04:18,  5.05it/s]"
     ]
    },
    {
     "name": "stdout",
     "output_type": "stream",
     "text": [
      "- OSMT: Data doesn't exist for startDate = 1510041600, endDate = 1516089600\n",
      "Yfinance error\n"
     ]
    },
    {
     "name": "stderr",
     "output_type": "stream",
     "text": [
      " 43%|████▎     | 1001/2303 [04:08<04:28,  4.85it/s]"
     ]
    },
    {
     "name": "stdout",
     "output_type": "stream",
     "text": [
      "- OGN: Data doesn't exist for startDate = 1510128000, endDate = 1516176000\n",
      "Yfinance error\n"
     ]
    },
    {
     "name": "stderr",
     "output_type": "stream",
     "text": [
      " 44%|████▎     | 1003/2303 [04:09<04:01,  5.38it/s]"
     ]
    },
    {
     "name": "stdout",
     "output_type": "stream",
     "text": [
      "- CEL.P: No data found for this date range, symbol may be delisted\n",
      "Yfinance error\n"
     ]
    },
    {
     "name": "stderr",
     "output_type": "stream",
     "text": [
      " 45%|████▍     | 1033/2303 [04:18<04:44,  4.46it/s]"
     ]
    },
    {
     "name": "stdout",
     "output_type": "stream",
     "text": [
      "- CEL.P: No data found for this date range, symbol may be delisted\n",
      "Yfinance error\n"
     ]
    },
    {
     "name": "stderr",
     "output_type": "stream",
     "text": [
      " 45%|████▌     | 1040/2303 [04:19<03:53,  5.41it/s]"
     ]
    },
    {
     "name": "stdout",
     "output_type": "stream",
     "text": [
      "- AMRX: Data doesn't exist for startDate = 1497596400, endDate = 1503644400\n",
      "Yfinance error\n",
      "- OSMT: Data doesn't exist for startDate = 1497596400, endDate = 1503644400\n",
      "Yfinance error\n"
     ]
    },
    {
     "name": "stderr",
     "output_type": "stream",
     "text": [
      "\r",
      " 45%|████▌     | 1041/2303 [04:19<03:23,  6.20it/s]"
     ]
    },
    {
     "name": "stdout",
     "output_type": "stream",
     "text": [
      "- CEL.P: No data found for this date range, symbol may be delisted\n",
      "Yfinance error\n"
     ]
    },
    {
     "name": "stderr",
     "output_type": "stream",
     "text": [
      " 45%|████▌     | 1047/2303 [04:21<03:43,  5.61it/s]"
     ]
    },
    {
     "name": "stdout",
     "output_type": "stream",
     "text": [
      "- AMYT: Data doesn't exist for startDate = 1498028400, endDate = 1504076400\n",
      "Yfinance error\n",
      "- SCPL: Data doesn't exist for startDate = 1498114800, endDate = 1504162800\n",
      "Yfinance error\n"
     ]
    },
    {
     "name": "stderr",
     "output_type": "stream",
     "text": [
      " 46%|████▌     | 1052/2303 [04:22<04:16,  4.87it/s]"
     ]
    },
    {
     "name": "stdout",
     "output_type": "stream",
     "text": [
      "- OGN: Data doesn't exist for startDate = 1498201200, endDate = 1504249200\n",
      "Yfinance error\n"
     ]
    },
    {
     "name": "stderr",
     "output_type": "stream",
     "text": [
      " 46%|████▌     | 1058/2303 [04:24<05:15,  3.95it/s]"
     ]
    },
    {
     "name": "stdout",
     "output_type": "stream",
     "text": [
      "- CEL.P: No data found for this date range, symbol may be delisted\n",
      "Yfinance error\n"
     ]
    },
    {
     "name": "stderr",
     "output_type": "stream",
     "text": [
      " 46%|████▌     | 1060/2303 [04:24<04:49,  4.29it/s]"
     ]
    },
    {
     "name": "stdout",
     "output_type": "stream",
     "text": [
      "- CEL.P: No data found for this date range, symbol may be delisted\n",
      "Yfinance error\n"
     ]
    },
    {
     "name": "stderr",
     "output_type": "stream",
     "text": [
      " 47%|████▋     | 1076/2303 [04:28<04:49,  4.23it/s]"
     ]
    },
    {
     "name": "stdout",
     "output_type": "stream",
     "text": [
      "- AMRX: Data doesn't exist for startDate = 1500274800, endDate = 1506322800\n",
      "Yfinance error\n"
     ]
    },
    {
     "name": "stderr",
     "output_type": "stream",
     "text": [
      " 47%|████▋     | 1081/2303 [04:30<04:24,  4.63it/s]"
     ]
    },
    {
     "name": "stdout",
     "output_type": "stream",
     "text": [
      "- CTVA: Data doesn't exist for startDate = 1500966000, endDate = 1507014000\n",
      "Yfinance error\n"
     ]
    },
    {
     "name": "stderr",
     "output_type": "stream",
     "text": [
      " 47%|████▋     | 1085/2303 [04:31<03:52,  5.25it/s]"
     ]
    },
    {
     "name": "stdout",
     "output_type": "stream",
     "text": [
      "- CEL.P: No data found for this date range, symbol may be delisted\n",
      "Yfinance error\n",
      "- BFRA: Data doesn't exist for startDate = 1501052400, endDate = 1507100400\n",
      "Yfinance error\n"
     ]
    },
    {
     "name": "stderr",
     "output_type": "stream",
     "text": [
      " 47%|████▋     | 1088/2303 [04:31<04:03,  4.98it/s]"
     ]
    },
    {
     "name": "stdout",
     "output_type": "stream",
     "text": [
      "- AMRX: Data doesn't exist for startDate = 1501225200, endDate = 1507273200\n",
      "Yfinance error\n"
     ]
    },
    {
     "name": "stderr",
     "output_type": "stream",
     "text": [
      " 48%|████▊     | 1097/2303 [04:34<04:53,  4.11it/s]"
     ]
    },
    {
     "name": "stdout",
     "output_type": "stream",
     "text": [
      "- CTVA: Data doesn't exist for startDate = 1502089200, endDate = 1508137200\n",
      "Yfinance error\n"
     ]
    },
    {
     "name": "stderr",
     "output_type": "stream",
     "text": [
      " 48%|████▊     | 1104/2303 [04:36<04:31,  4.42it/s]"
     ]
    },
    {
     "name": "stdout",
     "output_type": "stream",
     "text": [
      "- CEL.P: No data found for this date range, symbol may be delisted\n",
      "Yfinance error\n"
     ]
    },
    {
     "name": "stderr",
     "output_type": "stream",
     "text": [
      " 48%|████▊     | 1111/2303 [04:38<05:07,  3.87it/s]"
     ]
    },
    {
     "name": "stdout",
     "output_type": "stream",
     "text": [
      "- OGN: Data doesn't exist for startDate = 1502953200, endDate = 1509001200\n",
      "Yfinance error\n"
     ]
    },
    {
     "name": "stderr",
     "output_type": "stream",
     "text": [
      " 49%|████▊     | 1119/2303 [04:40<04:29,  4.40it/s]"
     ]
    },
    {
     "name": "stdout",
     "output_type": "stream",
     "text": [
      "- CTVA: Data doesn't exist for startDate = 1503039600, endDate = 1509087600\n",
      "Yfinance error\n"
     ]
    },
    {
     "name": "stderr",
     "output_type": "stream",
     "text": [
      " 49%|████▉     | 1124/2303 [04:41<04:28,  4.39it/s]"
     ]
    },
    {
     "name": "stdout",
     "output_type": "stream",
     "text": [
      "- AMYT: Data doesn't exist for startDate = 1479801600, endDate = 1485849600\n",
      "Yfinance error\n"
     ]
    },
    {
     "name": "stderr",
     "output_type": "stream",
     "text": [
      " 49%|████▉     | 1127/2303 [04:42<04:18,  4.55it/s]"
     ]
    },
    {
     "name": "stdout",
     "output_type": "stream",
     "text": [
      "- OSMT: Data doesn't exist for startDate = 1479888000, endDate = 1485936000\n",
      "Yfinance error\n"
     ]
    },
    {
     "name": "stderr",
     "output_type": "stream",
     "text": [
      " 49%|████▉     | 1129/2303 [04:42<04:01,  4.87it/s]"
     ]
    },
    {
     "name": "stdout",
     "output_type": "stream",
     "text": [
      "- CTVA: Data doesn't exist for startDate = 1479888000, endDate = 1485936000\n",
      "Yfinance error\n"
     ]
    },
    {
     "name": "stderr",
     "output_type": "stream",
     "text": [
      " 49%|████▉     | 1139/2303 [04:45<04:32,  4.27it/s]"
     ]
    },
    {
     "name": "stdout",
     "output_type": "stream",
     "text": [
      "- PANA: Data doesn't exist for startDate = 1480492800, endDate = 1486540800\n",
      "Yfinance error\n"
     ]
    },
    {
     "name": "stderr",
     "output_type": "stream",
     "text": [
      " 50%|████▉     | 1144/2303 [04:46<04:18,  4.49it/s]"
     ]
    },
    {
     "name": "stdout",
     "output_type": "stream",
     "text": [
      "- OGN: Data doesn't exist for startDate = 1481184000, endDate = 1487232000\n",
      "Yfinance error\n"
     ]
    },
    {
     "name": "stderr",
     "output_type": "stream",
     "text": [
      " 50%|████▉     | 1146/2303 [04:47<03:54,  4.92it/s]"
     ]
    },
    {
     "name": "stdout",
     "output_type": "stream",
     "text": [
      "- CEL.P: No data found for this date range, symbol may be delisted\n",
      "Yfinance error\n"
     ]
    },
    {
     "name": "stderr",
     "output_type": "stream",
     "text": [
      " 50%|████▉     | 1149/2303 [04:47<03:57,  4.85it/s]"
     ]
    },
    {
     "name": "stdout",
     "output_type": "stream",
     "text": [
      "- CTVA: Data doesn't exist for startDate = 1481529600, endDate = 1487577600\n",
      "Yfinance error\n"
     ]
    },
    {
     "name": "stderr",
     "output_type": "stream",
     "text": [
      " 51%|█████     | 1165/2303 [04:52<04:54,  3.86it/s]"
     ]
    },
    {
     "name": "stdout",
     "output_type": "stream",
     "text": [
      "- CEL.P: No data found for this date range, symbol may be delisted\n",
      "Yfinance error\n"
     ]
    },
    {
     "name": "stderr",
     "output_type": "stream",
     "text": [
      " 51%|█████     | 1171/2303 [04:53<03:41,  5.12it/s]"
     ]
    },
    {
     "name": "stdout",
     "output_type": "stream",
     "text": [
      "- CEL.P: No data found for this date range, symbol may be delisted\n",
      "Yfinance error\n",
      "- EQRR: Data doesn't exist for startDate = 1482393600, endDate = 1488441600\n",
      "Yfinance error\n"
     ]
    },
    {
     "name": "stderr",
     "output_type": "stream",
     "text": [
      " 51%|█████▏    | 1181/2303 [04:56<04:24,  4.25it/s]"
     ]
    },
    {
     "name": "stdout",
     "output_type": "stream",
     "text": [
      "- SCPL: Data doesn't exist for startDate = 1483084800, endDate = 1489132800\n",
      "Yfinance error\n"
     ]
    },
    {
     "name": "stderr",
     "output_type": "stream",
     "text": [
      " 51%|█████▏    | 1184/2303 [04:57<04:08,  4.50it/s]"
     ]
    },
    {
     "name": "stdout",
     "output_type": "stream",
     "text": [
      "- AMRX: Data doesn't exist for startDate = 1483344000, endDate = 1489388400\n",
      "Yfinance error\n"
     ]
    },
    {
     "name": "stderr",
     "output_type": "stream",
     "text": [
      " 52%|█████▏    | 1191/2303 [04:58<03:59,  4.65it/s]"
     ]
    },
    {
     "name": "stdout",
     "output_type": "stream",
     "text": [
      "- AMRX: Data doesn't exist for startDate = 1483689600, endDate = 1489734000\n",
      "Yfinance error\n"
     ]
    },
    {
     "name": "stderr",
     "output_type": "stream",
     "text": [
      " 52%|█████▏    | 1194/2303 [04:59<03:11,  5.78it/s]"
     ]
    },
    {
     "name": "stdout",
     "output_type": "stream",
     "text": [
      "- CTVA: Data doesn't exist for startDate = 1484035200, endDate = 1490079600\n",
      "Yfinance error\n",
      "- CHNG: Data doesn't exist for startDate = 1484121600, endDate = 1490166000\n",
      "Yfinance error\n"
     ]
    },
    {
     "name": "stderr",
     "output_type": "stream",
     "text": [
      " 52%|█████▏    | 1203/2303 [05:01<04:07,  4.45it/s]"
     ]
    },
    {
     "name": "stdout",
     "output_type": "stream",
     "text": [
      "- EQRR: Data doesn't exist for startDate = 1484553600, endDate = 1490598000\n",
      "Yfinance error\n"
     ]
    },
    {
     "name": "stderr",
     "output_type": "stream",
     "text": [
      " 52%|█████▏    | 1205/2303 [05:02<03:34,  5.12it/s]"
     ]
    },
    {
     "name": "stdout",
     "output_type": "stream",
     "text": [
      "- SCPL: Data doesn't exist for startDate = 1484899200, endDate = 1490943600\n",
      "Yfinance error\n"
     ]
    },
    {
     "name": "stderr",
     "output_type": "stream",
     "text": [
      " 52%|█████▏    | 1207/2303 [05:02<03:23,  5.40it/s]"
     ]
    },
    {
     "name": "stdout",
     "output_type": "stream",
     "text": [
      "- CEL.P: No data found for this date range, symbol may be delisted\n",
      "Yfinance error\n"
     ]
    },
    {
     "name": "stderr",
     "output_type": "stream",
     "text": [
      " 53%|█████▎    | 1213/2303 [05:03<04:04,  4.45it/s]"
     ]
    },
    {
     "name": "stdout",
     "output_type": "stream",
     "text": [
      "- ALIM: Data doesn't exist for startDate = 1485331200, endDate = 1491375600\n",
      "Yfinance error\n"
     ]
    },
    {
     "name": "stderr",
     "output_type": "stream",
     "text": [
      " 53%|█████▎    | 1223/2303 [05:06<04:50,  3.72it/s]"
     ]
    },
    {
     "name": "stdout",
     "output_type": "stream",
     "text": [
      "- EQRR: Data doesn't exist for startDate = 1486108800, endDate = 1492153200\n",
      "Yfinance error\n"
     ]
    },
    {
     "name": "stderr",
     "output_type": "stream",
     "text": [
      " 54%|█████▍    | 1238/2303 [05:10<04:10,  4.25it/s]"
     ]
    },
    {
     "name": "stdout",
     "output_type": "stream",
     "text": [
      "- SCPL: Data doesn't exist for startDate = 1487059200, endDate = 1493103600\n",
      "Yfinance error\n"
     ]
    },
    {
     "name": "stderr",
     "output_type": "stream",
     "text": [
      " 54%|█████▍    | 1245/2303 [05:12<04:10,  4.22it/s]"
     ]
    },
    {
     "name": "stdout",
     "output_type": "stream",
     "text": [
      "- CEL.P: No data found for this date range, symbol may be delisted\n",
      "Yfinance error\n"
     ]
    },
    {
     "name": "stderr",
     "output_type": "stream",
     "text": [
      " 54%|█████▍    | 1250/2303 [05:14<03:42,  4.73it/s]"
     ]
    },
    {
     "name": "stdout",
     "output_type": "stream",
     "text": [
      "- CHNG: Data doesn't exist for startDate = 1487750400, endDate = 1493794800\n",
      "Yfinance error\n",
      "- CEL.P: No data found for this date range, symbol may be delisted\n",
      "Yfinance error\n"
     ]
    },
    {
     "name": "stderr",
     "output_type": "stream",
     "text": [
      "\r",
      " 54%|█████▍    | 1251/2303 [05:14<03:09,  5.55it/s]"
     ]
    },
    {
     "name": "stdout",
     "output_type": "stream",
     "text": [
      "- CTVA: Data doesn't exist for startDate = 1487750400, endDate = 1493794800\n",
      "Yfinance error\n"
     ]
    },
    {
     "name": "stderr",
     "output_type": "stream",
     "text": [
      " 54%|█████▍    | 1254/2303 [05:14<03:32,  4.94it/s]"
     ]
    },
    {
     "name": "stdout",
     "output_type": "stream",
     "text": [
      "- EQRR: Data doesn't exist for startDate = 1487923200, endDate = 1493967600\n",
      "Yfinance error\n"
     ]
    },
    {
     "name": "stderr",
     "output_type": "stream",
     "text": [
      " 55%|█████▍    | 1260/2303 [05:16<03:19,  5.22it/s]"
     ]
    },
    {
     "name": "stdout",
     "output_type": "stream",
     "text": [
      "- CHNG: Data doesn't exist for startDate = 1488787200, endDate = 1494831600\n",
      "Yfinance error\n",
      "- CTVA: Data doesn't exist for startDate = 1488787200, endDate = 1494831600\n",
      "Yfinance error\n"
     ]
    },
    {
     "name": "stderr",
     "output_type": "stream",
     "text": [
      " 55%|█████▍    | 1265/2303 [05:17<03:37,  4.78it/s]"
     ]
    },
    {
     "name": "stdout",
     "output_type": "stream",
     "text": [
      "- CEL.P: No data found for this date range, symbol may be delisted\n",
      "Yfinance error\n"
     ]
    },
    {
     "name": "stderr",
     "output_type": "stream",
     "text": [
      " 56%|█████▌    | 1282/2303 [05:22<04:06,  4.14it/s]"
     ]
    },
    {
     "name": "stdout",
     "output_type": "stream",
     "text": [
      "- CEL.P: No data found for this date range, symbol may be delisted\n",
      "Yfinance error\n"
     ]
    },
    {
     "name": "stderr",
     "output_type": "stream",
     "text": [
      " 56%|█████▌    | 1284/2303 [05:22<03:41,  4.60it/s]"
     ]
    },
    {
     "name": "stdout",
     "output_type": "stream",
     "text": [
      "- CEL.P: No data found for this date range, symbol may be delisted\n",
      "Yfinance error\n"
     ]
    },
    {
     "name": "stderr",
     "output_type": "stream",
     "text": [
      " 56%|█████▌    | 1288/2303 [05:23<03:33,  4.76it/s]"
     ]
    },
    {
     "name": "stdout",
     "output_type": "stream",
     "text": [
      "- CTVA: Data doesn't exist for startDate = 1491462000, endDate = 1497510000\n",
      "Yfinance error\n"
     ]
    },
    {
     "name": "stderr",
     "output_type": "stream",
     "text": [
      " 56%|█████▌    | 1293/2303 [05:24<03:19,  5.07it/s]"
     ]
    },
    {
     "name": "stdout",
     "output_type": "stream",
     "text": [
      "- CTVA: Data doesn't exist for startDate = 1491548400, endDate = 1497596400\n",
      "Yfinance error\n",
      "- CEL.P: No data found for this date range, symbol may be delisted\n",
      "Yfinance error\n"
     ]
    },
    {
     "name": "stderr",
     "output_type": "stream",
     "text": [
      " 56%|█████▌    | 1295/2303 [05:25<03:13,  5.22it/s]"
     ]
    },
    {
     "name": "stdout",
     "output_type": "stream",
     "text": [
      "- CEL.P: No data found for this date range, symbol may be delisted\n",
      "Yfinance error\n"
     ]
    },
    {
     "name": "stderr",
     "output_type": "stream",
     "text": [
      " 56%|█████▋    | 1300/2303 [05:26<03:45,  4.45it/s]"
     ]
    },
    {
     "name": "stdout",
     "output_type": "stream",
     "text": [
      "- AMRX: Data doesn't exist for startDate = 1491980400, endDate = 1498028400\n",
      "Yfinance error\n"
     ]
    },
    {
     "name": "stderr",
     "output_type": "stream",
     "text": [
      " 57%|█████▋    | 1303/2303 [05:27<04:03,  4.10it/s]"
     ]
    },
    {
     "name": "stdout",
     "output_type": "stream",
     "text": [
      "- AMRX: Data doesn't exist for startDate = 1492066800, endDate = 1498114800\n",
      "Yfinance error\n"
     ]
    },
    {
     "name": "stderr",
     "output_type": "stream",
     "text": [
      " 57%|█████▋    | 1313/2303 [05:29<03:48,  4.34it/s]"
     ]
    },
    {
     "name": "stdout",
     "output_type": "stream",
     "text": [
      "- CTVA: Data doesn't exist for startDate = 1492585200, endDate = 1498633200\n",
      "Yfinance error\n"
     ]
    },
    {
     "name": "stderr",
     "output_type": "stream",
     "text": [
      " 58%|█████▊    | 1326/2303 [05:33<03:04,  5.28it/s]"
     ]
    },
    {
     "name": "stdout",
     "output_type": "stream",
     "text": [
      "- AMRX: Data doesn't exist for startDate = 1493881200, endDate = 1499929200\n",
      "Yfinance error\n",
      "- EQRR: Data doesn't exist for startDate = 1493967600, endDate = 1500015600\n",
      "Yfinance error\n"
     ]
    },
    {
     "name": "stderr",
     "output_type": "stream",
     "text": [
      " 58%|█████▊    | 1332/2303 [05:34<03:24,  4.76it/s]"
     ]
    },
    {
     "name": "stdout",
     "output_type": "stream",
     "text": [
      "- OGN: Data doesn't exist for startDate = 1494918000, endDate = 1500966000\n",
      "Yfinance error\n"
     ]
    },
    {
     "name": "stderr",
     "output_type": "stream",
     "text": [
      " 58%|█████▊    | 1337/2303 [05:35<02:51,  5.64it/s]"
     ]
    },
    {
     "name": "stdout",
     "output_type": "stream",
     "text": [
      "- CEL.P: No data found for this date range, symbol may be delisted\n",
      "Yfinance error\n",
      "- CTVA: Data doesn't exist for startDate = 1448352000, endDate = 1454400000\n",
      "Yfinance error\n"
     ]
    },
    {
     "name": "stderr",
     "output_type": "stream",
     "text": [
      " 59%|█████▊    | 1348/2303 [05:38<03:32,  4.50it/s]"
     ]
    },
    {
     "name": "stdout",
     "output_type": "stream",
     "text": [
      "- SCPL: Data doesn't exist for startDate = 1448784000, endDate = 1454832000\n",
      "Yfinance error\n"
     ]
    },
    {
     "name": "stderr",
     "output_type": "stream",
     "text": [
      " 59%|█████▊    | 1353/2303 [05:39<03:37,  4.36it/s]"
     ]
    },
    {
     "name": "stdout",
     "output_type": "stream",
     "text": [
      "- AMAM: Data doesn't exist for startDate = 1449216000, endDate = 1455264000\n",
      "Yfinance error\n"
     ]
    },
    {
     "name": "stderr",
     "output_type": "stream",
     "text": [
      " 59%|█████▉    | 1356/2303 [05:40<03:25,  4.60it/s]"
     ]
    },
    {
     "name": "stdout",
     "output_type": "stream",
     "text": [
      "- EQRR: Data doesn't exist for startDate = 1449216000, endDate = 1455264000\n",
      "Yfinance error\n"
     ]
    },
    {
     "name": "stderr",
     "output_type": "stream",
     "text": [
      " 59%|█████▉    | 1361/2303 [05:41<03:20,  4.70it/s]"
     ]
    },
    {
     "name": "stdout",
     "output_type": "stream",
     "text": [
      "- ALC: Data doesn't exist for startDate = 1449734400, endDate = 1455782400\n",
      "Yfinance error\n"
     ]
    },
    {
     "name": "stderr",
     "output_type": "stream",
     "text": [
      " 59%|█████▉    | 1369/2303 [05:43<02:54,  5.36it/s]"
     ]
    },
    {
     "name": "stdout",
     "output_type": "stream",
     "text": [
      "- EQRR: Data doesn't exist for startDate = 1449820800, endDate = 1455868800\n",
      "Yfinance error\n",
      "- CEL.P: No data found for this date range, symbol may be delisted\n",
      "Yfinance error\n"
     ]
    },
    {
     "name": "stderr",
     "output_type": "stream",
     "text": [
      " 60%|█████▉    | 1373/2303 [05:44<03:08,  4.94it/s]"
     ]
    },
    {
     "name": "stdout",
     "output_type": "stream",
     "text": [
      "- SCPL: Data doesn't exist for startDate = 1450339200, endDate = 1456387200\n",
      "Yfinance error\n"
     ]
    },
    {
     "name": "stderr",
     "output_type": "stream",
     "text": [
      " 60%|█████▉    | 1380/2303 [05:46<02:51,  5.39it/s]"
     ]
    },
    {
     "name": "stdout",
     "output_type": "stream",
     "text": [
      "- CTVA: Data doesn't exist for startDate = 1471849200, endDate = 1477897200\n",
      "Yfinance error\n",
      "- ACI.S: No data found, symbol may be delisted\n",
      "Yfinance error\n"
     ]
    },
    {
     "name": "stderr",
     "output_type": "stream",
     "text": [
      "\r",
      " 60%|█████▉    | 1381/2303 [05:46<02:32,  6.04it/s]"
     ]
    },
    {
     "name": "stdout",
     "output_type": "stream",
     "text": [
      "- CEL.P: No data found for this date range, symbol may be delisted\n",
      "Yfinance error\n"
     ]
    },
    {
     "name": "stderr",
     "output_type": "stream",
     "text": [
      " 60%|██████    | 1384/2303 [05:47<03:11,  4.80it/s]"
     ]
    },
    {
     "name": "stdout",
     "output_type": "stream",
     "text": [
      "- EQRR: Data doesn't exist for startDate = 1472194800, endDate = 1478242800\n",
      "Yfinance error\n"
     ]
    },
    {
     "name": "stderr",
     "output_type": "stream",
     "text": [
      " 60%|██████    | 1386/2303 [05:47<03:02,  5.03it/s]"
     ]
    },
    {
     "name": "stdout",
     "output_type": "stream",
     "text": [
      "- CEL.P: No data found for this date range, symbol may be delisted\n",
      "Yfinance error\n"
     ]
    },
    {
     "name": "stderr",
     "output_type": "stream",
     "text": [
      " 61%|██████    | 1396/2303 [05:50<03:43,  4.06it/s]"
     ]
    },
    {
     "name": "stdout",
     "output_type": "stream",
     "text": [
      "- SCPL: Data doesn't exist for startDate = 1473490800, endDate = 1479542400\n",
      "Yfinance error\n"
     ]
    },
    {
     "name": "stderr",
     "output_type": "stream",
     "text": [
      " 61%|██████▏   | 1414/2303 [05:55<03:24,  4.35it/s]"
     ]
    },
    {
     "name": "stdout",
     "output_type": "stream",
     "text": [
      "- SCPL: Data doesn't exist for startDate = 1474009200, endDate = 1480060800\n",
      "Yfinance error\n"
     ]
    },
    {
     "name": "stderr",
     "output_type": "stream",
     "text": [
      " 61%|██████▏   | 1416/2303 [05:55<03:07,  4.72it/s]"
     ]
    },
    {
     "name": "stdout",
     "output_type": "stream",
     "text": [
      "- CEL.P: No data found for this date range, symbol may be delisted\n",
      "Yfinance error\n"
     ]
    },
    {
     "name": "stderr",
     "output_type": "stream",
     "text": [
      " 62%|██████▏   | 1426/2303 [05:58<03:21,  4.34it/s]"
     ]
    },
    {
     "name": "stdout",
     "output_type": "stream",
     "text": [
      "- CTVA: Data doesn't exist for startDate = 1474527600, endDate = 1480579200\n",
      "Yfinance error\n"
     ]
    },
    {
     "name": "stderr",
     "output_type": "stream",
     "text": [
      " 62%|██████▏   | 1430/2303 [05:59<04:20,  3.35it/s]"
     ]
    },
    {
     "name": "stdout",
     "output_type": "stream",
     "text": [
      "- EQRR: Data doesn't exist for startDate = 1474873200, endDate = 1480924800\n",
      "Yfinance error\n"
     ]
    },
    {
     "name": "stderr",
     "output_type": "stream",
     "text": [
      " 62%|██████▏   | 1434/2303 [06:00<03:06,  4.66it/s]"
     ]
    },
    {
     "name": "stdout",
     "output_type": "stream",
     "text": [
      "- AMAM: Data doesn't exist for startDate = 1474959600, endDate = 1481011200\n",
      "Yfinance error\n",
      "- AMRX: Data doesn't exist for startDate = 1474959600, endDate = 1481011200\n",
      "Yfinance error\n"
     ]
    },
    {
     "name": "stderr",
     "output_type": "stream",
     "text": [
      " 62%|██████▏   | 1436/2303 [06:01<02:58,  4.86it/s]"
     ]
    },
    {
     "name": "stdout",
     "output_type": "stream",
     "text": [
      "- ELAN: Data doesn't exist for startDate = 1474959600, endDate = 1481011200\n",
      "Yfinance error\n"
     ]
    },
    {
     "name": "stderr",
     "output_type": "stream",
     "text": [
      " 62%|██████▏   | 1439/2303 [06:01<02:33,  5.64it/s]"
     ]
    },
    {
     "name": "stdout",
     "output_type": "stream",
     "text": [
      "- SCPL: Data doesn't exist for startDate = 1475046000, endDate = 1481097600\n",
      "Yfinance error\n",
      "- AMRX: Data doesn't exist for startDate = 1475046000, endDate = 1481097600\n",
      "Yfinance error\n"
     ]
    },
    {
     "name": "stderr",
     "output_type": "stream",
     "text": [
      "\r",
      " 63%|██████▎   | 1440/2303 [06:01<02:17,  6.25it/s]"
     ]
    },
    {
     "name": "stdout",
     "output_type": "stream",
     "text": [
      "- CEL.P: No data found for this date range, symbol may be delisted\n",
      "Yfinance error\n"
     ]
    },
    {
     "name": "stderr",
     "output_type": "stream",
     "text": [
      " 63%|██████▎   | 1444/2303 [06:02<03:00,  4.76it/s]"
     ]
    },
    {
     "name": "stdout",
     "output_type": "stream",
     "text": [
      "- SCPL: Data doesn't exist for startDate = 1475478000, endDate = 1481529600\n",
      "Yfinance error\n"
     ]
    },
    {
     "name": "stderr",
     "output_type": "stream",
     "text": [
      " 63%|██████▎   | 1447/2303 [06:03<03:01,  4.71it/s]"
     ]
    },
    {
     "name": "stdout",
     "output_type": "stream",
     "text": [
      "- CHNG: Data doesn't exist for startDate = 1476082800, endDate = 1482134400\n",
      "Yfinance error\n"
     ]
    },
    {
     "name": "stderr",
     "output_type": "stream",
     "text": [
      " 63%|██████▎   | 1459/2303 [06:07<03:33,  3.96it/s]"
     ]
    },
    {
     "name": "stdout",
     "output_type": "stream",
     "text": [
      "- EQRR: Data doesn't exist for startDate = 1476860400, endDate = 1482912000\n",
      "Yfinance error\n"
     ]
    },
    {
     "name": "stderr",
     "output_type": "stream",
     "text": [
      " 64%|██████▎   | 1463/2303 [06:08<02:55,  4.78it/s]"
     ]
    },
    {
     "name": "stdout",
     "output_type": "stream",
     "text": [
      "- CTVA: Data doesn't exist for startDate = 1477292400, endDate = 1483344000\n",
      "Yfinance error\n",
      "- SCPL: Data doesn't exist for startDate = 1477378800, endDate = 1483430400\n",
      "Yfinance error\n"
     ]
    },
    {
     "name": "stderr",
     "output_type": "stream",
     "text": [
      " 64%|██████▍   | 1472/2303 [06:10<03:33,  3.89it/s]"
     ]
    },
    {
     "name": "stdout",
     "output_type": "stream",
     "text": [
      "- OSMT: Data doesn't exist for startDate = 1478070000, endDate = 1484121600\n",
      "Yfinance error\n"
     ]
    },
    {
     "name": "stderr",
     "output_type": "stream",
     "text": [
      " 64%|██████▍   | 1474/2303 [06:11<03:15,  4.24it/s]"
     ]
    },
    {
     "name": "stdout",
     "output_type": "stream",
     "text": [
      "- OGN: Data doesn't exist for startDate = 1478156400, endDate = 1484208000\n",
      "Yfinance error\n"
     ]
    },
    {
     "name": "stderr",
     "output_type": "stream",
     "text": [
      " 64%|██████▍   | 1476/2303 [06:11<02:54,  4.73it/s]"
     ]
    },
    {
     "name": "stdout",
     "output_type": "stream",
     "text": [
      "- SCPL: Data doesn't exist for startDate = 1478156400, endDate = 1484208000\n",
      "Yfinance error\n"
     ]
    },
    {
     "name": "stderr",
     "output_type": "stream",
     "text": [
      " 64%|██████▍   | 1483/2303 [06:14<03:37,  3.77it/s]"
     ]
    },
    {
     "name": "stdout",
     "output_type": "stream",
     "text": [
      "- EQRR: Data doesn't exist for startDate = 1478242800, endDate = 1484294400\n",
      "Yfinance error\n"
     ]
    },
    {
     "name": "stderr",
     "output_type": "stream",
     "text": [
      " 65%|██████▍   | 1494/2303 [06:17<03:27,  3.90it/s]"
     ]
    },
    {
     "name": "stdout",
     "output_type": "stream",
     "text": [
      "- CHNG: Data doesn't exist for startDate = 1478678400, endDate = 1484726400\n",
      "Yfinance error\n"
     ]
    },
    {
     "name": "stderr",
     "output_type": "stream",
     "text": [
      " 65%|██████▌   | 1498/2303 [06:18<03:15,  4.12it/s]"
     ]
    },
    {
     "name": "stdout",
     "output_type": "stream",
     "text": [
      "- CHNG: Data doesn't exist for startDate = 1478764800, endDate = 1484812800\n",
      "Yfinance error\n"
     ]
    },
    {
     "name": "stderr",
     "output_type": "stream",
     "text": [
      " 65%|██████▌   | 1502/2303 [06:19<02:58,  4.49it/s]"
     ]
    },
    {
     "name": "stdout",
     "output_type": "stream",
     "text": [
      "- CTVA: Data doesn't exist for startDate = 1479196800, endDate = 1485244800\n",
      "Yfinance error\n"
     ]
    },
    {
     "name": "stderr",
     "output_type": "stream",
     "text": [
      " 65%|██████▌   | 1504/2303 [06:19<02:44,  4.86it/s]"
     ]
    },
    {
     "name": "stdout",
     "output_type": "stream",
     "text": [
      "- EQRR: Data doesn't exist for startDate = 1479369600, endDate = 1485417600\n",
      "Yfinance error\n"
     ]
    },
    {
     "name": "stderr",
     "output_type": "stream",
     "text": [
      " 66%|██████▋   | 1528/2303 [06:27<03:21,  3.85it/s]"
     ]
    },
    {
     "name": "stdout",
     "output_type": "stream",
     "text": [
      "- SCPL: Data doesn't exist for startDate = 1451635200, endDate = 1457683200\n",
      "Yfinance error\n"
     ]
    },
    {
     "name": "stderr",
     "output_type": "stream",
     "text": [
      " 67%|██████▋   | 1532/2303 [06:28<03:05,  4.16it/s]"
     ]
    },
    {
     "name": "stdout",
     "output_type": "stream",
     "text": [
      "- SCPL: Data doesn't exist for startDate = 1451980800, endDate = 1458025200\n",
      "Yfinance error\n"
     ]
    },
    {
     "name": "stderr",
     "output_type": "stream",
     "text": [
      " 67%|██████▋   | 1538/2303 [06:29<03:10,  4.02it/s]"
     ]
    },
    {
     "name": "stdout",
     "output_type": "stream",
     "text": [
      "- CTVA: Data doesn't exist for startDate = 1452153600, endDate = 1458198000\n",
      "Yfinance error\n"
     ]
    },
    {
     "name": "stderr",
     "output_type": "stream",
     "text": [
      " 67%|██████▋   | 1545/2303 [06:32<03:16,  3.85it/s]"
     ]
    },
    {
     "name": "stdout",
     "output_type": "stream",
     "text": [
      "- CTVA: Data doesn't exist for startDate = 1452326400, endDate = 1458370800\n",
      "Yfinance error\n"
     ]
    },
    {
     "name": "stderr",
     "output_type": "stream",
     "text": [
      " 67%|██████▋   | 1550/2303 [06:33<03:13,  3.90it/s]"
     ]
    },
    {
     "name": "stdout",
     "output_type": "stream",
     "text": [
      "- CTVA: Data doesn't exist for startDate = 1452672000, endDate = 1458716400\n",
      "Yfinance error\n"
     ]
    },
    {
     "name": "stderr",
     "output_type": "stream",
     "text": [
      " 68%|██████▊   | 1561/2303 [06:36<03:12,  3.85it/s]"
     ]
    },
    {
     "name": "stdout",
     "output_type": "stream",
     "text": [
      "- SCPL: Data doesn't exist for startDate = 1453017600, endDate = 1459062000\n",
      "Yfinance error\n"
     ]
    },
    {
     "name": "stderr",
     "output_type": "stream",
     "text": [
      " 68%|██████▊   | 1564/2303 [06:37<02:59,  4.11it/s]"
     ]
    },
    {
     "name": "stdout",
     "output_type": "stream",
     "text": [
      "- CTVA: Data doesn't exist for startDate = 1453104000, endDate = 1459148400\n",
      "Yfinance error\n"
     ]
    },
    {
     "name": "stderr",
     "output_type": "stream",
     "text": [
      " 68%|██████▊   | 1566/2303 [06:38<02:37,  4.66it/s]"
     ]
    },
    {
     "name": "stdout",
     "output_type": "stream",
     "text": [
      "- OGN: Data doesn't exist for startDate = 1453190400, endDate = 1459234800\n",
      "Yfinance error\n"
     ]
    },
    {
     "name": "stderr",
     "output_type": "stream",
     "text": [
      " 68%|██████▊   | 1575/2303 [06:40<02:29,  4.88it/s]"
     ]
    },
    {
     "name": "stdout",
     "output_type": "stream",
     "text": [
      "- CEL.P: No data found for this date range, symbol may be delisted\n",
      "Yfinance error\n",
      "- CTVA: Data doesn't exist for startDate = 1453363200, endDate = 1459407600\n",
      "Yfinance error\n"
     ]
    },
    {
     "name": "stderr",
     "output_type": "stream",
     "text": [
      " 69%|██████▊   | 1578/2303 [06:41<02:44,  4.40it/s]"
     ]
    },
    {
     "name": "stdout",
     "output_type": "stream",
     "text": [
      "- AMYT: Data doesn't exist for startDate = 1453795200, endDate = 1459839600\n",
      "Yfinance error\n"
     ]
    },
    {
     "name": "stderr",
     "output_type": "stream",
     "text": [
      " 69%|██████▊   | 1582/2303 [06:42<02:58,  4.04it/s]"
     ]
    },
    {
     "name": "stdout",
     "output_type": "stream",
     "text": [
      "- CTVA: Data doesn't exist for startDate = 1453881600, endDate = 1459926000\n",
      "Yfinance error\n"
     ]
    },
    {
     "name": "stderr",
     "output_type": "stream",
     "text": [
      " 69%|██████▉   | 1596/2303 [06:46<03:15,  3.62it/s]"
     ]
    },
    {
     "name": "stdout",
     "output_type": "stream",
     "text": [
      "- SCPL: Data doesn't exist for startDate = 1455004800, endDate = 1461049200\n",
      "Yfinance error\n"
     ]
    },
    {
     "name": "stderr",
     "output_type": "stream",
     "text": [
      " 69%|██████▉   | 1598/2303 [06:47<03:01,  3.87it/s]"
     ]
    },
    {
     "name": "stdout",
     "output_type": "stream",
     "text": [
      "- CEL.P: No data found for this date range, symbol may be delisted\n",
      "Yfinance error\n"
     ]
    },
    {
     "name": "stderr",
     "output_type": "stream",
     "text": [
      " 70%|██████▉   | 1602/2303 [06:48<02:59,  3.91it/s]"
     ]
    },
    {
     "name": "stdout",
     "output_type": "stream",
     "text": [
      "- OSMT: Data doesn't exist for startDate = 1455177600, endDate = 1461222000\n",
      "Yfinance error\n"
     ]
    },
    {
     "name": "stderr",
     "output_type": "stream",
     "text": [
      " 70%|██████▉   | 1604/2303 [06:49<02:46,  4.19it/s]"
     ]
    },
    {
     "name": "stdout",
     "output_type": "stream",
     "text": [
      "- SCPL: Data doesn't exist for startDate = 1455177600, endDate = 1461222000\n",
      "Yfinance error\n"
     ]
    },
    {
     "name": "stderr",
     "output_type": "stream",
     "text": [
      " 70%|██████▉   | 1611/2303 [06:51<02:31,  4.57it/s]"
     ]
    },
    {
     "name": "stdout",
     "output_type": "stream",
     "text": [
      "- AMAM: Data doesn't exist for startDate = 1455696000, endDate = 1461740400\n",
      "Yfinance error\n",
      "- AMRX: Data doesn't exist for startDate = 1455696000, endDate = 1461740400\n",
      "Yfinance error\n"
     ]
    },
    {
     "name": "stderr",
     "output_type": "stream",
     "text": [
      " 70%|███████   | 1613/2303 [06:51<01:57,  5.86it/s]"
     ]
    },
    {
     "name": "stdout",
     "output_type": "stream",
     "text": [
      "- ELAN: Data doesn't exist for startDate = 1455696000, endDate = 1461740400\n",
      "Yfinance error\n",
      "- CEL.P: No data found for this date range, symbol may be delisted\n",
      "Yfinance error\n"
     ]
    },
    {
     "name": "stderr",
     "output_type": "stream",
     "text": [
      " 70%|███████   | 1617/2303 [06:52<02:39,  4.31it/s]"
     ]
    },
    {
     "name": "stdout",
     "output_type": "stream",
     "text": [
      "- CTVA: Data doesn't exist for startDate = 1456128000, endDate = 1462172400\n",
      "Yfinance error\n"
     ]
    },
    {
     "name": "stderr",
     "output_type": "stream",
     "text": [
      " 71%|███████   | 1625/2303 [06:54<02:24,  4.70it/s]"
     ]
    },
    {
     "name": "stdout",
     "output_type": "stream",
     "text": [
      "- CHNG: Data doesn't exist for startDate = 1456387200, endDate = 1462431600\n",
      "Yfinance error\n",
      "- CHNG: Data doesn't exist for startDate = 1456473600, endDate = 1462518000\n",
      "Yfinance error\n"
     ]
    },
    {
     "name": "stderr",
     "output_type": "stream",
     "text": [
      " 71%|███████   | 1635/2303 [06:57<02:46,  4.00it/s]"
     ]
    },
    {
     "name": "stdout",
     "output_type": "stream",
     "text": [
      "- CHNG: Data doesn't exist for startDate = 1457078400, endDate = 1463122800\n",
      "Yfinance error\n"
     ]
    },
    {
     "name": "stderr",
     "output_type": "stream",
     "text": [
      " 71%|███████   | 1639/2303 [06:58<02:25,  4.58it/s]"
     ]
    },
    {
     "name": "stdout",
     "output_type": "stream",
     "text": [
      "- CTVA: Data doesn't exist for startDate = 1457424000, endDate = 1463468400\n",
      "Yfinance error\n"
     ]
    },
    {
     "name": "stderr",
     "output_type": "stream",
     "text": [
      " 72%|███████▏  | 1652/2303 [07:02<02:32,  4.27it/s]"
     ]
    },
    {
     "name": "stdout",
     "output_type": "stream",
     "text": [
      "- ALC: Data doesn't exist for startDate = 1458111600, endDate = 1464159600\n",
      "Yfinance error\n"
     ]
    },
    {
     "name": "stderr",
     "output_type": "stream",
     "text": [
      " 72%|███████▏  | 1654/2303 [07:02<02:16,  4.77it/s]"
     ]
    },
    {
     "name": "stdout",
     "output_type": "stream",
     "text": [
      "- EQRR: Data doesn't exist for startDate = 1458111600, endDate = 1464159600\n",
      "Yfinance error\n"
     ]
    },
    {
     "name": "stderr",
     "output_type": "stream",
     "text": [
      " 72%|███████▏  | 1661/2303 [07:04<02:09,  4.94it/s]"
     ]
    },
    {
     "name": "stdout",
     "output_type": "stream",
     "text": [
      "- CEL.P: No data found for this date range, symbol may be delisted\n",
      "Yfinance error\n",
      "- CEL.P: No data found for this date range, symbol may be delisted\n",
      "Yfinance error\n"
     ]
    },
    {
     "name": "stderr",
     "output_type": "stream",
     "text": [
      " 73%|███████▎  | 1673/2303 [07:07<02:01,  5.18it/s]"
     ]
    },
    {
     "name": "stdout",
     "output_type": "stream",
     "text": [
      "- EQRR: Data doesn't exist for startDate = 1459148400, endDate = 1465196400\n",
      "Yfinance error\n",
      "- CTVA: Data doesn't exist for startDate = 1459148400, endDate = 1465196400\n",
      "Yfinance error\n"
     ]
    },
    {
     "name": "stderr",
     "output_type": "stream",
     "text": [
      " 73%|███████▎  | 1678/2303 [07:08<02:07,  4.92it/s]"
     ]
    },
    {
     "name": "stdout",
     "output_type": "stream",
     "text": [
      "- BFRA: Data doesn't exist for startDate = 1459234800, endDate = 1465282800\n",
      "Yfinance error\n"
     ]
    },
    {
     "name": "stderr",
     "output_type": "stream",
     "text": [
      " 73%|███████▎  | 1681/2303 [07:09<02:13,  4.67it/s]"
     ]
    },
    {
     "name": "stdout",
     "output_type": "stream",
     "text": [
      "- OGN: Data doesn't exist for startDate = 1459407600, endDate = 1465455600\n",
      "Yfinance error\n"
     ]
    },
    {
     "name": "stderr",
     "output_type": "stream",
     "text": [
      " 73%|███████▎  | 1687/2303 [07:10<02:15,  4.55it/s]"
     ]
    },
    {
     "name": "stdout",
     "output_type": "stream",
     "text": [
      "- CEL.P: No data found for this date range, symbol may be delisted\n",
      "Yfinance error\n"
     ]
    },
    {
     "name": "stderr",
     "output_type": "stream",
     "text": [
      " 74%|███████▎  | 1697/2303 [07:13<02:29,  4.05it/s]"
     ]
    },
    {
     "name": "stdout",
     "output_type": "stream",
     "text": [
      "- AMYT: Data doesn't exist for startDate = 1460358000, endDate = 1466406000\n",
      "Yfinance error\n"
     ]
    },
    {
     "name": "stderr",
     "output_type": "stream",
     "text": [
      " 74%|███████▍  | 1704/2303 [07:15<02:22,  4.19it/s]"
     ]
    },
    {
     "name": "stdout",
     "output_type": "stream",
     "text": [
      "- EQRR: Data doesn't exist for startDate = 1460444400, endDate = 1466492400\n",
      "Yfinance error\n"
     ]
    },
    {
     "name": "stderr",
     "output_type": "stream",
     "text": [
      " 74%|███████▍  | 1710/2303 [07:17<02:17,  4.30it/s]"
     ]
    },
    {
     "name": "stdout",
     "output_type": "stream",
     "text": [
      "- AMRX: Data doesn't exist for startDate = 1460703600, endDate = 1466751600\n",
      "Yfinance error\n"
     ]
    },
    {
     "name": "stderr",
     "output_type": "stream",
     "text": [
      " 75%|███████▍  | 1720/2303 [07:20<02:22,  4.10it/s]"
     ]
    },
    {
     "name": "stdout",
     "output_type": "stream",
     "text": [
      "- CEL.P: No data found for this date range, symbol may be delisted\n",
      "Yfinance error\n"
     ]
    },
    {
     "name": "stderr",
     "output_type": "stream",
     "text": [
      " 75%|███████▍  | 1723/2303 [07:20<02:16,  4.24it/s]"
     ]
    },
    {
     "name": "stdout",
     "output_type": "stream",
     "text": [
      "- CHNG: Data doesn't exist for startDate = 1461567600, endDate = 1467615600\n",
      "Yfinance error\n"
     ]
    },
    {
     "name": "stderr",
     "output_type": "stream",
     "text": [
      " 75%|███████▍  | 1727/2303 [07:21<01:46,  5.39it/s]"
     ]
    },
    {
     "name": "stdout",
     "output_type": "stream",
     "text": [
      "- CEL.P: No data found for this date range, symbol may be delisted\n",
      "Yfinance error\n",
      "- CHNG: Data doesn't exist for startDate = 1461654000, endDate = 1467702000\n",
      "Yfinance error\n"
     ]
    },
    {
     "name": "stderr",
     "output_type": "stream",
     "text": [
      " 75%|███████▌  | 1729/2303 [07:21<01:43,  5.52it/s]"
     ]
    },
    {
     "name": "stdout",
     "output_type": "stream",
     "text": [
      "- CHNG: Data doesn't exist for startDate = 1461740400, endDate = 1467788400\n",
      "Yfinance error\n"
     ]
    },
    {
     "name": "stderr",
     "output_type": "stream",
     "text": [
      " 75%|███████▌  | 1733/2303 [07:22<01:56,  4.89it/s]"
     ]
    },
    {
     "name": "stdout",
     "output_type": "stream",
     "text": [
      "- CTVA: Data doesn't exist for startDate = 1461826800, endDate = 1467874800\n",
      "Yfinance error\n"
     ]
    },
    {
     "name": "stderr",
     "output_type": "stream",
     "text": [
      " 76%|███████▌  | 1743/2303 [07:25<02:12,  4.22it/s]"
     ]
    },
    {
     "name": "stdout",
     "output_type": "stream",
     "text": [
      "- OGN: Data doesn't exist for startDate = 1462431600, endDate = 1468479600\n",
      "Yfinance error\n"
     ]
    },
    {
     "name": "stderr",
     "output_type": "stream",
     "text": [
      " 76%|███████▌  | 1752/2303 [07:28<02:22,  3.87it/s]"
     ]
    },
    {
     "name": "stdout",
     "output_type": "stream",
     "text": [
      "- OSMT: Data doesn't exist for startDate = 1462863600, endDate = 1468911600\n",
      "Yfinance error\n"
     ]
    },
    {
     "name": "stderr",
     "output_type": "stream",
     "text": [
      " 76%|███████▋  | 1758/2303 [07:30<02:21,  3.84it/s]"
     ]
    },
    {
     "name": "stdout",
     "output_type": "stream",
     "text": [
      "- SCPL: Data doesn't exist for startDate = 1463036400, endDate = 1469084400\n",
      "Yfinance error\n"
     ]
    },
    {
     "name": "stderr",
     "output_type": "stream",
     "text": [
      " 77%|███████▋  | 1767/2303 [07:32<02:21,  3.78it/s]"
     ]
    },
    {
     "name": "stdout",
     "output_type": "stream",
     "text": [
      "- CEL.P: No data found for this date range, symbol may be delisted\n",
      "Yfinance error\n"
     ]
    },
    {
     "name": "stderr",
     "output_type": "stream",
     "text": [
      " 77%|███████▋  | 1778/2303 [07:36<02:24,  3.63it/s]"
     ]
    },
    {
     "name": "stdout",
     "output_type": "stream",
     "text": [
      "- AMYT: Data doesn't exist for startDate = 1464591600, endDate = 1470639600\n",
      "Yfinance error\n"
     ]
    },
    {
     "name": "stderr",
     "output_type": "stream",
     "text": [
      " 77%|███████▋  | 1783/2303 [07:37<02:15,  3.84it/s]"
     ]
    },
    {
     "name": "stdout",
     "output_type": "stream",
     "text": [
      "- OGN: Data doesn't exist for startDate = 1464678000, endDate = 1470726000\n",
      "Yfinance error\n"
     ]
    },
    {
     "name": "stderr",
     "output_type": "stream",
     "text": [
      " 78%|███████▊  | 1787/2303 [07:38<02:02,  4.21it/s]"
     ]
    },
    {
     "name": "stdout",
     "output_type": "stream",
     "text": [
      "- CTVA: Data doesn't exist for startDate = 1465196400, endDate = 1471244400\n",
      "Yfinance error\n"
     ]
    },
    {
     "name": "stderr",
     "output_type": "stream",
     "text": [
      " 78%|███████▊  | 1789/2303 [07:39<01:50,  4.67it/s]"
     ]
    },
    {
     "name": "stdout",
     "output_type": "stream",
     "text": [
      "- CEL.P: No data found for this date range, symbol may be delisted\n",
      "Yfinance error\n"
     ]
    },
    {
     "name": "stderr",
     "output_type": "stream",
     "text": [
      " 78%|███████▊  | 1799/2303 [07:42<02:11,  3.83it/s]"
     ]
    },
    {
     "name": "stdout",
     "output_type": "stream",
     "text": [
      "- CTVA: Data doesn't exist for startDate = 1465887600, endDate = 1471935600\n",
      "Yfinance error\n"
     ]
    },
    {
     "name": "stderr",
     "output_type": "stream",
     "text": [
      " 78%|███████▊  | 1802/2303 [07:43<02:03,  4.06it/s]"
     ]
    },
    {
     "name": "stdout",
     "output_type": "stream",
     "text": [
      "- AMRX: Data doesn't exist for startDate = 1465974000, endDate = 1472022000\n",
      "Yfinance error\n"
     ]
    },
    {
     "name": "stderr",
     "output_type": "stream",
     "text": [
      " 79%|███████▉  | 1823/2303 [07:50<02:17,  3.49it/s]"
     ]
    },
    {
     "name": "stdout",
     "output_type": "stream",
     "text": [
      "- EQRR: Data doesn't exist for startDate = 1467356400, endDate = 1473404400\n",
      "Yfinance error\n"
     ]
    },
    {
     "name": "stderr",
     "output_type": "stream",
     "text": [
      " 80%|███████▉  | 1840/2303 [07:56<02:17,  3.36it/s]"
     ]
    },
    {
     "name": "stdout",
     "output_type": "stream",
     "text": [
      "- CEL.P: No data found for this date range, symbol may be delisted\n",
      "Yfinance error\n"
     ]
    },
    {
     "name": "stderr",
     "output_type": "stream",
     "text": [
      " 80%|███████▉  | 1842/2303 [07:56<01:49,  4.19it/s]"
     ]
    },
    {
     "name": "stdout",
     "output_type": "stream",
     "text": [
      "- SCPL: Data doesn't exist for startDate = 1469084400, endDate = 1475132400\n",
      "Yfinance error\n"
     ]
    },
    {
     "name": "stderr",
     "output_type": "stream",
     "text": [
      " 80%|████████  | 1847/2303 [07:57<01:41,  4.51it/s]"
     ]
    },
    {
     "name": "stdout",
     "output_type": "stream",
     "text": [
      "- CEL.P: No data found for this date range, symbol may be delisted\n",
      "Yfinance error\n"
     ]
    },
    {
     "name": "stderr",
     "output_type": "stream",
     "text": [
      " 80%|████████  | 1851/2303 [07:58<01:21,  5.56it/s]"
     ]
    },
    {
     "name": "stdout",
     "output_type": "stream",
     "text": [
      "- EQRR: Data doesn't exist for startDate = 1469775600, endDate = 1475823600\n",
      "Yfinance error\n",
      "- CEL.P: No data found for this date range, symbol may be delisted\n",
      "Yfinance error\n"
     ]
    },
    {
     "name": "stderr",
     "output_type": "stream",
     "text": [
      "\r",
      " 80%|████████  | 1852/2303 [07:58<01:11,  6.33it/s]"
     ]
    },
    {
     "name": "stdout",
     "output_type": "stream",
     "text": [
      "- SCPL: Data doesn't exist for startDate = 1470121200, endDate = 1476169200\n",
      "Yfinance error\n"
     ]
    },
    {
     "name": "stderr",
     "output_type": "stream",
     "text": [
      " 81%|████████  | 1854/2303 [07:59<01:13,  6.09it/s]"
     ]
    },
    {
     "name": "stdout",
     "output_type": "stream",
     "text": [
      "- CEL.P: No data found for this date range, symbol may be delisted\n",
      "Yfinance error\n"
     ]
    },
    {
     "name": "stderr",
     "output_type": "stream",
     "text": [
      " 81%|████████  | 1858/2303 [07:59<01:12,  6.11it/s]"
     ]
    },
    {
     "name": "stdout",
     "output_type": "stream",
     "text": [
      "- CHNG: Data doesn't exist for startDate = 1470380400, endDate = 1476428400\n",
      "Yfinance error\n",
      "- CTVA: Data doesn't exist for startDate = 1470380400, endDate = 1476428400\n",
      "Yfinance error\n"
     ]
    },
    {
     "name": "stderr",
     "output_type": "stream",
     "text": [
      " 81%|████████  | 1861/2303 [08:00<01:07,  6.52it/s]"
     ]
    },
    {
     "name": "stdout",
     "output_type": "stream",
     "text": [
      "- CTVA: Data doesn't exist for startDate = 1470726000, endDate = 1476774000\n",
      "Yfinance error\n",
      "- SCPL: Data doesn't exist for startDate = 1470726000, endDate = 1476774000\n",
      "Yfinance error\n"
     ]
    },
    {
     "name": "stderr",
     "output_type": "stream",
     "text": [
      " 81%|████████  | 1868/2303 [08:02<01:32,  4.72it/s]"
     ]
    },
    {
     "name": "stdout",
     "output_type": "stream",
     "text": [
      "- CEL.P: No data found for this date range, symbol may be delisted\n",
      "Yfinance error\n"
     ]
    },
    {
     "name": "stderr",
     "output_type": "stream",
     "text": [
      " 81%|████████▏ | 1872/2303 [08:03<01:31,  4.69it/s]"
     ]
    },
    {
     "name": "stdout",
     "output_type": "stream",
     "text": [
      "- BFRA: Data doesn't exist for startDate = 1471503600, endDate = 1477551600\n",
      "Yfinance error\n"
     ]
    },
    {
     "name": "stderr",
     "output_type": "stream",
     "text": [
      " 81%|████████▏ | 1874/2303 [08:03<01:23,  5.11it/s]"
     ]
    },
    {
     "name": "stdout",
     "output_type": "stream",
     "text": [
      "- CTVA: Data doesn't exist for startDate = 1471590000, endDate = 1477638000\n",
      "Yfinance error\n"
     ]
    },
    {
     "name": "stderr",
     "output_type": "stream",
     "text": [
      " 83%|████████▎ | 1904/2303 [08:11<01:30,  4.41it/s]"
     ]
    },
    {
     "name": "stdout",
     "output_type": "stream",
     "text": [
      "- CEL.P: No data found for this date range, symbol may be delisted\n",
      "Yfinance error\n"
     ]
    },
    {
     "name": "stderr",
     "output_type": "stream",
     "text": [
      " 83%|████████▎ | 1906/2303 [08:11<01:18,  5.04it/s]"
     ]
    },
    {
     "name": "stdout",
     "output_type": "stream",
     "text": [
      "- OGN: Data doesn't exist for startDate = 1579593600, endDate = 1585638000\n",
      "Yfinance error\n"
     ]
    },
    {
     "name": "stderr",
     "output_type": "stream",
     "text": [
      " 83%|████████▎ | 1914/2303 [08:14<01:32,  4.20it/s]"
     ]
    },
    {
     "name": "stdout",
     "output_type": "stream",
     "text": [
      "- CEL.P: No data found for this date range, symbol may be delisted\n",
      "Yfinance error\n"
     ]
    },
    {
     "name": "stderr",
     "output_type": "stream",
     "text": [
      " 85%|████████▍ | 1952/2303 [08:24<01:15,  4.62it/s]"
     ]
    },
    {
     "name": "stdout",
     "output_type": "stream",
     "text": [
      "- CUB-E: No data found, symbol may be delisted\n",
      "Yfinance error\n"
     ]
    },
    {
     "name": "stderr",
     "output_type": "stream",
     "text": [
      " 85%|████████▌ | 1967/2303 [08:28<01:18,  4.26it/s]"
     ]
    },
    {
     "name": "stdout",
     "output_type": "stream",
     "text": [
      "- AMAM: Data doesn't exist for startDate = 1578988800, endDate = 1585033200\n",
      "Yfinance error\n"
     ]
    },
    {
     "name": "stderr",
     "output_type": "stream",
     "text": [
      " 87%|████████▋ | 2014/2303 [08:41<01:03,  4.52it/s]"
     ]
    },
    {
     "name": "stdout",
     "output_type": "stream",
     "text": [
      "- CEL.P: No data found for this date range, symbol may be delisted\n",
      "Yfinance error\n"
     ]
    },
    {
     "name": "stderr",
     "output_type": "stream",
     "text": [
      " 88%|████████▊ | 2019/2303 [08:42<01:02,  4.55it/s]"
     ]
    },
    {
     "name": "stdout",
     "output_type": "stream",
     "text": [
      "- CEL.P: No data found for this date range, symbol may be delisted\n",
      "Yfinance error\n"
     ]
    },
    {
     "name": "stderr",
     "output_type": "stream",
     "text": [
      " 89%|████████▊ | 2043/2303 [08:49<01:04,  4.05it/s]"
     ]
    },
    {
     "name": "stdout",
     "output_type": "stream",
     "text": [
      "- AHL-C: No data found, symbol may be delisted\n",
      "Yfinance error\n"
     ]
    },
    {
     "name": "stderr",
     "output_type": "stream",
     "text": [
      " 89%|████████▉ | 2046/2303 [08:50<00:58,  4.40it/s]"
     ]
    },
    {
     "name": "stdout",
     "output_type": "stream",
     "text": [
      "- CEL.P: No data found for this date range, symbol may be delisted\n",
      "Yfinance error\n"
     ]
    },
    {
     "name": "stderr",
     "output_type": "stream",
     "text": [
      " 90%|█████████ | 2075/2303 [08:58<00:48,  4.66it/s]"
     ]
    },
    {
     "name": "stdout",
     "output_type": "stream",
     "text": [
      "- ATH.U: No data found, symbol may be delisted\n",
      "Yfinance error\n"
     ]
    },
    {
     "name": "stderr",
     "output_type": "stream",
     "text": [
      " 90%|█████████ | 2082/2303 [09:00<00:53,  4.09it/s]"
     ]
    },
    {
     "name": "stdout",
     "output_type": "stream",
     "text": [
      "- OGN: Data doesn't exist for startDate = 1596006000, endDate = 1602054000\n",
      "Yfinance error\n"
     ]
    },
    {
     "name": "stderr",
     "output_type": "stream",
     "text": [
      " 91%|█████████ | 2088/2303 [09:01<00:40,  5.36it/s]"
     ]
    },
    {
     "name": "stdout",
     "output_type": "stream",
     "text": [
      "- ACI.S: No data found, symbol may be delisted\n",
      "Yfinance error\n",
      "- CUB-E: No data found, symbol may be delisted\n",
      "Yfinance error\n"
     ]
    },
    {
     "name": "stderr",
     "output_type": "stream",
     "text": [
      " 91%|█████████ | 2091/2303 [09:02<00:46,  4.59it/s]"
     ]
    },
    {
     "name": "stdout",
     "output_type": "stream",
     "text": [
      "- CEL.P: No data found for this date range, symbol may be delisted\n",
      "Yfinance error\n"
     ]
    },
    {
     "name": "stderr",
     "output_type": "stream",
     "text": [
      " 91%|█████████ | 2097/2303 [09:03<00:48,  4.27it/s]"
     ]
    },
    {
     "name": "stdout",
     "output_type": "stream",
     "text": [
      "- CEL.P: No data found for this date range, symbol may be delisted\n",
      "Yfinance error\n"
     ]
    },
    {
     "name": "stderr",
     "output_type": "stream",
     "text": [
      " 91%|█████████▏| 2102/2303 [09:04<00:36,  5.46it/s]"
     ]
    },
    {
     "name": "stdout",
     "output_type": "stream",
     "text": [
      "- OGN: Data doesn't exist for startDate = 1597388400, endDate = 1603436400\n",
      "Yfinance error\n",
      "- CEL.P: No data found for this date range, symbol may be delisted\n",
      "Yfinance error\n"
     ]
    },
    {
     "name": "stderr",
     "output_type": "stream",
     "text": [
      " 92%|█████████▏| 2118/2303 [09:09<00:39,  4.63it/s]"
     ]
    },
    {
     "name": "stdout",
     "output_type": "stream",
     "text": [
      "- CEL.P: No data found for this date range, symbol may be delisted\n",
      "Yfinance error\n"
     ]
    },
    {
     "name": "stderr",
     "output_type": "stream",
     "text": [
      " 92%|█████████▏| 2124/2303 [09:10<00:38,  4.65it/s]"
     ]
    },
    {
     "name": "stdout",
     "output_type": "stream",
     "text": [
      "- OGN: Data doesn't exist for startDate = 1594278000, endDate = 1600326000\n",
      "Yfinance error\n"
     ]
    },
    {
     "name": "stderr",
     "output_type": "stream",
     "text": [
      " 95%|█████████▍| 2180/2303 [09:25<00:31,  3.94it/s]"
     ]
    },
    {
     "name": "stdout",
     "output_type": "stream",
     "text": [
      "- CEL.P: No data found for this date range, symbol may be delisted\n",
      "Yfinance error\n"
     ]
    },
    {
     "name": "stderr",
     "output_type": "stream",
     "text": [
      " 95%|█████████▌| 2194/2303 [09:29<00:23,  4.71it/s]"
     ]
    },
    {
     "name": "stdout",
     "output_type": "stream",
     "text": [
      "- CEL.P: No data found for this date range, symbol may be delisted\n",
      "Yfinance error\n"
     ]
    },
    {
     "name": "stderr",
     "output_type": "stream",
     "text": [
      " 96%|█████████▌| 2201/2303 [09:31<00:21,  4.86it/s]"
     ]
    },
    {
     "name": "stdout",
     "output_type": "stream",
     "text": [
      "- CEL.P: No data found for this date range, symbol may be delisted\n",
      "Yfinance error\n"
     ]
    },
    {
     "name": "stderr",
     "output_type": "stream",
     "text": [
      " 96%|█████████▌| 2210/2303 [09:33<00:21,  4.24it/s]"
     ]
    },
    {
     "name": "stdout",
     "output_type": "stream",
     "text": [
      "- CEL.P: No data found for this date range, symbol may be delisted\n",
      "Yfinance error\n"
     ]
    },
    {
     "name": "stderr",
     "output_type": "stream",
     "text": [
      " 96%|█████████▋| 2222/2303 [09:37<00:19,  4.22it/s]"
     ]
    },
    {
     "name": "stdout",
     "output_type": "stream",
     "text": [
      "- CEL.P: No data found for this date range, symbol may be delisted\n",
      "Yfinance error\n"
     ]
    },
    {
     "name": "stderr",
     "output_type": "stream",
     "text": [
      " 97%|█████████▋| 2234/2303 [09:40<00:16,  4.21it/s]"
     ]
    },
    {
     "name": "stdout",
     "output_type": "stream",
     "text": [
      "- CEL.P: No data found for this date range, symbol may be delisted\n",
      "Yfinance error\n"
     ]
    },
    {
     "name": "stderr",
     "output_type": "stream",
     "text": [
      "100%|██████████| 2303/2303 [10:00<00:00,  3.84it/s]\n"
     ]
    }
   ],
   "source": [
    "# create df for each ticker by first grabbing yfinance data, making TAs, and labelling \n",
    "finaldf = hist\n",
    "\n",
    "for i in tqdm(range(df.shape[0])):\n",
    "    if (i != 0):\n",
    "        try:\n",
    "            ticker = yf.Ticker(df['Company'].iloc[i])\n",
    "            hist = ticker.history( start=dates.iloc[i] - dt.timedelta(7*6), end=dates.iloc[i] + dt.timedelta(7*4))\n",
    "            hist.drop(['Dividends', 'Stock Splits'], axis=1, inplace=True)\n",
    "            hist['TimeToApproval'] = (dates.iloc[i] - hist.index).days\n",
    "            hist['Labels'] = create_labels(hist, 'Open')\n",
    "            \n",
    "            hist.columns = map(str.lower, hist.columns)\n",
    "\n",
    "            get_SMA(hist, 'open', [9,25])\n",
    "            get_EMA(hist, 'close', [15])\n",
    "            get_kst(hist, 'close', [13,18])\n",
    "            get_RSI_smooth(hist, 'close', [6])\n",
    "            get_TRIX(hist, 'close', [12, 22])\n",
    "            get_force_index(hist, [21, 25])\n",
    "            \n",
    "            del hist['open' + '_9_sma']\n",
    "            del hist['open' + '_25_sma']\n",
    "            \n",
    "            hist = hist.dropna()\n",
    "            finaldf = pd.concat([finaldf,hist], ignore_index=True)\n",
    "\n",
    "        except:\n",
    "            print(\"Yfinance error\")\n"
   ]
  },
  {
   "cell_type": "code",
   "execution_count": 242,
   "metadata": {
    "id": "4xaCnj5UD4dO"
   },
   "outputs": [],
   "source": [
    "# CHECKPOINT\n",
    "finaldf.to_csv('priceanddates.csv')"
   ]
  },
  {
   "cell_type": "code",
   "execution_count": 209,
   "metadata": {
    "id": "5YElSjabD4dP",
    "outputId": "193c53e8-5587-42a9-af71-d70372005a17"
   },
   "outputs": [
    {
     "name": "stderr",
     "output_type": "stream",
     "text": [
      "c:\\users\\sukisha\\appdata\\local\\programs\\python\\python39\\lib\\site-packages\\IPython\\core\\interactiveshell.py:3457: FutureWarning: The error_bad_lines argument has been deprecated and will be removed in a future version.\n",
      "\n",
      "\n",
      "  exec(code_obj, self.user_global_ns, self.user_ns)\n"
     ]
    }
   ],
   "source": [
    "finaldf = pd.read_csv('priceanddates.csv', error_bad_lines=False, engine=\"c\")"
   ]
  },
  {
   "cell_type": "code",
   "execution_count": 243,
   "metadata": {},
   "outputs": [
    {
     "data": {
      "text/html": [
       "<div>\n",
       "<style scoped>\n",
       "    .dataframe tbody tr th:only-of-type {\n",
       "        vertical-align: middle;\n",
       "    }\n",
       "\n",
       "    .dataframe tbody tr th {\n",
       "        vertical-align: top;\n",
       "    }\n",
       "\n",
       "    .dataframe thead th {\n",
       "        text-align: right;\n",
       "    }\n",
       "</style>\n",
       "<table border=\"1\" class=\"dataframe\">\n",
       "  <thead>\n",
       "    <tr style=\"text-align: right;\">\n",
       "      <th></th>\n",
       "      <th>open</th>\n",
       "      <th>high</th>\n",
       "      <th>low</th>\n",
       "      <th>close</th>\n",
       "      <th>volume</th>\n",
       "      <th>timetoapproval</th>\n",
       "      <th>labels</th>\n",
       "      <th>open_sma_9</th>\n",
       "      <th>open_sma_25</th>\n",
       "      <th>ema_15</th>\n",
       "      <th>kst_13</th>\n",
       "      <th>kst_18</th>\n",
       "      <th>rsi_6</th>\n",
       "      <th>trix_12</th>\n",
       "      <th>trix_22</th>\n",
       "      <th>fi_21</th>\n",
       "      <th>fi_25</th>\n",
       "    </tr>\n",
       "  </thead>\n",
       "  <tbody>\n",
       "    <tr>\n",
       "      <th>0</th>\n",
       "      <td>70.194711</td>\n",
       "      <td>70.790601</td>\n",
       "      <td>70.138338</td>\n",
       "      <td>70.371864</td>\n",
       "      <td>2748150.0</td>\n",
       "      <td>21</td>\n",
       "      <td>2.0</td>\n",
       "      <td>71.458079</td>\n",
       "      <td>71.526080</td>\n",
       "      <td>71.282118</td>\n",
       "      <td>20.680935</td>\n",
       "      <td>21.015659</td>\n",
       "      <td>22.789313</td>\n",
       "      <td>0.012160</td>\n",
       "      <td>0.026035</td>\n",
       "      <td>-5.417438e+05</td>\n",
       "      <td>-5.417438e+05</td>\n",
       "    </tr>\n",
       "    <tr>\n",
       "      <th>1</th>\n",
       "      <td>69.751811</td>\n",
       "      <td>69.880656</td>\n",
       "      <td>68.914338</td>\n",
       "      <td>69.059288</td>\n",
       "      <td>3427236.0</td>\n",
       "      <td>18</td>\n",
       "      <td>2.0</td>\n",
       "      <td>70.990131</td>\n",
       "      <td>71.415188</td>\n",
       "      <td>70.967067</td>\n",
       "      <td>15.582323</td>\n",
       "      <td>16.121814</td>\n",
       "      <td>22.672223</td>\n",
       "      <td>-0.010759</td>\n",
       "      <td>0.021557</td>\n",
       "      <td>-1.860665e+06</td>\n",
       "      <td>-1.860665e+06</td>\n",
       "    </tr>\n",
       "    <tr>\n",
       "      <th>2</th>\n",
       "      <td>69.083456</td>\n",
       "      <td>69.204251</td>\n",
       "      <td>68.382883</td>\n",
       "      <td>68.761353</td>\n",
       "      <td>3056724.0</td>\n",
       "      <td>17</td>\n",
       "      <td>2.0</td>\n",
       "      <td>70.428238</td>\n",
       "      <td>71.278028</td>\n",
       "      <td>70.659587</td>\n",
       "      <td>9.526049</td>\n",
       "      <td>10.365709</td>\n",
       "      <td>31.486154</td>\n",
       "      <td>-0.037526</td>\n",
       "      <td>0.015520</td>\n",
       "      <td>-1.544012e+06</td>\n",
       "      <td>-1.544012e+06</td>\n",
       "    </tr>\n",
       "    <tr>\n",
       "      <th>3</th>\n",
       "      <td>68.688876</td>\n",
       "      <td>69.204246</td>\n",
       "      <td>67.497089</td>\n",
       "      <td>68.004402</td>\n",
       "      <td>4332089.0</td>\n",
       "      <td>16</td>\n",
       "      <td>2.0</td>\n",
       "      <td>70.087344</td>\n",
       "      <td>71.134186</td>\n",
       "      <td>70.294706</td>\n",
       "      <td>2.979011</td>\n",
       "      <td>4.245693</td>\n",
       "      <td>26.605094</td>\n",
       "      <td>-0.068664</td>\n",
       "      <td>0.007716</td>\n",
       "      <td>-2.122400e+06</td>\n",
       "      <td>-2.122400e+06</td>\n",
       "    </tr>\n",
       "    <tr>\n",
       "      <th>4</th>\n",
       "      <td>68.592249</td>\n",
       "      <td>68.592249</td>\n",
       "      <td>67.400462</td>\n",
       "      <td>67.827248</td>\n",
       "      <td>7128115.0</td>\n",
       "      <td>15</td>\n",
       "      <td>2.0</td>\n",
       "      <td>69.945977</td>\n",
       "      <td>71.000400</td>\n",
       "      <td>69.959783</td>\n",
       "      <td>-3.113477</td>\n",
       "      <td>-1.480911</td>\n",
       "      <td>21.876098</td>\n",
       "      <td>-0.101162</td>\n",
       "      <td>-0.001436</td>\n",
       "      <td>-1.835860e+06</td>\n",
       "      <td>-1.835860e+06</td>\n",
       "    </tr>\n",
       "    <tr>\n",
       "      <th>...</th>\n",
       "      <td>...</td>\n",
       "      <td>...</td>\n",
       "      <td>...</td>\n",
       "      <td>...</td>\n",
       "      <td>...</td>\n",
       "      <td>...</td>\n",
       "      <td>...</td>\n",
       "      <td>...</td>\n",
       "      <td>...</td>\n",
       "      <td>...</td>\n",
       "      <td>...</td>\n",
       "      <td>...</td>\n",
       "      <td>...</td>\n",
       "      <td>...</td>\n",
       "      <td>...</td>\n",
       "      <td>...</td>\n",
       "      <td>...</td>\n",
       "    </tr>\n",
       "    <tr>\n",
       "      <th>57049</th>\n",
       "      <td>223.600618</td>\n",
       "      <td>231.889870</td>\n",
       "      <td>223.600618</td>\n",
       "      <td>225.131088</td>\n",
       "      <td>2292700.0</td>\n",
       "      <td>-13</td>\n",
       "      <td>2.0</td>\n",
       "      <td>223.586879</td>\n",
       "      <td>220.090610</td>\n",
       "      <td>223.121421</td>\n",
       "      <td>99.717465</td>\n",
       "      <td>104.594752</td>\n",
       "      <td>62.006966</td>\n",
       "      <td>0.416157</td>\n",
       "      <td>0.419144</td>\n",
       "      <td>-6.175822e+05</td>\n",
       "      <td>-6.175822e+05</td>\n",
       "    </tr>\n",
       "    <tr>\n",
       "      <th>57050</th>\n",
       "      <td>224.294538</td>\n",
       "      <td>227.165360</td>\n",
       "      <td>222.250749</td>\n",
       "      <td>226.224258</td>\n",
       "      <td>3322700.0</td>\n",
       "      <td>-14</td>\n",
       "      <td>2.0</td>\n",
       "      <td>223.898462</td>\n",
       "      <td>221.119161</td>\n",
       "      <td>223.511142</td>\n",
       "      <td>96.119661</td>\n",
       "      <td>100.552676</td>\n",
       "      <td>54.581455</td>\n",
       "      <td>0.390955</td>\n",
       "      <td>0.416148</td>\n",
       "      <td>7.990374e+05</td>\n",
       "      <td>7.990374e+05</td>\n",
       "    </tr>\n",
       "    <tr>\n",
       "      <th>57051</th>\n",
       "      <td>224.358053</td>\n",
       "      <td>230.100272</td>\n",
       "      <td>223.841260</td>\n",
       "      <td>229.880157</td>\n",
       "      <td>3111500.0</td>\n",
       "      <td>-15</td>\n",
       "      <td>2.0</td>\n",
       "      <td>224.276253</td>\n",
       "      <td>221.827047</td>\n",
       "      <td>224.310620</td>\n",
       "      <td>95.709020</td>\n",
       "      <td>99.714562</td>\n",
       "      <td>62.333275</td>\n",
       "      <td>0.372861</td>\n",
       "      <td>0.413248</td>\n",
       "      <td>4.324468e+06</td>\n",
       "      <td>4.324468e+06</td>\n",
       "    </tr>\n",
       "    <tr>\n",
       "      <th>57052</th>\n",
       "      <td>233.191498</td>\n",
       "      <td>233.890131</td>\n",
       "      <td>221.841046</td>\n",
       "      <td>223.171326</td>\n",
       "      <td>5631400.0</td>\n",
       "      <td>-18</td>\n",
       "      <td>0.0</td>\n",
       "      <td>225.758060</td>\n",
       "      <td>222.904242</td>\n",
       "      <td>224.167684</td>\n",
       "      <td>90.980367</td>\n",
       "      <td>94.614703</td>\n",
       "      <td>50.046731</td>\n",
       "      <td>0.347538</td>\n",
       "      <td>0.408017</td>\n",
       "      <td>-9.710393e+06</td>\n",
       "      <td>-9.710393e+06</td>\n",
       "    </tr>\n",
       "    <tr>\n",
       "      <th>57053</th>\n",
       "      <td>222.644933</td>\n",
       "      <td>223.410565</td>\n",
       "      <td>217.409944</td>\n",
       "      <td>217.658768</td>\n",
       "      <td>3835800.0</td>\n",
       "      <td>-19</td>\n",
       "      <td>2.0</td>\n",
       "      <td>225.431126</td>\n",
       "      <td>223.406336</td>\n",
       "      <td>223.351450</td>\n",
       "      <td>85.413011</td>\n",
       "      <td>88.777545</td>\n",
       "      <td>39.327110</td>\n",
       "      <td>0.309052</td>\n",
       "      <td>0.399095</td>\n",
       "      <td>-1.352195e+07</td>\n",
       "      <td>-1.352195e+07</td>\n",
       "    </tr>\n",
       "  </tbody>\n",
       "</table>\n",
       "<p>57054 rows × 17 columns</p>\n",
       "</div>"
      ],
      "text/plain": [
       "             open        high         low       close     volume  \\\n",
       "0       70.194711   70.790601   70.138338   70.371864  2748150.0   \n",
       "1       69.751811   69.880656   68.914338   69.059288  3427236.0   \n",
       "2       69.083456   69.204251   68.382883   68.761353  3056724.0   \n",
       "3       68.688876   69.204246   67.497089   68.004402  4332089.0   \n",
       "4       68.592249   68.592249   67.400462   67.827248  7128115.0   \n",
       "...           ...         ...         ...         ...        ...   \n",
       "57049  223.600618  231.889870  223.600618  225.131088  2292700.0   \n",
       "57050  224.294538  227.165360  222.250749  226.224258  3322700.0   \n",
       "57051  224.358053  230.100272  223.841260  229.880157  3111500.0   \n",
       "57052  233.191498  233.890131  221.841046  223.171326  5631400.0   \n",
       "57053  222.644933  223.410565  217.409944  217.658768  3835800.0   \n",
       "\n",
       "       timetoapproval  labels  open_sma_9  open_sma_25      ema_15     kst_13  \\\n",
       "0                  21     2.0   71.458079    71.526080   71.282118  20.680935   \n",
       "1                  18     2.0   70.990131    71.415188   70.967067  15.582323   \n",
       "2                  17     2.0   70.428238    71.278028   70.659587   9.526049   \n",
       "3                  16     2.0   70.087344    71.134186   70.294706   2.979011   \n",
       "4                  15     2.0   69.945977    71.000400   69.959783  -3.113477   \n",
       "...               ...     ...         ...          ...         ...        ...   \n",
       "57049             -13     2.0  223.586879   220.090610  223.121421  99.717465   \n",
       "57050             -14     2.0  223.898462   221.119161  223.511142  96.119661   \n",
       "57051             -15     2.0  224.276253   221.827047  224.310620  95.709020   \n",
       "57052             -18     0.0  225.758060   222.904242  224.167684  90.980367   \n",
       "57053             -19     2.0  225.431126   223.406336  223.351450  85.413011   \n",
       "\n",
       "           kst_18      rsi_6   trix_12   trix_22         fi_21         fi_25  \n",
       "0       21.015659  22.789313  0.012160  0.026035 -5.417438e+05 -5.417438e+05  \n",
       "1       16.121814  22.672223 -0.010759  0.021557 -1.860665e+06 -1.860665e+06  \n",
       "2       10.365709  31.486154 -0.037526  0.015520 -1.544012e+06 -1.544012e+06  \n",
       "3        4.245693  26.605094 -0.068664  0.007716 -2.122400e+06 -2.122400e+06  \n",
       "4       -1.480911  21.876098 -0.101162 -0.001436 -1.835860e+06 -1.835860e+06  \n",
       "...           ...        ...       ...       ...           ...           ...  \n",
       "57049  104.594752  62.006966  0.416157  0.419144 -6.175822e+05 -6.175822e+05  \n",
       "57050  100.552676  54.581455  0.390955  0.416148  7.990374e+05  7.990374e+05  \n",
       "57051   99.714562  62.333275  0.372861  0.413248  4.324468e+06  4.324468e+06  \n",
       "57052   94.614703  50.046731  0.347538  0.408017 -9.710393e+06 -9.710393e+06  \n",
       "57053   88.777545  39.327110  0.309052  0.399095 -1.352195e+07 -1.352195e+07  \n",
       "\n",
       "[57054 rows x 17 columns]"
      ]
     },
     "execution_count": 243,
     "metadata": {},
     "output_type": "execute_result"
    }
   ],
   "source": [
    "finaldf"
   ]
  },
  {
   "cell_type": "code",
   "execution_count": 244,
   "metadata": {
    "id": "Fqi4buKkD4dQ"
   },
   "outputs": [],
   "source": [
    "# taken from  nayash / stock_cnn_blog_pub\n",
    "# these are implemenations of loss for the neural net and a helper function to reshape the data into an image to feed into the cnn\n",
    "\n",
    "from sklearn.preprocessing import MinMaxScaler, OneHotEncoder\n",
    "from sklearn.model_selection import train_test_split\n",
    "from collections import Counter\n",
    "from matplotlib import pyplot as plt\n",
    "\n",
    "from sklearn.utils import compute_class_weight\n",
    "import tensorflow as tf\n",
    "from tensorflow.keras import backend as K\n",
    "from tensorflow.keras.utils import get_custom_objects\n",
    "\n",
    "def get_sample_weights(y):\n",
    "    \"\"\"\n",
    "    calculate the sample weights based on class weights. Used for models with\n",
    "    imbalanced data and one hot encoding prediction.\n",
    "\n",
    "    params:\n",
    "        y: class labels as integers\n",
    "    \"\"\"\n",
    "\n",
    "    y = y.astype(int)  # compute_class_weight needs int labels\n",
    "    class_weights = class_weight.compute_class_weight('balanced', np.unique(y), y)\n",
    "    print(\"real class weights are {}\".format(class_weights), np.unique(y))\n",
    "    print(\"value_counts\", np.unique(y, return_counts=True))\n",
    "    sample_weights = y.copy().astype(float)\n",
    "    for i in np.unique(y):\n",
    "        sample_weights[sample_weights == i] = class_weights[i]  # if i == 2 else 0.8 * class_weights[i]\n",
    "        # sample_weights = np.where(sample_weights == i, class_weights[int(i)], y_)\n",
    "\n",
    "    return sample_weights\n",
    "\n",
    "def reshape_as_image(x, img_width, img_height):\n",
    "    x_temp = np.zeros((len(x), img_height, img_width))\n",
    "    for i in range(x.shape[0]):\n",
    "        # print(type(x), type(x_temp), x.shape)\n",
    "        x_temp[i] = np.reshape(x[i], (img_height, img_width))\n",
    "\n",
    "    return x_temp\n",
    "\n",
    "def f1_weighted(y_true, y_pred):\n",
    "    y_true_class = tf.math.argmax(y_true, axis=1, output_type=tf.dtypes.int32)\n",
    "    y_pred_class = tf.math.argmax(y_pred, axis=1, output_type=tf.dtypes.int32)\n",
    "    conf_mat = tf.math.confusion_matrix(y_true_class, y_pred_class)  # can use conf_mat[0, :], tf.slice()\n",
    "    # precision = TP/TP+FP, recall = TP/TP+FN\n",
    "    rows, cols = conf_mat.get_shape()\n",
    "    size = y_true_class.get_shape()[0]\n",
    "    precision = tf.constant([0, 0, 0])  # change this to use rows/cols as size\n",
    "    recall = tf.constant([0, 0, 0])\n",
    "    class_counts = tf.constant([0, 0, 0])\n",
    "\n",
    "    def get_precision(i, conf_mat):\n",
    "        print(\"prec check\", conf_mat, conf_mat[i, i], tf.reduce_sum(conf_mat[:, i]))\n",
    "        precision[i].assign(conf_mat[i, i] / tf.reduce_sum(conf_mat[:, i]))\n",
    "        recall[i].assign(conf_mat[i, i] / tf.reduce_sum(conf_mat[i, :]))\n",
    "        tf.add(i, 1)\n",
    "        return i, conf_mat, precision, recall\n",
    "\n",
    "    def tf_count(i):\n",
    "        elements_equal_to_value = tf.equal(y_true_class, i)\n",
    "        as_ints = tf.cast(elements_equal_to_value, tf.int32)\n",
    "        count = tf.reduce_sum(as_ints)\n",
    "        class_counts[i].assign(count)\n",
    "        tf.add(i, 1)\n",
    "        return count\n",
    "\n",
    "    def condition(i, conf_mat):\n",
    "        return tf.less(i, 3)\n",
    "\n",
    "    i = tf.constant(3)\n",
    "    i, conf_mat = tf.while_loop(condition, get_precision, [i, conf_mat])\n",
    "\n",
    "    i = tf.constant(3)\n",
    "    c = lambda i: tf.less(i, 3)\n",
    "    b = tf_count(i)\n",
    "    tf.while_loop(c, b, [i])\n",
    "\n",
    "    weights = tf.math.divide(class_counts, size)\n",
    "    numerators = tf.math.multiply(tf.math.multiply(precision, recall), tf.constant(2))\n",
    "    denominators = tf.math.add(precision, recall)\n",
    "    f1s = tf.math.divide(numerators, denominators)\n",
    "    weighted_f1 = tf.reduce_sum(f.math.multiply(f1s, weights))\n",
    "    return weighted_f1\n",
    "\n",
    "def f1_metric(y_true, y_pred):\n",
    "    \"\"\"\n",
    "    this calculates precision & recall \n",
    "    \"\"\"\n",
    "\n",
    "    def recall(y_true, y_pred):\n",
    "        true_positives = K.sum(K.round(K.clip(y_true * y_pred, 0, 1)))  # mistake: y_pred of 0.3 is also considered 1\n",
    "        possible_positives = K.sum(K.round(K.clip(y_true, 0, 1)))\n",
    "        recall = true_positives / (possible_positives + K.epsilon())\n",
    "        return recall\n",
    "\n",
    "    def precision(y_true, y_pred):\n",
    "        true_positives = K.sum(K.round(K.clip(y_true * y_pred, 0, 1)))\n",
    "        predicted_positives = K.sum(K.round(K.clip(y_pred, 0, 1)))\n",
    "        precision = true_positives / (predicted_positives + K.epsilon())\n",
    "        return precision\n",
    "\n",
    "    precision = precision(y_true, y_pred)\n",
    "    recall = recall(y_true, y_pred)\n",
    "    # y_true_class = tf.math.argmax(y_true, axis=1, output_type=tf.dtypes.int32)\n",
    "    # y_pred_class = tf.math.argmax(y_pred, axis=1, output_type=tf.dtypes.int32)\n",
    "    # conf_mat = tf.math.confusion_matrix(y_true_class, y_pred_class)\n",
    "    # tf.Print(conf_mat, [conf_mat], \"confusion_matrix\")\n",
    "\n",
    "    return 2 * ((precision * recall) / (precision + recall + K.epsilon()))\n",
    "\n",
    "get_custom_objects().update({\"f1_metric\": f1_metric, \"f1_weighted\": f1_weighted})"
   ]
  },
  {
   "cell_type": "code",
   "execution_count": 245,
   "metadata": {
    "id": "lxsGdd4ND4dS"
   },
   "outputs": [],
   "source": [
    "# referenced  nayash / stock_cnn_blog_pub\n",
    "finaldata = finaldf.drop(columns=['labels'], axis=1)\n",
    "x_train, x_test, y_train, y_test = train_test_split(finaldata.loc[:, 'open':'fi_25'].values, finaldf['labels'].values, train_size=0.8,  test_size=0.2, random_state=2, shuffle=True, stratify=finaldf['labels'].values)\n",
    "x_train, x_cv, y_train, y_cv = train_test_split(x_train, y_train, train_size=0.8, test_size=0.2, random_state=2, shuffle=True, stratify=y_train)"
   ]
  },
  {
   "cell_type": "code",
   "execution_count": 246,
   "metadata": {
    "id": "AdZvkJ7ZD4dT",
    "outputId": "2edafcf3-8bfb-4dfd-f7bb-a082ed4c8b35"
   },
   "outputs": [
    {
     "name": "stdout",
     "output_type": "stream",
     "text": [
      "Model: \"sequential_13\"\n",
      "_________________________________________________________________\n",
      " Layer (type)                Output Shape              Param #   \n",
      "=================================================================\n",
      " conv2d_26 (Conv2D)          (None, 4, 4, 32)          896       \n",
      "                                                                 \n",
      " dropout_39 (Dropout)        (None, 4, 4, 32)          0         \n",
      "                                                                 \n",
      " conv2d_27 (Conv2D)          (None, 4, 4, 64)          18496     \n",
      "                                                                 \n",
      " dropout_40 (Dropout)        (None, 4, 4, 64)          0         \n",
      "                                                                 \n",
      " flatten_13 (Flatten)        (None, 1024)              0         \n",
      "                                                                 \n",
      " dense_26 (Dense)            (None, 100)               102500    \n",
      "                                                                 \n",
      " activation_26 (Activation)  (None, 100)               0         \n",
      "                                                                 \n",
      " dropout_41 (Dropout)        (None, 100)               0         \n",
      "                                                                 \n",
      " activation_27 (Activation)  (None, 100)               0         \n",
      "                                                                 \n",
      " dense_27 (Dense)            (None, 3)                 303       \n",
      "                                                                 \n",
      "=================================================================\n",
      "Total params: 122,195\n",
      "Trainable params: 122,195\n",
      "Non-trainable params: 0\n",
      "_________________________________________________________________\n"
     ]
    }
   ],
   "source": [
    "# referenced  \"Algorithmic Financial Trading with Deep Convolutional Neural Networks: Time Series to Image Conversion Approach\" and nayash / stock_cnn_blog_pub\n",
    "# the layers of the neural net, in which we apply CNNs\n",
    "\n",
    "from keras.models import Sequential\n",
    "from keras.layers import Dense, Dropout\n",
    "from keras.layers.convolutional import Conv2D\n",
    "from keras.layers import Activation, Flatten\n",
    "model = Sequential()\n",
    "model.add(Conv2D(32, kernel_size = (3, 3), activation='relu', padding='same', strides=(1,1), input_shape=(4, 4, 3)))\n",
    "model.add(Dropout(0.25))\n",
    "model.add(Conv2D(64, kernel_size = (3, 3), activation='relu', padding='same', strides=(1, 1)))\n",
    "model.add(Dropout(0.2))\n",
    "model.add(Flatten())\n",
    "model.add(Dense(100))\n",
    "model.add(Activation('relu'))\n",
    "model.add(Dropout(0.2))\n",
    "model.add(Activation('relu'))\n",
    "model.add(Dense(3, activation='softmax'))\n",
    "model.compile(loss='categorical_crossentropy', optimizer='SGD', metrics=['accuracy', f1_metric])\n",
    "\n",
    "model.summary()"
   ]
  },
  {
   "cell_type": "code",
   "execution_count": 247,
   "metadata": {
    "id": "xqTHAbJgD4dU"
   },
   "outputs": [],
   "source": [
    "# referenced  nayash / stock_cnn_blog_pub\n",
    "# normalizing data\n",
    "mm_scaler = MinMaxScaler(feature_range=(0, 1))\n",
    "x_train = mm_scaler.fit_transform(x_train)\n",
    "x_test = mm_scaler.transform(x_test)\n",
    "x_cv = mm_scaler.transform(x_cv)"
   ]
  },
  {
   "cell_type": "code",
   "execution_count": 248,
   "metadata": {
    "id": "_noX92WgD4dV"
   },
   "outputs": [],
   "source": [
    "# referenced  nayash / stock_cnn_blog_pub\n",
    "# reshaping data as images\n",
    "\n",
    "x_train = reshape_as_image(x_train, 4, 4)\n",
    "x_test = reshape_as_image(x_test, 4, 4)\n",
    "x_cv = reshape_as_image(x_cv, 4, 4)\n",
    "# adding a 1-dim for channels (3)\n",
    "x_train = np.stack((x_train,) * 3, axis=-1)\n",
    "x_test = np.stack((x_test,) * 3, axis=-1)\n",
    "x_cv = np.stack((x_cv,) * 3, axis=-1)"
   ]
  },
  {
   "cell_type": "code",
   "execution_count": 249,
   "metadata": {
    "id": "l1kbut9AD4dV",
    "outputId": "83a94ec5-34d2-42da-da20-b2a0bef6d4e5"
   },
   "outputs": [
    {
     "name": "stdout",
     "output_type": "stream",
     "text": [
      "(9129, 4, 4, 3)\n"
     ]
    }
   ],
   "source": [
    "print(x_cv.shape)"
   ]
  },
  {
   "cell_type": "code",
   "execution_count": 393,
   "metadata": {
    "id": "MXQ5Rg_-D4dX",
    "outputId": "c716ae25-8034-418a-8397-77841c1e7aec"
   },
   "outputs": [
    {
     "data": {
      "image/png": "[encoded data removed]",
      "text/plain": [
       "<Figure size 1080x1080 with 9 Axes>"
      ]
     },
     "metadata": {
      "needs_background": "light"
     },
     "output_type": "display_data"
    }
   ],
   "source": [
    "# referenced  nayash / stock_cnn_blog_pub\n",
    "# examples of what the data looks like as pictures\n",
    "\n",
    "from matplotlib import pyplot as plt\n",
    "fig = plt.figure(figsize=(15, 15))\n",
    "columns = rows = 3\n",
    "for i in range(1, columns*rows +1):\n",
    "    index = np.random.randint(len(x_train))\n",
    "    img = x_train[index]\n",
    "    fig.add_subplot(rows, columns, i)\n",
    "    plt.axis(\"off\")\n",
    "    plt.title('image_'+str(index)+'_class_'+str(np.argmax(y_train[index])), fontsize=10)\n",
    "    plt.subplots_adjust(wspace=0.2, hspace=0.2)\n",
    "    plt.imshow(img)\n",
    "plt.show()"
   ]
  },
  {
   "cell_type": "code",
   "execution_count": 251,
   "metadata": {
    "id": "NLivEoXOD4dY"
   },
   "outputs": [],
   "source": [
    "# we weight the buy / sell data points more due to the abundance of hold\n",
    "sample_weight = np.ones(shape=(len(y_train),))\n",
    "sample_weight[y_train == 0] = 4\n",
    "sample_weight[y_train == 1] = 4"
   ]
  },
  {
   "cell_type": "code",
   "execution_count": 252,
   "metadata": {
    "id": "W3FXEn6DD4dY"
   },
   "outputs": [],
   "source": [
    "# referenced  nayash / stock_cnn_blog_pub\n",
    "# reformat the labels \n",
    "one_hot_enc = OneHotEncoder(sparse=False, categories='auto')  # , categories='auto'\n",
    "y_train = one_hot_enc.fit_transform(y_train.reshape(-1, 1))\n",
    "y_test = one_hot_enc.fit_transform(y_test.reshape(-1, 1))\n",
    "y_cv = one_hot_enc.fit_transform(y_cv.reshape(-1, 1))"
   ]
  },
  {
   "cell_type": "code",
   "execution_count": 253,
   "metadata": {
    "id": "lyLUDjD1D4dZ",
    "outputId": "65b81d50-4d17-458c-f89f-6e0ee58a0b63"
   },
   "outputs": [
    {
     "name": "stdout",
     "output_type": "stream",
     "text": [
      "Epoch 1/10\n",
      "1142/1142 [==============================] - 4s 3ms/step - loss: 1.2096 - accuracy: 0.8786 - f1_metric: 0.8567 - val_loss: 0.6487 - val_accuracy: 0.8794 - val_f1_metric: 0.8794\n",
      "Epoch 2/10\n",
      "1142/1142 [==============================] - 4s 3ms/step - loss: 1.1511 - accuracy: 0.8789 - f1_metric: 0.8771 - val_loss: 0.5732 - val_accuracy: 0.8794 - val_f1_metric: 0.8794\n",
      "Epoch 3/10\n",
      "1142/1142 [==============================] - 4s 3ms/step - loss: 1.1320 - accuracy: 0.8788 - f1_metric: 0.8780 - val_loss: 0.5970 - val_accuracy: 0.8794 - val_f1_metric: 0.8794\n",
      "Epoch 4/10\n",
      "1142/1142 [==============================] - 4s 4ms/step - loss: 1.1251 - accuracy: 0.8793 - f1_metric: 0.8793 - val_loss: 0.5904 - val_accuracy: 0.8794 - val_f1_metric: 0.8794\n",
      "Epoch 5/10\n",
      "1142/1142 [==============================] - 4s 4ms/step - loss: 1.1198 - accuracy: 0.8794 - f1_metric: 0.8795 - val_loss: 0.5573 - val_accuracy: 0.8794 - val_f1_metric: 0.8794\n",
      "Epoch 6/10\n",
      "1142/1142 [==============================] - 4s 3ms/step - loss: 1.1170 - accuracy: 0.8794 - f1_metric: 0.8791 - val_loss: 0.5865 - val_accuracy: 0.8794 - val_f1_metric: 0.8794\n",
      "Epoch 7/10\n",
      "1142/1142 [==============================] - 4s 3ms/step - loss: 1.1159 - accuracy: 0.8794 - f1_metric: 0.8791 - val_loss: 0.6023 - val_accuracy: 0.8794 - val_f1_metric: 0.8794\n",
      "Epoch 8/10\n",
      "1142/1142 [==============================] - 4s 3ms/step - loss: 1.1132 - accuracy: 0.8794 - f1_metric: 0.8791 - val_loss: 0.6053 - val_accuracy: 0.8794 - val_f1_metric: 0.8794\n",
      "Epoch 9/10\n",
      "1142/1142 [==============================] - 5s 4ms/step - loss: 1.1120 - accuracy: 0.8794 - f1_metric: 0.8791 - val_loss: 0.6301 - val_accuracy: 0.8794 - val_f1_metric: 0.8794\n",
      "Epoch 10/10\n",
      "1142/1142 [==============================] - 4s 4ms/step - loss: 1.1122 - accuracy: 0.8794 - f1_metric: 0.8791 - val_loss: 0.5740 - val_accuracy: 0.8794 - val_f1_metric: 0.8794\n"
     ]
    },
    {
     "data": {
      "text/plain": [
       "<keras.callbacks.History at 0x214adbe1b50>"
      ]
     },
     "execution_count": 253,
     "metadata": {},
     "output_type": "execute_result"
    }
   ],
   "source": [
    "model.fit(x_train, y_train, verbose = 1, shuffle=True, epochs=10,validation_data=(x_cv, y_cv),sample_weight=sample_weight)"
   ]
  },
  {
   "cell_type": "code",
   "execution_count": 254,
   "metadata": {
    "id": "QL_Mj94xD4db",
    "outputId": "38b6d20e-9dff-4e01-a8a1-ec7e870791e8"
   },
   "outputs": [
    {
     "name": "stdout",
     "output_type": "stream",
     "text": [
      "357/357 [==============================] - 0s 1ms/step - loss: 0.5796 - accuracy: 0.8794 - f1_metric: 0.8794\n"
     ]
    },
    {
     "data": {
      "text/plain": [
       "[0.5795637965202332, 0.8794146180152893, 0.8793720602989197]"
      ]
     },
     "execution_count": 254,
     "metadata": {},
     "output_type": "execute_result"
    }
   ],
   "source": [
    "model.evaluate(x_test, y_test)"
   ]
  },
  {
   "cell_type": "code",
   "execution_count": 283,
   "metadata": {
    "id": "AZbojtUYD4db",
    "outputId": "08175583-c32a-4531-ae95-5be957b4cbb1"
   },
   "outputs": [
    {
     "data": {
      "text/plain": [
       "[0, 2003, 9408]"
      ]
     },
     "execution_count": 283,
     "metadata": {},
     "output_type": "execute_result"
    }
   ],
   "source": [
    "results = model.predict(x_test)\n",
    "\n",
    "decisions = [0, 0, 0]\n",
    "#the model really likes holding due the amount of hold data points, so we probably want to use threshold values\n",
    "#this code is to test good values\n",
    "\n",
    "for a in results:\n",
    "    if a[0] < 0.312 and a[1] < 0.315:\n",
    "        decisions[2] += 1\n",
    "    else:\n",
    "        if a[0] > a[1]:\n",
    "            decisions[0] += 1\n",
    "        else:\n",
    "            decisions[1] += 1\n",
    "decisions\n"
   ]
  },
  {
   "cell_type": "code",
   "execution_count": 347,
   "metadata": {
    "id": "0KdqPUQ2D4dc"
   },
   "outputs": [
    {
     "name": "stderr",
     "output_type": "stream",
     "text": [
      "c:\\users\\sukisha\\appdata\\local\\programs\\python\\python39\\lib\\site-packages\\IPython\\core\\interactiveshell.py:3457: FutureWarning: The error_bad_lines argument has been deprecated and will be removed in a future version.\n",
      "\n",
      "\n",
      "  exec(code_obj, self.user_global_ns, self.user_ns)\n",
      "Skipping line 314: ',' expected after '\"'\n",
      "Skipping line 665: ',' expected after '\"'\n",
      "Skipping line 1018: ',' expected after '\"'\n",
      "Skipping line 1375: ',' expected after '\"'\n",
      "Skipping line 1690: ',' expected after '\"'\n",
      "Skipping line 2100: ',' expected after '\"'\n",
      "Skipping line 2414: ',' expected after '\"'\n",
      "Skipping line 3073: ',' expected after '\"'\n",
      "Skipping line 3691: ',' expected after '\"'\n",
      "Skipping line 4152: ',' expected after '\"'\n",
      "100%|██████████| 4141/4141 [04:00<00:00, 17.21it/s]\n"
     ]
    },
    {
     "name": "stdout",
     "output_type": "stream",
     "text": [
      "Approval Date\n",
      "2021-10-01                   MYLAN\n",
      "2021-10-01     HETERO LABS LTD III\n",
      "2021-10-01     HETERO LABS LTD III\n",
      "2021-10-01           AMNEAL PHARMS\n",
      "2021-10-01    AUROBINDO PHARMA LTD\n",
      "Name: Company, dtype: object\n"
     ]
    },
    {
     "name": "stderr",
     "output_type": "stream",
     "text": [
      "  0%|          | 0/363 [00:00<?, ?it/s]C:\\Users\\sukisha\\AppData\\Local\\Temp/ipykernel_11248/3338743586.py:126: SettingWithCopyWarning: \n",
      "A value is trying to be set on a copy of a slice from a DataFrame\n",
      "\n",
      "See the caveats in the documentation: https://pandas.pydata.org/pandas-docs/stable/user_guide/indexing.html#returning-a-view-versus-a-copy\n",
      "  df['rsi_' + str(period)][1:] = res\n",
      "  3%|▎         | 11/363 [00:02<01:16,  4.62it/s]"
     ]
    },
    {
     "name": "stdout",
     "output_type": "stream",
     "text": [
      "- CEL.P: No data found for this date range, symbol may be delisted\n",
      "Yfinance error\n"
     ]
    },
    {
     "name": "stderr",
     "output_type": "stream",
     "text": [
      " 11%|█▏        | 41/363 [00:10<01:08,  4.67it/s]"
     ]
    },
    {
     "name": "stdout",
     "output_type": "stream",
     "text": [
      "- ACI.S: No data found, symbol may be delisted\n",
      "Yfinance error\n"
     ]
    },
    {
     "name": "stderr",
     "output_type": "stream",
     "text": [
      " 14%|█▍        | 51/363 [00:13<01:11,  4.38it/s]"
     ]
    },
    {
     "name": "stdout",
     "output_type": "stream",
     "text": [
      "- CEL.P: No data found for this date range, symbol may be delisted\n",
      "Yfinance error\n"
     ]
    },
    {
     "name": "stderr",
     "output_type": "stream",
     "text": [
      " 21%|██▏       | 78/363 [00:20<01:00,  4.68it/s]"
     ]
    },
    {
     "name": "stdout",
     "output_type": "stream",
     "text": [
      "- ATH.U: No data found, symbol may be delisted\n",
      "Yfinance error\n"
     ]
    },
    {
     "name": "stderr",
     "output_type": "stream",
     "text": [
      " 31%|███       | 111/363 [00:28<00:54,  4.60it/s]"
     ]
    },
    {
     "name": "stdout",
     "output_type": "stream",
     "text": [
      "- CEL.P: No data found for this date range, symbol may be delisted\n",
      "Yfinance error\n"
     ]
    },
    {
     "name": "stderr",
     "output_type": "stream",
     "text": [
      " 35%|███▍      | 127/363 [00:32<00:51,  4.62it/s]"
     ]
    },
    {
     "name": "stdout",
     "output_type": "stream",
     "text": [
      "- CEL.P: No data found for this date range, symbol may be delisted\n",
      "Yfinance error\n"
     ]
    },
    {
     "name": "stderr",
     "output_type": "stream",
     "text": [
      " 40%|███▉      | 145/363 [00:37<00:46,  4.70it/s]"
     ]
    },
    {
     "name": "stdout",
     "output_type": "stream",
     "text": [
      "- CEL.P: No data found for this date range, symbol may be delisted\n",
      "Yfinance error\n"
     ]
    },
    {
     "name": "stderr",
     "output_type": "stream",
     "text": [
      " 44%|████▍     | 159/363 [00:41<00:43,  4.64it/s]"
     ]
    },
    {
     "name": "stdout",
     "output_type": "stream",
     "text": [
      "- CEL.P: No data found for this date range, symbol may be delisted\n",
      "Yfinance error\n"
     ]
    },
    {
     "name": "stderr",
     "output_type": "stream",
     "text": [
      " 45%|████▌     | 164/363 [00:42<00:43,  4.56it/s]"
     ]
    },
    {
     "name": "stdout",
     "output_type": "stream",
     "text": [
      "- CEL.P: No data found for this date range, symbol may be delisted\n",
      "Yfinance error\n"
     ]
    },
    {
     "name": "stderr",
     "output_type": "stream",
     "text": [
      " 47%|████▋     | 171/363 [00:43<00:40,  4.75it/s]"
     ]
    },
    {
     "name": "stdout",
     "output_type": "stream",
     "text": [
      "- ATH.U: No data found, symbol may be delisted\n",
      "Yfinance error\n"
     ]
    },
    {
     "name": "stderr",
     "output_type": "stream",
     "text": [
      " 57%|█████▋    | 206/363 [00:53<00:33,  4.71it/s]"
     ]
    },
    {
     "name": "stdout",
     "output_type": "stream",
     "text": [
      "- CEL.P: No data found for this date range, symbol may be delisted\n",
      "Yfinance error\n"
     ]
    },
    {
     "name": "stderr",
     "output_type": "stream",
     "text": [
      " 61%|██████    | 220/363 [00:56<00:30,  4.64it/s]"
     ]
    },
    {
     "name": "stdout",
     "output_type": "stream",
     "text": [
      "- CEL.P: No data found for this date range, symbol may be delisted\n",
      "Yfinance error\n"
     ]
    },
    {
     "name": "stderr",
     "output_type": "stream",
     "text": [
      " 61%|██████▏   | 223/363 [00:57<00:27,  5.05it/s]"
     ]
    },
    {
     "name": "stdout",
     "output_type": "stream",
     "text": [
      "- CEL.P: No data found for this date range, symbol may be delisted\n",
      "Yfinance error\n"
     ]
    },
    {
     "name": "stderr",
     "output_type": "stream",
     "text": [
      " 66%|██████▌   | 240/363 [01:01<00:28,  4.36it/s]"
     ]
    },
    {
     "name": "stdout",
     "output_type": "stream",
     "text": [
      "- CEL.P: No data found for this date range, symbol may be delisted\n",
      "Yfinance error\n"
     ]
    },
    {
     "name": "stderr",
     "output_type": "stream",
     "text": [
      " 67%|██████▋   | 244/363 [01:02<00:24,  4.87it/s]"
     ]
    },
    {
     "name": "stdout",
     "output_type": "stream",
     "text": [
      "- CEL.P: No data found for this date range, symbol may be delisted\n",
      "Yfinance error\n"
     ]
    },
    {
     "name": "stderr",
     "output_type": "stream",
     "text": [
      " 85%|████████▍ | 307/363 [01:19<00:12,  4.66it/s]"
     ]
    },
    {
     "name": "stdout",
     "output_type": "stream",
     "text": [
      "- CEL.P: No data found for this date range, symbol may be delisted\n",
      "Yfinance error\n"
     ]
    },
    {
     "name": "stderr",
     "output_type": "stream",
     "text": [
      " 90%|█████████ | 327/363 [01:24<00:08,  4.48it/s]"
     ]
    },
    {
     "name": "stdout",
     "output_type": "stream",
     "text": [
      "- CEL.P: No data found for this date range, symbol may be delisted\n",
      "Yfinance error\n"
     ]
    },
    {
     "name": "stderr",
     "output_type": "stream",
     "text": [
      " 94%|█████████▍| 341/363 [01:27<00:04,  4.72it/s]"
     ]
    },
    {
     "name": "stdout",
     "output_type": "stream",
     "text": [
      "- OGN: Data doesn't exist for startDate = 1606291200, endDate = 1612339200\n",
      "Yfinance error\n"
     ]
    },
    {
     "name": "stderr",
     "output_type": "stream",
     "text": [
      " 95%|█████████▌| 346/363 [01:29<00:03,  4.77it/s]"
     ]
    },
    {
     "name": "stdout",
     "output_type": "stream",
     "text": [
      "- FNB-E: No data found, symbol may be delisted\n",
      "Yfinance error\n"
     ]
    },
    {
     "name": "stderr",
     "output_type": "stream",
     "text": [
      "100%|██████████| 363/363 [01:33<00:00,  3.87it/s]"
     ]
    },
    {
     "name": "stdout",
     "output_type": "stream",
     "text": [
      "- BAR.W: No data found, symbol may be delisted\n",
      "Yfinance error\n"
     ]
    },
    {
     "name": "stderr",
     "output_type": "stream",
     "text": [
      "\n"
     ]
    }
   ],
   "source": [
    "#format 2021 year data in the same manner as previous years for testing a strategy\n",
    "\n",
    "csv21 = pd.read_csv('data/21combined.csv', error_bad_lines=False, engine=\"python\")\n",
    "dates = pd.to_datetime(csv21['Approval Date'])\n",
    "\n",
    "csv21['year'] = csv21['Approval Date'].str[6:10]\n",
    "csv21['month'] = csv21['Approval Date'].str[3:5]\n",
    "csv21['day'] = csv21['Approval Date'].str[0:2]\n",
    "x = pd.to_datetime(csv21['Approval Date'])\n",
    "csv21.index = x\n",
    "\n",
    "names = csv21['Company']\n",
    "\n",
    "toremove = []\n",
    "\n",
    "for i in tqdm(range(names.shape[0])):\n",
    "    found = False\n",
    "    for key in tickerDict.keys():\n",
    "        if search(names.iloc[i], key):\n",
    "            names.iloc[i] = tickerDict[key]\n",
    "            found = True\n",
    "            break\n",
    "    if not found:\n",
    "        toremove.append(names.iloc[i])\n",
    "\n",
    "print(names.head())\n",
    "            \n",
    "df = pd.concat([csv21['Approval Date'], names], axis=1)\n",
    "df = df.loc[df[\"Company\"].isin(toremove) == False]\n",
    "df = df.drop_duplicates()\n",
    "df.head()\n",
    "\n",
    "finaldf = pd.DataFrame()\n",
    "for i in tqdm(range(df.shape[0])):\n",
    "    if (i != 0):\n",
    "        try:\n",
    "            ticker = yf.Ticker(df['Company'].iloc[i])\n",
    "            hist = ticker.history( start=dates.iloc[i] - dt.timedelta(7*6), end=dates.iloc[i] + dt.timedelta(7*4))\n",
    "            hist.drop(['Dividends', 'Stock Splits'], axis=1, inplace=True)\n",
    "            hist['TimeToApproval'] = (dates.iloc[i] - hist.index).days\n",
    "            hist['Labels'] = create_labels(hist, 'Open')\n",
    "            \n",
    "            hist.columns = map(str.lower, hist.columns)\n",
    "\n",
    "            get_SMA(hist, 'open', [9,25])\n",
    "            get_EMA(hist, 'close', [15])\n",
    "            get_kst(hist, 'close', [13,18])\n",
    "            get_RSI_smooth(hist, 'close', [6])\n",
    "            get_TRIX(hist, 'close', [12, 22])\n",
    "            get_force_index(hist, [21, 25])\n",
    "            \n",
    "            del hist['open' + '_9_sma']\n",
    "            del hist['open' + '_25_sma']\n",
    "            \n",
    "            hist['Company'] = df['Company'].iloc[i]\n",
    "            hist['Date'] = hist.index\n",
    "            hist = hist.dropna()\n",
    "            finaldf = pd.concat([finaldf,hist], ignore_index=True)\n",
    "\n",
    "        except:\n",
    "            print(\"Yfinance error\")\n",
    "\n"
   ]
  },
  {
   "cell_type": "code",
   "execution_count": 351,
   "metadata": {},
   "outputs": [
    {
     "data": {
      "text/html": [
       "<div>\n",
       "<style scoped>\n",
       "    .dataframe tbody tr th:only-of-type {\n",
       "        vertical-align: middle;\n",
       "    }\n",
       "\n",
       "    .dataframe tbody tr th {\n",
       "        vertical-align: top;\n",
       "    }\n",
       "\n",
       "    .dataframe thead th {\n",
       "        text-align: right;\n",
       "    }\n",
       "</style>\n",
       "<table border=\"1\" class=\"dataframe\">\n",
       "  <thead>\n",
       "    <tr style=\"text-align: right;\">\n",
       "      <th></th>\n",
       "      <th>open</th>\n",
       "      <th>high</th>\n",
       "      <th>low</th>\n",
       "      <th>close</th>\n",
       "      <th>volume</th>\n",
       "      <th>timetoapproval</th>\n",
       "      <th>labels</th>\n",
       "      <th>open_sma_9</th>\n",
       "      <th>open_sma_25</th>\n",
       "      <th>ema_15</th>\n",
       "      <th>kst_13</th>\n",
       "      <th>kst_18</th>\n",
       "      <th>rsi_6</th>\n",
       "      <th>trix_12</th>\n",
       "      <th>trix_22</th>\n",
       "      <th>fi_21</th>\n",
       "      <th>fi_25</th>\n",
       "      <th>Company</th>\n",
       "      <th>Date</th>\n",
       "    </tr>\n",
       "  </thead>\n",
       "  <tbody>\n",
       "    <tr>\n",
       "      <th>9468</th>\n",
       "      <td>102.512929</td>\n",
       "      <td>103.123636</td>\n",
       "      <td>99.325797</td>\n",
       "      <td>99.430763</td>\n",
       "      <td>8272700.0</td>\n",
       "      <td>21</td>\n",
       "      <td>2.0</td>\n",
       "      <td>101.589454</td>\n",
       "      <td>100.636284</td>\n",
       "      <td>101.084770</td>\n",
       "      <td>-6.951089</td>\n",
       "      <td>-7.640854</td>\n",
       "      <td>45.866009</td>\n",
       "      <td>0.189475</td>\n",
       "      <td>0.074699</td>\n",
       "      <td>-6.303749e+06</td>\n",
       "      <td>-6.303749e+06</td>\n",
       "      <td>ABBV</td>\n",
       "      <td>2020-12-14</td>\n",
       "    </tr>\n",
       "    <tr>\n",
       "      <th>9063</th>\n",
       "      <td>87.835397</td>\n",
       "      <td>88.642987</td>\n",
       "      <td>87.008574</td>\n",
       "      <td>87.056648</td>\n",
       "      <td>2339100.0</td>\n",
       "      <td>21</td>\n",
       "      <td>2.0</td>\n",
       "      <td>87.762756</td>\n",
       "      <td>86.773348</td>\n",
       "      <td>87.576755</td>\n",
       "      <td>-13.490167</td>\n",
       "      <td>-14.523919</td>\n",
       "      <td>49.085165</td>\n",
       "      <td>0.209033</td>\n",
       "      <td>0.086939</td>\n",
       "      <td>-1.101026e+06</td>\n",
       "      <td>-1.101026e+06</td>\n",
       "      <td>NVS</td>\n",
       "      <td>2020-12-14</td>\n",
       "    </tr>\n",
       "    <tr>\n",
       "      <th>9306</th>\n",
       "      <td>58.504226</td>\n",
       "      <td>58.533288</td>\n",
       "      <td>57.884211</td>\n",
       "      <td>57.971401</td>\n",
       "      <td>12233000.0</td>\n",
       "      <td>21</td>\n",
       "      <td>2.0</td>\n",
       "      <td>58.358617</td>\n",
       "      <td>58.011909</td>\n",
       "      <td>58.176296</td>\n",
       "      <td>-16.383626</td>\n",
       "      <td>-16.967327</td>\n",
       "      <td>43.671366</td>\n",
       "      <td>0.074029</td>\n",
       "      <td>0.030842</td>\n",
       "      <td>-9.369968e+05</td>\n",
       "      <td>-9.369968e+05</td>\n",
       "      <td>GILD</td>\n",
       "      <td>2020-12-14</td>\n",
       "    </tr>\n",
       "    <tr>\n",
       "      <th>9225</th>\n",
       "      <td>13.435096</td>\n",
       "      <td>13.503097</td>\n",
       "      <td>12.978516</td>\n",
       "      <td>13.289379</td>\n",
       "      <td>103900.0</td>\n",
       "      <td>21</td>\n",
       "      <td>2.0</td>\n",
       "      <td>13.239726</td>\n",
       "      <td>13.089260</td>\n",
       "      <td>13.252275</td>\n",
       "      <td>-11.019881</td>\n",
       "      <td>-11.510086</td>\n",
       "      <td>53.103515</td>\n",
       "      <td>0.203976</td>\n",
       "      <td>0.071270</td>\n",
       "      <td>-1.579018e+03</td>\n",
       "      <td>-1.579018e+03</td>\n",
       "      <td>PKE</td>\n",
       "      <td>2020-12-14</td>\n",
       "    </tr>\n",
       "    <tr>\n",
       "      <th>9360</th>\n",
       "      <td>14.570000</td>\n",
       "      <td>14.990000</td>\n",
       "      <td>14.530000</td>\n",
       "      <td>14.580000</td>\n",
       "      <td>268100.0</td>\n",
       "      <td>21</td>\n",
       "      <td>2.0</td>\n",
       "      <td>14.496667</td>\n",
       "      <td>14.628667</td>\n",
       "      <td>14.577942</td>\n",
       "      <td>-47.117545</td>\n",
       "      <td>-47.910038</td>\n",
       "      <td>54.352446</td>\n",
       "      <td>-0.027979</td>\n",
       "      <td>0.000104</td>\n",
       "      <td>6.468387e+03</td>\n",
       "      <td>6.468387e+03</td>\n",
       "      <td>SCPL</td>\n",
       "      <td>2020-12-14</td>\n",
       "    </tr>\n",
       "    <tr>\n",
       "      <th>...</th>\n",
       "      <td>...</td>\n",
       "      <td>...</td>\n",
       "      <td>...</td>\n",
       "      <td>...</td>\n",
       "      <td>...</td>\n",
       "      <td>...</td>\n",
       "      <td>...</td>\n",
       "      <td>...</td>\n",
       "      <td>...</td>\n",
       "      <td>...</td>\n",
       "      <td>...</td>\n",
       "      <td>...</td>\n",
       "      <td>...</td>\n",
       "      <td>...</td>\n",
       "      <td>...</td>\n",
       "      <td>...</td>\n",
       "      <td>...</td>\n",
       "      <td>...</td>\n",
       "      <td>...</td>\n",
       "    </tr>\n",
       "    <tr>\n",
       "      <th>8430</th>\n",
       "      <td>205.210007</td>\n",
       "      <td>207.350006</td>\n",
       "      <td>203.600006</td>\n",
       "      <td>205.820007</td>\n",
       "      <td>3329300.0</td>\n",
       "      <td>-20</td>\n",
       "      <td>2.0</td>\n",
       "      <td>210.402227</td>\n",
       "      <td>208.224936</td>\n",
       "      <td>208.498035</td>\n",
       "      <td>7.097369</td>\n",
       "      <td>7.615714</td>\n",
       "      <td>27.913469</td>\n",
       "      <td>0.036637</td>\n",
       "      <td>-0.040750</td>\n",
       "      <td>-2.120380e+06</td>\n",
       "      <td>-2.120380e+06</td>\n",
       "      <td>AMGN</td>\n",
       "      <td>2021-11-17</td>\n",
       "    </tr>\n",
       "    <tr>\n",
       "      <th>8921</th>\n",
       "      <td>9.860000</td>\n",
       "      <td>9.940000</td>\n",
       "      <td>9.760000</td>\n",
       "      <td>9.780000</td>\n",
       "      <td>2800.0</td>\n",
       "      <td>-19</td>\n",
       "      <td>2.0</td>\n",
       "      <td>9.982222</td>\n",
       "      <td>9.936400</td>\n",
       "      <td>9.935185</td>\n",
       "      <td>-3.014059</td>\n",
       "      <td>-4.025597</td>\n",
       "      <td>31.818181</td>\n",
       "      <td>-0.023915</td>\n",
       "      <td>-0.033868</td>\n",
       "      <td>-4.987175e+02</td>\n",
       "      <td>-4.987175e+02</td>\n",
       "      <td>RBCN</td>\n",
       "      <td>2021-11-17</td>\n",
       "    </tr>\n",
       "    <tr>\n",
       "      <th>8891</th>\n",
       "      <td>201.899994</td>\n",
       "      <td>204.389999</td>\n",
       "      <td>199.050003</td>\n",
       "      <td>199.410004</td>\n",
       "      <td>460900.0</td>\n",
       "      <td>-19</td>\n",
       "      <td>2.0</td>\n",
       "      <td>201.711110</td>\n",
       "      <td>194.642798</td>\n",
       "      <td>199.443434</td>\n",
       "      <td>53.805446</td>\n",
       "      <td>54.203361</td>\n",
       "      <td>40.857503</td>\n",
       "      <td>0.267692</td>\n",
       "      <td>0.030723</td>\n",
       "      <td>-4.289452e+05</td>\n",
       "      <td>-4.289452e+05</td>\n",
       "      <td>UTHR</td>\n",
       "      <td>2021-11-17</td>\n",
       "    </tr>\n",
       "    <tr>\n",
       "      <th>8861</th>\n",
       "      <td>52.439999</td>\n",
       "      <td>52.439999</td>\n",
       "      <td>51.952000</td>\n",
       "      <td>51.952000</td>\n",
       "      <td>1900.0</td>\n",
       "      <td>-19</td>\n",
       "      <td>2.0</td>\n",
       "      <td>52.591222</td>\n",
       "      <td>52.360840</td>\n",
       "      <td>52.369838</td>\n",
       "      <td>42.711895</td>\n",
       "      <td>44.168715</td>\n",
       "      <td>28.364770</td>\n",
       "      <td>0.161171</td>\n",
       "      <td>0.213702</td>\n",
       "      <td>-5.494883e+02</td>\n",
       "      <td>-5.494883e+02</td>\n",
       "      <td>EQRR</td>\n",
       "      <td>2021-11-17</td>\n",
       "    </tr>\n",
       "    <tr>\n",
       "      <th>8585</th>\n",
       "      <td>17.480000</td>\n",
       "      <td>17.650000</td>\n",
       "      <td>17.230000</td>\n",
       "      <td>17.520000</td>\n",
       "      <td>384700.0</td>\n",
       "      <td>-20</td>\n",
       "      <td>2.0</td>\n",
       "      <td>18.965555</td>\n",
       "      <td>20.330600</td>\n",
       "      <td>19.135268</td>\n",
       "      <td>-70.236334</td>\n",
       "      <td>-68.885966</td>\n",
       "      <td>10.101023</td>\n",
       "      <td>-0.454952</td>\n",
       "      <td>-0.038781</td>\n",
       "      <td>-1.130113e+05</td>\n",
       "      <td>-1.130113e+05</td>\n",
       "      <td>SCPL</td>\n",
       "      <td>2021-11-17</td>\n",
       "    </tr>\n",
       "  </tbody>\n",
       "</table>\n",
       "<p>10251 rows × 19 columns</p>\n",
       "</div>"
      ],
      "text/plain": [
       "            open        high         low       close      volume  \\\n",
       "9468  102.512929  103.123636   99.325797   99.430763   8272700.0   \n",
       "9063   87.835397   88.642987   87.008574   87.056648   2339100.0   \n",
       "9306   58.504226   58.533288   57.884211   57.971401  12233000.0   \n",
       "9225   13.435096   13.503097   12.978516   13.289379    103900.0   \n",
       "9360   14.570000   14.990000   14.530000   14.580000    268100.0   \n",
       "...          ...         ...         ...         ...         ...   \n",
       "8430  205.210007  207.350006  203.600006  205.820007   3329300.0   \n",
       "8921    9.860000    9.940000    9.760000    9.780000      2800.0   \n",
       "8891  201.899994  204.389999  199.050003  199.410004    460900.0   \n",
       "8861   52.439999   52.439999   51.952000   51.952000      1900.0   \n",
       "8585   17.480000   17.650000   17.230000   17.520000    384700.0   \n",
       "\n",
       "      timetoapproval  labels  open_sma_9  open_sma_25      ema_15     kst_13  \\\n",
       "9468              21     2.0  101.589454   100.636284  101.084770  -6.951089   \n",
       "9063              21     2.0   87.762756    86.773348   87.576755 -13.490167   \n",
       "9306              21     2.0   58.358617    58.011909   58.176296 -16.383626   \n",
       "9225              21     2.0   13.239726    13.089260   13.252275 -11.019881   \n",
       "9360              21     2.0   14.496667    14.628667   14.577942 -47.117545   \n",
       "...              ...     ...         ...          ...         ...        ...   \n",
       "8430             -20     2.0  210.402227   208.224936  208.498035   7.097369   \n",
       "8921             -19     2.0    9.982222     9.936400    9.935185  -3.014059   \n",
       "8891             -19     2.0  201.711110   194.642798  199.443434  53.805446   \n",
       "8861             -19     2.0   52.591222    52.360840   52.369838  42.711895   \n",
       "8585             -20     2.0   18.965555    20.330600   19.135268 -70.236334   \n",
       "\n",
       "         kst_18      rsi_6   trix_12   trix_22         fi_21         fi_25  \\\n",
       "9468  -7.640854  45.866009  0.189475  0.074699 -6.303749e+06 -6.303749e+06   \n",
       "9063 -14.523919  49.085165  0.209033  0.086939 -1.101026e+06 -1.101026e+06   \n",
       "9306 -16.967327  43.671366  0.074029  0.030842 -9.369968e+05 -9.369968e+05   \n",
       "9225 -11.510086  53.103515  0.203976  0.071270 -1.579018e+03 -1.579018e+03   \n",
       "9360 -47.910038  54.352446 -0.027979  0.000104  6.468387e+03  6.468387e+03   \n",
       "...         ...        ...       ...       ...           ...           ...   \n",
       "8430   7.615714  27.913469  0.036637 -0.040750 -2.120380e+06 -2.120380e+06   \n",
       "8921  -4.025597  31.818181 -0.023915 -0.033868 -4.987175e+02 -4.987175e+02   \n",
       "8891  54.203361  40.857503  0.267692  0.030723 -4.289452e+05 -4.289452e+05   \n",
       "8861  44.168715  28.364770  0.161171  0.213702 -5.494883e+02 -5.494883e+02   \n",
       "8585 -68.885966  10.101023 -0.454952 -0.038781 -1.130113e+05 -1.130113e+05   \n",
       "\n",
       "     Company       Date  \n",
       "9468    ABBV 2020-12-14  \n",
       "9063     NVS 2020-12-14  \n",
       "9306    GILD 2020-12-14  \n",
       "9225     PKE 2020-12-14  \n",
       "9360    SCPL 2020-12-14  \n",
       "...      ...        ...  \n",
       "8430    AMGN 2021-11-17  \n",
       "8921    RBCN 2021-11-17  \n",
       "8891    UTHR 2021-11-17  \n",
       "8861    EQRR 2021-11-17  \n",
       "8585    SCPL 2021-11-17  \n",
       "\n",
       "[10251 rows x 19 columns]"
      ]
     },
     "execution_count": 351,
     "metadata": {},
     "output_type": "execute_result"
    }
   ],
   "source": [
    "#CHECKPOINT\n",
    "#2021 test data\n",
    "finaldf = finaldf.sort_values(by='Date')\n",
    "finaldf.to_csv('21data.csv')\n",
    "finaldf"
   ]
  },
  {
   "cell_type": "code",
   "execution_count": null,
   "metadata": {},
   "outputs": [],
   "source": [
    "finaldf = pd.read_csv('21data.csv', error_bad_lines=False, engine=\"c\")"
   ]
  },
  {
   "cell_type": "code",
   "execution_count": 353,
   "metadata": {},
   "outputs": [
    {
     "name": "stderr",
     "output_type": "stream",
     "text": [
      "c:\\users\\sukisha\\appdata\\local\\programs\\python\\python39\\lib\\site-packages\\sklearn\\base.py:438: UserWarning: X has feature names, but MinMaxScaler was fitted without feature names\n",
      "  warnings.warn(\n"
     ]
    }
   ],
   "source": [
    "finaldfdates = finaldf.drop(columns=['Date'], axis=1)\n",
    "x_21 = mm_scaler.transform(finaldfdates.drop(columns=['labels'], axis=1).drop(columns=['Company'], axis=1))"
   ]
  },
  {
   "cell_type": "code",
   "execution_count": 354,
   "metadata": {},
   "outputs": [],
   "source": [
    "x_21 = reshape_as_image(x_21, 4, 4)"
   ]
  },
  {
   "cell_type": "code",
   "execution_count": 355,
   "metadata": {},
   "outputs": [],
   "source": [
    "x_21 = np.stack((x_21,) * 3, axis=-1)"
   ]
  },
  {
   "cell_type": "code",
   "execution_count": 381,
   "metadata": {},
   "outputs": [
    {
     "data": {
      "text/plain": [
       "(10251, 19)"
      ]
     },
     "execution_count": 381,
     "metadata": {},
     "output_type": "execute_result"
    }
   ],
   "source": [
    "finaldf.shape"
   ]
  },
  {
   "cell_type": "code",
   "execution_count": 396,
   "metadata": {},
   "outputs": [
    {
     "name": "stdout",
     "output_type": "stream",
     "text": [
      "Bought  46   GOLD with time to approval  21 at  2020-12-14 00:00:00\n",
      "Bought  26   PFE with time to approval  21 at  2020-12-15 00:00:00\n",
      "Bought  26   PFE with time to approval  20 at  2020-12-15 00:00:00\n",
      "Bought  11   NVS with time to approval  20 at  2020-12-15 00:00:00\n",
      "Bought  10   ABBV with time to approval  20 at  2020-12-15 00:00:00\n",
      "Bought  10   ABBV with time to approval  20 at  2020-12-15 00:00:00\n",
      "Bought  17   GILD with time to approval  20 at  2020-12-15 00:00:00\n",
      "Bought  17   GILD with time to approval  21 at  2020-12-15 00:00:00\n",
      "Bought  225   ACOR with time to approval  21 at  2020-12-16 00:00:00\n",
      "Bought  13   MRK with time to approval  21 at  2020-12-16 00:00:00\n",
      "Sold  13   MRK with time to approval  8 at  2020-12-29 00:00:00\n",
      "Bought  45   GOLD with time to approval  8 at  2020-12-29 00:00:00\n",
      "Sold  20   ABBV with time to approval  4 at  2020-12-31 00:00:00\n",
      "Bought  26   CTVA with time to approval  6 at  2020-12-31 00:00:00\n",
      "Sold  11   NVS with time to approval  6 at  2020-12-31 00:00:00\n",
      "Bought  186   AQST with time to approval  4 at  2020-12-31 00:00:00\n",
      "Bought  26   CTVA with time to approval  4 at  2020-12-31 00:00:00\n",
      "Sold  34   GILD with time to approval  2 at  2021-01-04 00:00:00\n",
      "Bought  2   REGN with time to approval  1 at  2021-01-04 00:00:00\n",
      "Bought  263   ACOR with time to approval  2 at  2021-01-04 00:00:00\n",
      "Sold  91   GOLD with time to approval  2 at  2021-01-04 00:00:00\n",
      "Bought  72   NATR with time to approval  1 at  2021-01-04 00:00:00\n",
      "Bought  2   REGN with time to approval  0 at  2021-01-04 00:00:00\n",
      "Sold  72   NATR with time to approval  -1 at  2021-01-06 00:00:00\n",
      "Bought  11   INCY with time to approval  0 at  2021-01-06 00:00:00\n",
      "Sold  52   CTVA with time to approval  -3 at  2021-01-07 00:00:00\n",
      "Sold  11   INCY with time to approval  -2 at  2021-01-08 00:00:00\n",
      "Bought  56   GTHX with time to approval  -3 at  2021-01-08 00:00:00\n",
      "Bought  154   WNEB with time to approval  -2 at  2021-01-08 00:00:00\n",
      "Sold  52   PFE with time to approval  -5 at  2021-01-11 00:00:00\n",
      "Bought  6   JAZZ with time to approval  -6 at  2021-01-11 00:00:00\n",
      "Sold  56   GTHX with time to approval  -7 at  2021-01-12 00:00:00\n",
      "Bought  6   JAZZ with time to approval  -7 at  2021-01-12 00:00:00\n",
      "Bought  11   NVS with time to approval  -6 at  2021-01-12 00:00:00\n",
      "Bought  189   AQST with time to approval  -9 at  2021-01-13 00:00:00\n",
      "Sold  488   ACOR with time to approval  -7 at  2021-01-13 00:00:00\n",
      "Bought  210   AMRX with time to approval  -7 at  2021-01-13 00:00:00\n",
      "Sold  4   REGN with time to approval  -11 at  2021-01-15 00:00:00\n",
      "Bought  68   NATR with time to approval  -10 at  2021-01-15 00:00:00\n",
      "Bought  152   WNEB with time to approval  -9 at  2021-01-15 00:00:00\n",
      "Sold  11   NVS with time to approval  -15 at  2021-01-19 00:00:00\n",
      "Bought  207   AMRX with time to approval  -13 at  2021-01-19 00:00:00\n",
      "Sold  12   JAZZ with time to approval  -15 at  2021-01-20 00:00:00\n",
      "Bought  13   MRK with time to approval  -15 at  2021-01-21 00:00:00\n",
      "Sold  68   NATR with time to approval  -17 at  2021-01-22 00:00:00\n",
      "Bought  35   BHC with time to approval  21 at  2021-09-10 00:00:00\n",
      "Bought  64   CCXI with time to approval  21 at  2021-09-10 00:00:00\n",
      "Bought  25   GSK with time to approval  21 at  2021-09-10 00:00:00\n",
      "Bought  4   LLY with time to approval  21 at  2021-09-10 00:00:00\n",
      "Bought  17   AZN with time to approval  21 at  2021-09-10 00:00:00\n",
      "Sold  17   AZN with time to approval  17 at  2021-09-20 00:00:00\n",
      "Bought  675   VYNE with time to approval  18 at  2021-09-20 00:00:00\n",
      "Sold  64   CCXI with time to approval  10 at  2021-09-21 00:00:00\n",
      "Bought  21   EQRR with time to approval  15 at  2021-09-21 00:00:00\n",
      "Sold  417   AMRX with time to approval  20 at  2021-09-23 00:00:00\n",
      "Bought  81   OYST with time to approval  8 at  2021-09-23 00:00:00\n",
      "Sold  375   AQST with time to approval  20 at  2021-09-23 00:00:00\n",
      "Bought  11   WEC with time to approval  14 at  2021-09-23 00:00:00\n",
      "Bought  15   TARO with time to approval  13 at  2021-09-23 00:00:00\n",
      "Bought  15   TARO with time to approval  14 at  2021-09-23 00:00:00\n",
      "Sold  13   MRK with time to approval  7 at  2021-09-27 00:00:00\n",
      "Bought  46   CHNG with time to approval  11 at  2021-09-27 00:00:00\n",
      "Sold  35   BHC with time to approval  16 at  2021-09-29 00:00:00\n",
      "Bought  26   GSK with time to approval  2 at  2021-09-29 00:00:00\n",
      "Sold  21   EQRR with time to approval  5 at  2021-09-29 00:00:00\n",
      "Bought  5   UTHR with time to approval  19 at  2021-09-29 00:00:00\n",
      "Sold  306   WNEB with time to approval  24 at  2021-10-01 00:00:00\n",
      "Bought  14   INCY with time to approval  11 at  2021-10-01 00:00:00\n",
      "Bought  2   BGNE with time to approval  7 at  2021-10-01 00:00:00\n",
      "Bought  228   RDHL with time to approval  0 at  2021-10-01 00:00:00\n",
      "Sold  30   TARO with time to approval  24 at  2021-10-01 00:00:00\n",
      "Bought  58   EMF with time to approval  19 at  2021-10-01 00:00:00\n",
      "Bought  175   CLSD with time to approval  3 at  2021-10-01 00:00:00\n",
      "Sold  4   LLY with time to approval  20 at  2021-10-07 00:00:00\n",
      "Bought  350   ATNX with time to approval  0 at  2021-10-07 00:00:00\n",
      "Sold  51   GSK with time to approval  20 at  2021-10-07 00:00:00\n",
      "Bought  200   CLSD with time to approval  -3 at  2021-10-07 00:00:00\n",
      "Bought  47   CHNG with time to approval  1 at  2021-10-07 00:00:00\n",
      "Sold  5   UTHR with time to approval  22 at  2021-10-07 00:00:00\n",
      "Bought  172   CMRX with time to approval  6 at  2021-10-07 00:00:00\n",
      "Sold  81   OYST with time to approval  -13 at  2021-10-14 00:00:00\n",
      "Bought  181   AGEN with time to approval  -2 at  2021-10-14 00:00:00\n",
      "Sold  58   EMF with time to approval  5 at  2021-10-15 00:00:00\n",
      "Bought  3   BIIB with time to approval  -8 at  2021-10-15 00:00:00\n",
      "Sold  93   CHNG with time to approval  -9 at  2021-10-22 00:00:00\n",
      "Bought  187   CMRX with time to approval  -3 at  2021-10-22 00:00:00\n",
      "Bought  78   CARA with time to approval  -7 at  2021-10-22 00:00:00\n",
      "Sold  2   BGNE with time to approval  -14 at  2021-10-22 00:00:00\n",
      "Bought  249   AGEN with time to approval  3 at  2021-10-22 00:00:00\n",
      "Sold  78   CARA with time to approval  -12 at  2021-10-27 00:00:00\n",
      "Bought  173   GOL with time to approval  -5 at  2021-10-27 00:00:00\n",
      "Sold  3   BIIB with time to approval  -17 at  2021-11-05 00:00:00\n",
      "Bought  32   ZEAL with time to approval  -8 at  2021-11-05 00:00:00\n",
      "{'GOLD': 0, 'PFE': 0, 'NVS': 0, 'ABBV': 0, 'GILD': 0, 'ACOR': 0, 'MRK': 0, 'CTVA': 0, 'AQST': 0, 'REGN': 0, 'NATR': 0, 'INCY': 14, 'GTHX': 0, 'WNEB': 0, 'JAZZ': 0, 'AMRX': 0, 'BHC': 0, 'CCXI': 0, 'GSK': 0, 'LLY': 0, 'AZN': 0, 'VYNE': 675, 'EQRR': 0, 'OYST': 0, 'WEC': 11, 'TARO': 0, 'CHNG': 0, 'UTHR': 0, 'BGNE': 0, 'RDHL': 228, 'EMF': 0, 'CLSD': 375, 'ATNX': 350, 'CMRX': 359, 'AGEN': 430, 'BIIB': 0, 'CARA': 0, 'GOL': 173, 'ZEAL': 32}\n"
     ]
    },
    {
     "data": {
      "text/plain": [
       "3070.51966047287"
      ]
     },
     "execution_count": 396,
     "metadata": {},
     "output_type": "execute_result"
    }
   ],
   "source": [
    "#strategy: trade on a stock with only at most 2 buys and one sell using a threshold on the buy/sell indicators given by the model. sell by another threshold on the sell indicator. if we haven't sold by one month after the approval date, sell.\n",
    "#we allow for fractional amount of stocks, and purcahse $1000 worth of stocks each time. we assume a capital of 10k\n",
    "\n",
    "import math\n",
    "capital = 10000\n",
    "initial = capital\n",
    "results = model.predict(x_21)\n",
    "wager = 0.1\n",
    "\n",
    "decisions = [0, 0, 0]\n",
    "\n",
    "assets = {}\n",
    "bought = {}\n",
    "finalprices = {}\n",
    "\n",
    "for k in finaldf[\"Company\"]:\n",
    "    bought[k] = 0\n",
    "\n",
    "i = 0\n",
    "for a in results:\n",
    "    decision = 0\n",
    "    if a[0] < 0.28 and a[1] < 0.28:\n",
    "        decisions[2] += 1\n",
    "        decision = 2\n",
    "    else:\n",
    "        if a[0] > a[1]:\n",
    "            decisions[0] += 1\n",
    "            decision = 0\n",
    "        else:\n",
    "            decisions[1] += 1\n",
    "            decision = 1\n",
    "    \n",
    "    \n",
    "    \n",
    "    company = finaldf[\"Company\"].iloc[i]\n",
    "    \n",
    "    #if i!= 10251 company not in finaldf[\"Company\"].iloc[i+1,]:\n",
    "    #    decision = 0\n",
    "    \n",
    "    if decision == 0:\n",
    "        #sell\n",
    "        if company in assets:\n",
    "            if assets[company] > 0:\n",
    "                \n",
    "                capital += finaldf[\"close\"].iloc[i] * assets[company]\n",
    "                print(\"Sold \", assets[company], \" \", company, \"with time to approval \", finaldf[\"timetoapproval\"].iloc[i], \"at \", finaldf[\"Date\"].iloc[i])\n",
    "                \n",
    "                assets[company] -= assets[company]\n",
    "            #else:\n",
    "             #   print(\"Can't sell, no stocks\")\n",
    "        #else:\n",
    "            #print(\"Can't sell, no stocks\")\n",
    "    elif decision == 1:\n",
    "        #buy\n",
    "        if math.floor(wager * initial / finaldf[\"close\"].iloc[i]) * finaldf[\"close\"].iloc[i]  < capital and bought[company] < 2:\n",
    "            \n",
    "            \n",
    "            num = math.floor(wager * initial / finaldf[\"close\"].iloc[i])\n",
    "            capital -= finaldf[\"close\"].iloc[i] * num\n",
    "            if (capital < 0):\n",
    "                print(\"ERROR\")\n",
    "            if company in assets:\n",
    "                assets[company] += num\n",
    "            else:\n",
    "                assets[company] = num\n",
    "            print(\"Bought \", num, \" \", company, \"with time to approval \", finaldf[\"timetoapproval\"].iloc[i], \"at \", finaldf[\"Date\"].iloc[i])\n",
    "            if num != 0:\n",
    "                bought[company] += 1\n",
    "            \n",
    "    finalprices[company] = finaldf[\"close\"].iloc[i]\n",
    "    i += 1\n",
    "    \n",
    "print(assets)\n",
    "\n",
    "profit = capital - initial\n",
    "\n",
    "for k in assets:\n",
    "    profit += assets[k] * finalprices[k]\n",
    "profit"
   ]
  },
  {
   "cell_type": "code",
   "execution_count": null,
   "metadata": {
    "id": "IekQoYVeD4dd"
   },
   "outputs": [],
   "source": []
  },
  {
   "cell_type": "code",
   "execution_count": null,
   "metadata": {
    "id": "KlwIHG-sD4dd"
   },
   "outputs": [],
   "source": []
  }
 ],
 "metadata": {
  "colab": {
   "collapsed_sections": [],
   "include_colab_link": true,
   "name": "BioTech_Notebook.ipynb",
   "provenance": []
  },
  "kernelspec": {
   "display_name": "Python 3 (ipykernel)",
   "language": "python",
   "name": "python3"
  },
  "language_info": {
   "codemirror_mode": {
    "name": "ipython",
    "version": 3
   },
   "file_extension": ".py",
   "mimetype": "text/x-python",
   "name": "python",
   "nbconvert_exporter": "python",
   "pygments_lexer": "ipython3",
   "version": "3.9.6"
  }
 },
 "nbformat": 4,
 "nbformat_minor": 1
}
